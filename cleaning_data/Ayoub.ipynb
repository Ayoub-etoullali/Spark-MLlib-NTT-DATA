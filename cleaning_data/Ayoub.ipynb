{
 "cells": [
  {
   "cell_type": "code",
   "execution_count": 1,
   "id": "cd75c273",
   "metadata": {},
   "outputs": [],
   "source": [
    "from pyspark.sql import SparkSession\n",
    "from pyspark.sql.functions import col, when"
   ]
  },
  {
   "cell_type": "code",
   "execution_count": 2,
   "id": "5e3c96d8",
   "metadata": {},
   "outputs": [],
   "source": [
    "# Create a Spark session\n",
    "spark = SparkSession.builder.appName(\"DataCleaning\").getOrCreate()"
   ]
  },
  {
   "cell_type": "code",
   "execution_count": 3,
   "id": "ede0b48a",
   "metadata": {},
   "outputs": [
    {
     "ename": "AnalysisException",
     "evalue": "[PATH_NOT_FOUND] Path does not exist: file:/C:/Users/ayoub/Documents/Ayoub/Stage PFA/Spark MLlib/Airbnb-project/cleaning_data/data/cleaned_data2.csv.",
     "output_type": "error",
     "traceback": [
      "\u001b[1;31m---------------------------------------------------------------------------\u001b[0m",
      "\u001b[1;31mAnalysisException\u001b[0m                         Traceback (most recent call last)",
      "Cell \u001b[1;32mIn[3], line 2\u001b[0m\n\u001b[0;32m      1\u001b[0m \u001b[38;5;66;03m# Load your dataset\u001b[39;00m\n\u001b[1;32m----> 2\u001b[0m train_user_df \u001b[38;5;241m=\u001b[39m \u001b[43mspark\u001b[49m\u001b[38;5;241;43m.\u001b[39;49m\u001b[43mread\u001b[49m\u001b[38;5;241;43m.\u001b[39;49m\u001b[43mcsv\u001b[49m\u001b[43m(\u001b[49m\u001b[38;5;124;43m'\u001b[39;49m\u001b[38;5;124;43mdata/cleaned_data2.csv\u001b[39;49m\u001b[38;5;124;43m'\u001b[39;49m\u001b[43m,\u001b[49m\u001b[43m \u001b[49m\u001b[43mheader\u001b[49m\u001b[38;5;241;43m=\u001b[39;49m\u001b[38;5;28;43;01mTrue\u001b[39;49;00m\u001b[43m,\u001b[49m\u001b[43m \u001b[49m\u001b[43minferSchema\u001b[49m\u001b[38;5;241;43m=\u001b[39;49m\u001b[38;5;28;43;01mTrue\u001b[39;49;00m\u001b[43m)\u001b[49m\n\u001b[0;32m      3\u001b[0m train_user \u001b[38;5;241m=\u001b[39m train_user_df\u001b[38;5;241m.\u001b[39mtoPandas()\n",
      "File \u001b[1;32m~\\anaconda3\\lib\\site-packages\\pyspark\\sql\\readwriter.py:727\u001b[0m, in \u001b[0;36mDataFrameReader.csv\u001b[1;34m(self, path, schema, sep, encoding, quote, escape, comment, header, inferSchema, ignoreLeadingWhiteSpace, ignoreTrailingWhiteSpace, nullValue, nanValue, positiveInf, negativeInf, dateFormat, timestampFormat, maxColumns, maxCharsPerColumn, maxMalformedLogPerPartition, mode, columnNameOfCorruptRecord, multiLine, charToEscapeQuoteEscaping, samplingRatio, enforceSchema, emptyValue, locale, lineSep, pathGlobFilter, recursiveFileLookup, modifiedBefore, modifiedAfter, unescapedQuoteHandling)\u001b[0m\n\u001b[0;32m    725\u001b[0m \u001b[38;5;28;01mif\u001b[39;00m \u001b[38;5;28mtype\u001b[39m(path) \u001b[38;5;241m==\u001b[39m \u001b[38;5;28mlist\u001b[39m:\n\u001b[0;32m    726\u001b[0m     \u001b[38;5;28;01massert\u001b[39;00m \u001b[38;5;28mself\u001b[39m\u001b[38;5;241m.\u001b[39m_spark\u001b[38;5;241m.\u001b[39m_sc\u001b[38;5;241m.\u001b[39m_jvm \u001b[38;5;129;01mis\u001b[39;00m \u001b[38;5;129;01mnot\u001b[39;00m \u001b[38;5;28;01mNone\u001b[39;00m\n\u001b[1;32m--> 727\u001b[0m     \u001b[38;5;28;01mreturn\u001b[39;00m \u001b[38;5;28mself\u001b[39m\u001b[38;5;241m.\u001b[39m_df(\u001b[38;5;28;43mself\u001b[39;49m\u001b[38;5;241;43m.\u001b[39;49m\u001b[43m_jreader\u001b[49m\u001b[38;5;241;43m.\u001b[39;49m\u001b[43mcsv\u001b[49m\u001b[43m(\u001b[49m\u001b[38;5;28;43mself\u001b[39;49m\u001b[38;5;241;43m.\u001b[39;49m\u001b[43m_spark\u001b[49m\u001b[38;5;241;43m.\u001b[39;49m\u001b[43m_sc\u001b[49m\u001b[38;5;241;43m.\u001b[39;49m\u001b[43m_jvm\u001b[49m\u001b[38;5;241;43m.\u001b[39;49m\u001b[43mPythonUtils\u001b[49m\u001b[38;5;241;43m.\u001b[39;49m\u001b[43mtoSeq\u001b[49m\u001b[43m(\u001b[49m\u001b[43mpath\u001b[49m\u001b[43m)\u001b[49m\u001b[43m)\u001b[49m)\n\u001b[0;32m    728\u001b[0m \u001b[38;5;28;01melif\u001b[39;00m \u001b[38;5;28misinstance\u001b[39m(path, RDD):\n\u001b[0;32m    730\u001b[0m     \u001b[38;5;28;01mdef\u001b[39;00m \u001b[38;5;21mfunc\u001b[39m(iterator):\n",
      "File \u001b[1;32m~\\anaconda3\\lib\\site-packages\\py4j\\java_gateway.py:1322\u001b[0m, in \u001b[0;36mJavaMember.__call__\u001b[1;34m(self, *args)\u001b[0m\n\u001b[0;32m   1316\u001b[0m command \u001b[38;5;241m=\u001b[39m proto\u001b[38;5;241m.\u001b[39mCALL_COMMAND_NAME \u001b[38;5;241m+\u001b[39m\\\n\u001b[0;32m   1317\u001b[0m     \u001b[38;5;28mself\u001b[39m\u001b[38;5;241m.\u001b[39mcommand_header \u001b[38;5;241m+\u001b[39m\\\n\u001b[0;32m   1318\u001b[0m     args_command \u001b[38;5;241m+\u001b[39m\\\n\u001b[0;32m   1319\u001b[0m     proto\u001b[38;5;241m.\u001b[39mEND_COMMAND_PART\n\u001b[0;32m   1321\u001b[0m answer \u001b[38;5;241m=\u001b[39m \u001b[38;5;28mself\u001b[39m\u001b[38;5;241m.\u001b[39mgateway_client\u001b[38;5;241m.\u001b[39msend_command(command)\n\u001b[1;32m-> 1322\u001b[0m return_value \u001b[38;5;241m=\u001b[39m \u001b[43mget_return_value\u001b[49m\u001b[43m(\u001b[49m\n\u001b[0;32m   1323\u001b[0m \u001b[43m    \u001b[49m\u001b[43manswer\u001b[49m\u001b[43m,\u001b[49m\u001b[43m \u001b[49m\u001b[38;5;28;43mself\u001b[39;49m\u001b[38;5;241;43m.\u001b[39;49m\u001b[43mgateway_client\u001b[49m\u001b[43m,\u001b[49m\u001b[43m \u001b[49m\u001b[38;5;28;43mself\u001b[39;49m\u001b[38;5;241;43m.\u001b[39;49m\u001b[43mtarget_id\u001b[49m\u001b[43m,\u001b[49m\u001b[43m \u001b[49m\u001b[38;5;28;43mself\u001b[39;49m\u001b[38;5;241;43m.\u001b[39;49m\u001b[43mname\u001b[49m\u001b[43m)\u001b[49m\n\u001b[0;32m   1325\u001b[0m \u001b[38;5;28;01mfor\u001b[39;00m temp_arg \u001b[38;5;129;01min\u001b[39;00m temp_args:\n\u001b[0;32m   1326\u001b[0m     \u001b[38;5;28;01mif\u001b[39;00m \u001b[38;5;28mhasattr\u001b[39m(temp_arg, \u001b[38;5;124m\"\u001b[39m\u001b[38;5;124m_detach\u001b[39m\u001b[38;5;124m\"\u001b[39m):\n",
      "File \u001b[1;32m~\\anaconda3\\lib\\site-packages\\pyspark\\errors\\exceptions\\captured.py:175\u001b[0m, in \u001b[0;36mcapture_sql_exception.<locals>.deco\u001b[1;34m(*a, **kw)\u001b[0m\n\u001b[0;32m    171\u001b[0m converted \u001b[38;5;241m=\u001b[39m convert_exception(e\u001b[38;5;241m.\u001b[39mjava_exception)\n\u001b[0;32m    172\u001b[0m \u001b[38;5;28;01mif\u001b[39;00m \u001b[38;5;129;01mnot\u001b[39;00m \u001b[38;5;28misinstance\u001b[39m(converted, UnknownException):\n\u001b[0;32m    173\u001b[0m     \u001b[38;5;66;03m# Hide where the exception came from that shows a non-Pythonic\u001b[39;00m\n\u001b[0;32m    174\u001b[0m     \u001b[38;5;66;03m# JVM exception message.\u001b[39;00m\n\u001b[1;32m--> 175\u001b[0m     \u001b[38;5;28;01mraise\u001b[39;00m converted \u001b[38;5;28;01mfrom\u001b[39;00m \u001b[38;5;28mNone\u001b[39m\n\u001b[0;32m    176\u001b[0m \u001b[38;5;28;01melse\u001b[39;00m:\n\u001b[0;32m    177\u001b[0m     \u001b[38;5;28;01mraise\u001b[39;00m\n",
      "\u001b[1;31mAnalysisException\u001b[0m: [PATH_NOT_FOUND] Path does not exist: file:/C:/Users/ayoub/Documents/Ayoub/Stage PFA/Spark MLlib/Airbnb-project/cleaning_data/data/cleaned_data2.csv."
     ]
    }
   ],
   "source": [
    "# Load your dataset\n",
    "train_user_df = spark.read.csv('data/cleaned_data2.csv', header=True, inferSchema=True)\n",
    "train_user = train_user_df.toPandas()"
   ]
  },
  {
   "cell_type": "code",
   "execution_count": null,
   "id": "f62b54b3",
   "metadata": {},
   "outputs": [],
   "source": [
    "import seaborn as sns\n",
    "import matplotlib.pyplot as plt\n",
    "\n",
    "sns.countplot(x='language', data=train_user)\n",
    "plt.title(\"Language\", size=13);"
   ]
  },
  {
   "cell_type": "code",
   "execution_count": null,
   "id": "cf3e3f07",
   "metadata": {},
   "outputs": [],
   "source": [
    "plt.subplots(figsize=(12,8 )) #is used to adjust the size of the plot before creating any visualizations. It specifies the dimensions of the plot in inches (width, height). \n",
    "sns.countplot(y='affiliate_channel', data=train_user ,color = 'blue')\n",
    "plt.title(\"affiliate Channel : what kind of paid marketing\", size=13);"
   ]
  },
  {
   "cell_type": "code",
   "execution_count": null,
   "id": "39abc27c",
   "metadata": {},
   "outputs": [],
   "source": [
    "plt.subplots(figsize=(12,8 )) #is used to adjust the size of the plot before creating any visualizations. It specifies the dimensions of the plot in inches (width, height). \n",
    "sns.countplot(y='affiliate_provider', data=train_user ,color = 'blue')\n",
    "plt.title(\"affiliate_provider: where the marketing is e.g. google, craigslist, other\", size=13);"
   ]
  },
  {
   "cell_type": "code",
   "execution_count": null,
   "id": "be14faa2",
   "metadata": {
    "scrolled": true
   },
   "outputs": [],
   "source": [
    "plt.subplots(figsize=(12, 8))\n",
    "sns.countplot(y='first_affiliate_tracked', data=train_user, color='blue')\n",
    "plt.title(\"first_affiliate_tracked: what's the first marketing the user interacted with before signing up\", size=13)"
   ]
  },
  {
   "cell_type": "code",
   "execution_count": null,
   "id": "1065aa92",
   "metadata": {},
   "outputs": [],
   "source": [
    "train_user = train_user_df.toPandas()\n",
    "\n",
    "# Test if values in the 'first_affiliate_tracked' column are null\n",
    "null_count = train_user[\"first_affiliate_tracked\"].isnull().sum()\n",
    "\n",
    "print(\"Number of null values in 'first_affiliate_tracked':\", null_count)"
   ]
  },
  {
   "cell_type": "code",
   "execution_count": null,
   "id": "4b07750a",
   "metadata": {},
   "outputs": [],
   "source": [
    "# Calculate the mode of the column\n",
    "mode_value = train_user_df.groupBy(\"first_affiliate_tracked\").count().orderBy(col(\"count\").desc()).first()[\"first_affiliate_tracked\"]\n",
    "\n",
    "# Impute missing values with the mode\n",
    "train_user = train_user.fillna({\"first_affiliate_tracked\": mode_value})\n",
    "\n",
    "# Save the cleaned dataset to a new CSV file\n",
    "# train_user.to_csv(\"data/train_user.csv\", index=False)"
   ]
  },
  {
   "cell_type": "code",
   "execution_count": null,
   "id": "bb8e19c7",
   "metadata": {},
   "outputs": [],
   "source": [
    "# Test if values in the 'first_affiliate_tracked' column are null\n",
    "null_count = train_user[\"first_affiliate_tracked\"].isnull().sum()\n",
    "\n",
    "print(\"Number of null values in 'first_affiliate_tracked':\", null_count)"
   ]
  },
  {
   "cell_type": "code",
   "execution_count": null,
   "id": "cfd30094",
   "metadata": {},
   "outputs": [],
   "source": [
    "plt.subplots(figsize=(12, 8))\n",
    "sns.countplot(y='first_affiliate_tracked', data=train_user, color='blue')\n",
    "plt.title(\"first_affiliate_tracked: what's the first marketing the user interacted with before signing up\", size=13)"
   ]
  },
  {
   "cell_type": "code",
   "execution_count": null,
   "id": "3bd9043a",
   "metadata": {},
   "outputs": [],
   "source": [
    "sns.countplot(x='signup_app', data=train_user)\n",
    "plt.title(\"Signup App\", size=13);"
   ]
  },
  {
   "cell_type": "code",
   "execution_count": null,
   "id": "0ada8974",
   "metadata": {},
   "outputs": [],
   "source": [
    "plt.subplots(figsize=(12, 8))\n",
    "sns.countplot(y='first_device_type', data=train_user, color='blue')\n",
    "plt.title(\"First Device Type\", size=13)"
   ]
  },
  {
   "cell_type": "code",
   "execution_count": null,
   "id": "d6d5208a",
   "metadata": {},
   "outputs": [],
   "source": [
    "plt.subplots(figsize=(12, 8))\n",
    "sns.countplot(y='first_browser', data=train_user, color='blue')\n",
    "plt.title(\"First Browser\", size=13)"
   ]
  },
  {
   "cell_type": "code",
   "execution_count": null,
   "id": "e82f9f45",
   "metadata": {},
   "outputs": [],
   "source": [
    "plt.subplots(figsize=(12, 8))\n",
    "sns.countplot(y='country_destination', data=train_user, color='blue')\n",
    "plt.title(\"Country Destination\", size=13)"
   ]
  },
  {
   "cell_type": "code",
   "execution_count": null,
   "id": "71cd6b16",
   "metadata": {},
   "outputs": [],
   "source": [
    "# Remove rows with 'NDF' in the 'country_destination' column\n",
    "train_user = train_user[train_user['country_destination'] != 'NDF']\n",
    "\n",
    "# Save the cleaned dataset to a new CSV file\n",
    "train_user.to_csv(\"data/train_user.csv\", index=False)"
   ]
  },
  {
   "cell_type": "code",
   "execution_count": null,
   "id": "bfbeef52",
   "metadata": {},
   "outputs": [],
   "source": [
    "plt.subplots(figsize=(12, 8))\n",
    "sns.countplot(y='country_destination', data=train_user, color='blue')\n",
    "plt.title(\"Country Destination\", size=13)"
   ]
  },
  {
   "cell_type": "code",
   "execution_count": null,
   "id": "9197e5ac",
   "metadata": {},
   "outputs": [],
   "source": [
    "# Stop the Spark session\n",
    "spark.stop()"
   ]
  },
  {
   "cell_type": "code",
   "execution_count": null,
   "id": "cfdfa229",
   "metadata": {},
   "outputs": [],
   "source": []
  }
 ],
 "metadata": {
  "kernelspec": {
   "display_name": "Python 3 (ipykernel)",
   "language": "python",
   "name": "python3"
  },
  "language_info": {
   "codemirror_mode": {
    "name": "ipython",
    "version": 3
   },
   "file_extension": ".py",
   "mimetype": "text/x-python",
   "name": "python",
   "nbconvert_exporter": "python",
   "pygments_lexer": "ipython3",
   "version": "3.10.9"
  }
 },
 "nbformat": 4,
 "nbformat_minor": 5
}
