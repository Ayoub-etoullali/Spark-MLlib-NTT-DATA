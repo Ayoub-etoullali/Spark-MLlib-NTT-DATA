{
 "cells": [
  {
   "cell_type": "markdown",
   "id": "9d6719da",
   "metadata": {},
   "source": [
    "# Load & Info"
   ]
  },
  {
   "cell_type": "code",
   "execution_count": null,
   "id": "aca55f03",
   "metadata": {},
   "outputs": [],
   "source": [
    "import pandas as pd\n",
    "import numpy as np\n",
    "\n",
    "# Load the sessions dataset\n",
    "sessions = pd.read_csv('../data/sessions.csv')\n",
    "train_user = pd.read_csv('../data/train_user1.csv')"
   ]
  },
  {
   "cell_type": "code",
   "execution_count": null,
   "id": "0d3b00d1",
   "metadata": {},
   "outputs": [],
   "source": [
    "# Explore the dataset\n",
    "print(sessions.head())"
   ]
  },
  {
   "cell_type": "code",
   "execution_count": null,
   "id": "3951d3f4",
   "metadata": {},
   "outputs": [],
   "source": [
    "print(sessions.info())"
   ]
  },
  {
   "cell_type": "markdown",
   "id": "43a0a034",
   "metadata": {},
   "source": [
    "# Count Occurrences"
   ]
  },
  {
   "cell_type": "code",
   "execution_count": null,
   "id": "71c0fdb5",
   "metadata": {},
   "outputs": [],
   "source": [
    "total_actions = len(sessions)\n",
    "print(\"Total Number of Actions:\", total_actions)"
   ]
  },
  {
   "cell_type": "code",
   "execution_count": null,
   "id": "e3c6ef27",
   "metadata": {},
   "outputs": [],
   "source": [
    "# Group by 'action' column and count occurrences\n",
    "action_counts = sessions[\"action\"].count()\n",
    "\n",
    "# Show the action counts\n",
    "action_counts"
   ]
  },
  {
   "cell_type": "code",
   "execution_count": null,
   "id": "126bee19",
   "metadata": {},
   "outputs": [],
   "source": [
    "sessions['action'].value_counts().sum()"
   ]
  },
  {
   "cell_type": "code",
   "execution_count": null,
   "id": "d7fc9c44",
   "metadata": {},
   "outputs": [],
   "source": [
    "sessions['action'].value_counts().head(50)"
   ]
  },
  {
   "cell_type": "markdown",
   "id": "09311bb1",
   "metadata": {},
   "source": [
    "# Number of Action"
   ]
  },
  {
   "cell_type": "code",
   "execution_count": null,
   "id": "3e32dc15",
   "metadata": {},
   "outputs": [],
   "source": [
    "unique_actions = sessions['action'].nunique()\n",
    "print(\"Number of Unique Action Types:\", unique_actions)"
   ]
  },
  {
   "cell_type": "code",
   "execution_count": null,
   "id": "22b72a5d",
   "metadata": {},
   "outputs": [],
   "source": [
    "import seaborn as sns\n",
    "import matplotlib.pyplot as plt\n",
    "\n",
    "# # Get the top 15 actions\n",
    "# top_actions = sessions['action'].value_counts()\n",
    "\n",
    "# plt.subplots(figsize=(50, 50))\n",
    "# sns.barplot(y=top_actions.index, x=top_actions.values)\n",
    "# plt.title(\"Top 50 Actions in Sessions\", size=15)\n",
    "# plt.xlabel(\"Count\", size=12)\n",
    "# plt.ylabel(\"Action\", size=12)\n",
    "# plt.show()"
   ]
  },
  {
   "cell_type": "code",
   "execution_count": null,
   "id": "7cb2b8b3",
   "metadata": {},
   "outputs": [],
   "source": [
    "top_actions = sessions['action'].value_counts().head(1).index.tolist()\n",
    "filtered_sessions = sessions[sessions['action'].isin(top_actions)]\n",
    "\n",
    "filtered_sessions"
   ]
  },
  {
   "cell_type": "code",
   "execution_count": null,
   "id": "68907051",
   "metadata": {},
   "outputs": [],
   "source": [
    "# filtered_sessions.to_csv('filtered_sessions.csv',index=False)"
   ]
  },
  {
   "cell_type": "markdown",
   "id": "a5cd2758",
   "metadata": {},
   "source": [
    "# Take the most frequent action of the user"
   ]
  },
  {
   "cell_type": "code",
   "execution_count": null,
   "id": "0e7b53ae",
   "metadata": {},
   "outputs": [],
   "source": [
    "# import pandas as pd\n",
    "\n",
    "# # Group by user_id and calculate the mode of action for each user\n",
    "# most_frequent_actions = sessions.groupby('user_id')['action'].apply(lambda x: x.mode()[0] if len(x.mode()) > 0 else None).reset_index()\n",
    "\n",
    "# # Rename columns\n",
    "# most_frequent_actions.columns = ['user_id', 'most_frequent_action']\n",
    "\n",
    "# # Display the result\n",
    "# print(most_frequent_actions)"
   ]
  },
  {
   "cell_type": "markdown",
   "id": "4074fe41",
   "metadata": {},
   "source": [
    "# Take the most frequent action of the user (1)"
   ]
  },
  {
   "cell_type": "code",
   "execution_count": null,
   "id": "082f449c",
   "metadata": {},
   "outputs": [],
   "source": [
    "import pandas as pd\n",
    "\n",
    "# Group by user_id and calculate the mode of action for each user\n",
    "most_frequent_action = sessions.groupby('user_id')['action'].apply(lambda x: x.mode()[0] if len(x.mode()) > 0 else None).reset_index()\n",
    "most_frequent_action_type = sessions.groupby('user_id')['action_type'].apply(lambda x: x.mode()[0] if len(x.mode()) > 0 else None).reset_index()\n",
    "most_frequent_action_detail = sessions.groupby('user_id')['action_detail'].apply(lambda x: x.mode()[0] if len(x.mode()) > 0 else None).reset_index()\n",
    "most_frequent_device_type = sessions.groupby('user_id')['device_type'].apply(lambda x: x.mode()[0] if len(x.mode()) > 0 else None).reset_index()\n",
    "most_frequent_secs_elapsed = sessions.groupby('user_id')['secs_elapsed'].apply(lambda x: x.mode()[0] if len(x.mode()) > 0 else None).reset_index()\n",
    "\n",
    "# Rename columns\n",
    "most_frequent_action.columns = ['user_id', 'most_frequent_action']\n",
    "most_frequent_action_type.columns = ['user_id', 'most_frequent_action_type']\n",
    "most_frequent_action_detail.columns = ['user_id', 'most_frequent_action_detail']\n",
    "most_frequent_device_type.columns = ['user_id', 'most_frequent_device_type']\n",
    "most_frequent_secs_elapsed.columns = ['user_id', 'most_frequent_secs_elapsed']\n",
    "\n",
    "data1 = most_frequent_action.merge(most_frequent_action_type, left_on='user_id', right_on='user_id', how='inner')\n",
    "data2 = data1.merge(most_frequent_action_detail, left_on='user_id', right_on='user_id', how='inner')\n",
    "data3 = data2.merge(most_frequent_device_type, left_on='user_id', right_on='user_id', how='inner')\n",
    "most_frequent_actions = data3.merge(most_frequent_secs_elapsed, left_on='user_id', right_on='user_id', how='inner')\n",
    "\n",
    "# Display the result\n",
    "print(most_frequent_actions)"
   ]
  },
  {
   "cell_type": "code",
   "execution_count": null,
   "id": "0b85964e",
   "metadata": {
    "scrolled": true
   },
   "outputs": [],
   "source": [
    "#Checking null values\n",
    "most_frequent_actions.isnull().sum()"
   ]
  },
  {
   "cell_type": "code",
   "execution_count": null,
   "id": "4af63f78",
   "metadata": {},
   "outputs": [],
   "source": [
    "mode_value1 = most_frequent_actions['most_frequent_action'].mode()[0]\n",
    "mode_value2 = most_frequent_actions['most_frequent_action_type'].mode()[0]\n",
    "mode_value3 = most_frequent_actions['most_frequent_action_detail'].mode()[0]\n",
    "mode_value4 = most_frequent_actions['most_frequent_secs_elapsed'].mode()[0]\n",
    "\n",
    "# Impute missing values with the mode\n",
    "most_frequent_actions['most_frequent_action'].fillna(mode_value1, inplace=True)\n",
    "most_frequent_actions['most_frequent_action_type'].fillna(mode_value2, inplace=True)\n",
    "most_frequent_actions['most_frequent_action_detail'].fillna(mode_value3, inplace=True)\n",
    "most_frequent_actions['most_frequent_secs_elapsed'].fillna(mode_value4, inplace=True)"
   ]
  },
  {
   "cell_type": "code",
   "execution_count": null,
   "id": "4675eed5",
   "metadata": {},
   "outputs": [],
   "source": [
    "# # Assuming most_frequent_actions is the DataFrame containing user_id and most_frequent_action\n",
    "# # Calculate the frequency of each action type\n",
    "# action_frequency = most_frequent_actions['most_frequent_action'].value_counts()\n",
    "\n",
    "# # Sort actions by frequency in descending order\n",
    "# sorted_actions = action_frequency.index\n",
    "\n",
    "# plt.subplots(figsize=(100, 100))\n",
    "# sns.countplot(y='most_frequent_action', data=most_frequent_actions, order=sorted_actions)\n",
    "# plt.title(\"Most Frequent Actions\", size=13)\n",
    "# plt.show()"
   ]
  },
  {
   "cell_type": "code",
   "execution_count": null,
   "id": "b24fd21e",
   "metadata": {},
   "outputs": [],
   "source": [
    "most_frequent_actions.to_csv('../data/most_frequent_actions.csv',index=False)"
   ]
  },
  {
   "cell_type": "markdown",
   "id": "ed81e5de",
   "metadata": {},
   "source": [
    "# Cleaning"
   ]
  },
  {
   "cell_type": "code",
   "execution_count": null,
   "id": "2c76f65c",
   "metadata": {},
   "outputs": [],
   "source": [
    "print(sessions.shape)\n",
    "\n",
    "sessions = sessions.dropna(subset = ['user_id'])\n",
    "\n",
    "print(sessions.shape)"
   ]
  },
  {
   "cell_type": "code",
   "execution_count": null,
   "id": "ebf6efb1",
   "metadata": {},
   "outputs": [],
   "source": [
    "sessions['user_id'].nunique()"
   ]
  },
  {
   "cell_type": "code",
   "execution_count": null,
   "id": "1944de5e",
   "metadata": {},
   "outputs": [],
   "source": [
    "sessions['device_type'].unique()"
   ]
  },
  {
   "cell_type": "code",
   "execution_count": null,
   "id": "9e571542",
   "metadata": {},
   "outputs": [],
   "source": [
    "#https://stackoverflow.com/questions/34776651/concatenate-rows-of-pandas-dataframe-with-same-id\n",
    "\n",
    "session_df_concat = sessions.groupby('user_id', as_index=False).agg(lambda x: x.tolist())\n",
    "\n",
    "print(session_df_concat.shape)\n",
    "\n",
    "session_df_concat.head()"
   ]
  },
  {
   "cell_type": "code",
   "execution_count": null,
   "id": "a94aa06d",
   "metadata": {},
   "outputs": [],
   "source": [
    "# Function to convert list into strings\n",
    "\n",
    "import re\n",
    "\n",
    "def abcd(action):\n",
    "    \n",
    "    \"\"\"\n",
    "    Function to convert list into strings\n",
    "    \n",
    "    parameters: action \n",
    "    \n",
    "    returns : action  \n",
    "    \n",
    "    \"\"\"\n",
    "    action = [ str(i) for i in action ]\n",
    "    \n",
    "    action = [ re.sub('nan','',i) for i in action ] \n",
    "    \n",
    "    action = ','.join(action)\n",
    "    \n",
    "    return action"
   ]
  },
  {
   "cell_type": "code",
   "execution_count": null,
   "id": "75a6bc76",
   "metadata": {},
   "outputs": [],
   "source": [
    "session_df_concat['action'] = session_df_concat['action'].apply(abcd)\n",
    "\n",
    "session_df_concat['action'].head()"
   ]
  },
  {
   "cell_type": "code",
   "execution_count": null,
   "id": "74f6a68b",
   "metadata": {},
   "outputs": [],
   "source": [
    "session_df_concat['action_type'] = session_df_concat['action_type'].apply(abcd)\n",
    "\n",
    "session_df_concat['action_type'].head()"
   ]
  },
  {
   "cell_type": "code",
   "execution_count": null,
   "id": "60bfa15f",
   "metadata": {},
   "outputs": [],
   "source": [
    "session_df_concat['action_detail'] = session_df_concat['action_detail'].apply(abcd)\n",
    "\n",
    "session_df_concat['action_detail'].head()"
   ]
  },
  {
   "cell_type": "code",
   "execution_count": null,
   "id": "0cc586a3",
   "metadata": {},
   "outputs": [],
   "source": [
    "# Function to convert list into strings\n",
    "\n",
    "def efgh(device):\n",
    "    \n",
    "    \"\"\"\n",
    "    Function to convert list into strings\n",
    "    \n",
    "    parameters: device \n",
    "    \n",
    "    returns : device  \n",
    "    \n",
    "    \"\"\"\n",
    "    \n",
    "    device = [ str(i) for i in device ]\n",
    "    \n",
    "    device = [ re.sub('nan','',i) for i in device ] \n",
    "                \n",
    "    device = ','.join(set(device))\n",
    "    \n",
    "    return device"
   ]
  },
  {
   "cell_type": "code",
   "execution_count": null,
   "id": "e4146578",
   "metadata": {},
   "outputs": [],
   "source": [
    "session_df_concat['device_type'] = session_df_concat['device_type'].apply(efgh)\n",
    "\n",
    "session_df_concat['device_type'].head()"
   ]
  },
  {
   "cell_type": "code",
   "execution_count": null,
   "id": "de4347c7",
   "metadata": {},
   "outputs": [],
   "source": [
    "# Function to convert list into strings\n",
    "\n",
    "def ijkl(time):\n",
    "    \n",
    "    \"\"\"\n",
    "    Function to convert list into strings\n",
    "    \n",
    "    parameters: time \n",
    "    \n",
    "    returns : time  \n",
    "    \n",
    "    \"\"\"\n",
    "    \n",
    "    float_time = []\n",
    "    \n",
    "    time = [ str(i) for i in time ]\n",
    "    \n",
    "    time = [ re.sub('nan','',i) for i in time ] \n",
    "        \n",
    "    for i in time:\n",
    "        \n",
    "         try:\n",
    "                \n",
    "                float_time.append(float(i))\n",
    "         \n",
    "         except ValueError:\n",
    "                \n",
    "                continue\n",
    "    \n",
    "    float_time = sum(float_time)\n",
    "    \n",
    "    return float_time"
   ]
  },
  {
   "cell_type": "code",
   "execution_count": null,
   "id": "024b6dab",
   "metadata": {},
   "outputs": [],
   "source": [
    "session_df_concat['secs_elapsed'] = session_df_concat['secs_elapsed'].apply(ijkl)\n",
    "\n",
    "session_df_concat['secs_elapsed'].head()"
   ]
  },
  {
   "cell_type": "code",
   "execution_count": null,
   "id": "cae92455",
   "metadata": {},
   "outputs": [],
   "source": [
    "print(session_df_concat.shape)\n",
    "\n",
    "session_df_concat.head()"
   ]
  },
  {
   "cell_type": "markdown",
   "id": "e7aec503",
   "metadata": {},
   "source": [
    "## Join train and session df"
   ]
  },
  {
   "cell_type": "code",
   "execution_count": null,
   "id": "52540041",
   "metadata": {},
   "outputs": [],
   "source": [
    "train_merge = train_user.merge(most_frequent_actions, left_on='id', right_on='user_id', how='inner')\n",
    "\n",
    "print(\"Train  :\",train_user.shape)\n",
    "\n",
    "print(\"Session:\",most_frequent_actions.shape)\n",
    "\n",
    "print(\"Merge  :\",train_merge.shape)\n",
    "\n",
    "print(\"No of users in Train Data with session info:\",train_merge.shape[0])\n",
    "\n",
    "print(\"{} / {} = {}\".format(train_merge.shape[0],train_user.shape[0],np.round((train_merge.shape[0]/train_user.shape[0]),2)))"
   ]
  },
  {
   "cell_type": "code",
   "execution_count": null,
   "id": "07ccbd31",
   "metadata": {},
   "outputs": [],
   "source": [
    "print(train_merge.columns)\n",
    "\n",
    "train_merge.head()"
   ]
  },
  {
   "cell_type": "code",
   "execution_count": null,
   "id": "f1a951ca",
   "metadata": {},
   "outputs": [],
   "source": [
    "train_merge"
   ]
  },
  {
   "cell_type": "code",
   "execution_count": null,
   "id": "6d8d8a12",
   "metadata": {},
   "outputs": [],
   "source": [
    "#Checking null values\n",
    "train_merge.isnull().sum()"
   ]
  },
  {
   "cell_type": "markdown",
   "id": "57e55249",
   "metadata": {},
   "source": [
    "## Delete Missing Value"
   ]
  },
  {
   "cell_type": "code",
   "execution_count": null,
   "id": "fda1f682",
   "metadata": {},
   "outputs": [],
   "source": [
    "train_merge.dropna(subset=['most_frequent_action'], inplace=True)"
   ]
  },
  {
   "cell_type": "code",
   "execution_count": null,
   "id": "362d402a",
   "metadata": {},
   "outputs": [],
   "source": [
    "#Checking null values\n",
    "train_merge.isnull().sum()"
   ]
  },
  {
   "cell_type": "markdown",
   "id": "8ffa99c5",
   "metadata": {},
   "source": [
    "## Drop columns"
   ]
  },
  {
   "cell_type": "code",
   "execution_count": null,
   "id": "b42fc957",
   "metadata": {},
   "outputs": [],
   "source": [
    "train_merge = train_merge.drop(columns=['id','user_id'])"
   ]
  },
  {
   "cell_type": "code",
   "execution_count": null,
   "id": "084efbd0",
   "metadata": {},
   "outputs": [],
   "source": [
    "train_merge"
   ]
  },
  {
   "cell_type": "code",
   "execution_count": null,
   "id": "08ea615b",
   "metadata": {},
   "outputs": [],
   "source": [
    "# train_merge = train_merge.drop(['date_account_created','timestamp_first_active','date_first_booking'], axis=1)"
   ]
  },
  {
   "cell_type": "code",
   "execution_count": null,
   "id": "62d6a668",
   "metadata": {},
   "outputs": [],
   "source": [
    "# saving\n",
    "train_merge.to_csv('../data/train_merge.csv',index=False)"
   ]
  }
 ],
 "metadata": {
  "kernelspec": {
   "display_name": "Python 3 (ipykernel)",
   "language": "python",
   "name": "python3"
  },
  "language_info": {
   "codemirror_mode": {
    "name": "ipython",
    "version": 3
   },
   "file_extension": ".py",
   "mimetype": "text/x-python",
   "name": "python",
   "nbconvert_exporter": "python",
   "pygments_lexer": "ipython3",
   "version": "3.10.9"
  }
 },
 "nbformat": 4,
 "nbformat_minor": 5
}
