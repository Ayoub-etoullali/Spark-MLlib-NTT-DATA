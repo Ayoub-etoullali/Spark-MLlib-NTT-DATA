{
 "cells": [
  {
   "cell_type": "code",
   "execution_count": null,
   "id": "17dc062d",
   "metadata": {},
   "outputs": [],
   "source": [
    "import numpy as np\n",
    "import pandas as pd\n",
    "import matplotlib.pyplot as plt\n",
    "from sklearn.preprocessing import LabelEncoder\n",
    "from sklearn.preprocessing import StandardScaler\n",
    "import xgboost as xgb"
   ]
  },
  {
   "cell_type": "code",
   "execution_count": null,
   "id": "e27da9c3",
   "metadata": {},
   "outputs": [],
   "source": [
    "xtrain = pd.read_csv(\"Airbnb_xtrain_Version2.csv\",  index_col=0)\n",
    "ytrain = pd.read_csv(\"Airbnb_ytrainVersion2.csv\", header=None)\n",
    "xtrain.head()"
   ]
  },
  {
   "cell_type": "code",
   "execution_count": null,
   "id": "398bb426",
   "metadata": {},
   "outputs": [],
   "source": [
    "ytrain"
   ]
  },
  {
   "cell_type": "code",
   "execution_count": null,
   "id": "e02667ae",
   "metadata": {},
   "outputs": [],
   "source": [
    "ytrain_le = LabelEncoder().fit_transform(ytrain.values.ravel())\n",
    "ytrain_new = ytrain_le       # Encode label\n",
    "\n",
    "X_scaler = StandardScaler()\n",
    "xtrain_new = X_scaler.fit_transform(xtrain)  # Normalization"
   ]
  },
  {
   "cell_type": "code",
   "execution_count": null,
   "id": "3307128a",
   "metadata": {},
   "outputs": [],
   "source": [
    "pd.DataFrame(xtrain_new).to_csv(\"Airbnb_xtrain_v3.csv\")\n",
    "pd.DataFrame(ytrain_new).to_csv(\"Airb8nb_ytrain_v3.csv\")"
   ]
  },
  {
   "cell_type": "code",
   "execution_count": null,
   "id": "c13f4a25",
   "metadata": {},
   "outputs": [],
   "source": [
    "NUM_XGB = 30\n",
    "\n",
    "params = {'num_class': 12,\n",
    "          'eta':0.1,\n",
    "          'objective':'multi:softprob'}\n",
    "train_xgb = xgb.DMatrix(xtrain_new, label= ytrain_new)\n",
    "bst = xgb.train(params, train_xgb, NUM_XGB)\n"
   ]
  },
  {
   "cell_type": "code",
   "execution_count": null,
   "id": "07039627",
   "metadata": {},
   "outputs": [],
   "source": [
    "fig,ax = plt.subplots(figsize=(10,15))\n",
    "xgb.plot_importance(bst,height=0.3,ax=ax,max_num_features=50)\n",
    "plt.show()"
   ]
  },
  {
   "cell_type": "code",
   "execution_count": null,
   "id": "017d89a8",
   "metadata": {},
   "outputs": [],
   "source": [
    "fig.savefig('importance', dpi = 100)"
   ]
  },
  {
   "cell_type": "code",
   "execution_count": null,
   "id": "ef9fdaaf",
   "metadata": {},
   "outputs": [],
   "source": [
    "def ceate_feature_map(features):\n",
    "    outfile = open('xgb.fmap', 'w')\n",
    "    i = 0\n",
    "    for feat in features:\n",
    "        outfile.write('{0} \\t {1} \\t q \\n'.format(i, feat))\n",
    "        i = i + 1\n",
    "    outfile.close()\n"
   ]
  },
  {
   "cell_type": "code",
   "execution_count": null,
   "id": "75e18142",
   "metadata": {},
   "outputs": [],
   "source": [
    "import operator\n",
    "features = pd.DataFrame(xtrain_new).columns\n",
    "pd.DataFrame(xtrain_new).head()\n"
   ]
  },
  {
   "cell_type": "code",
   "execution_count": null,
   "id": "36512736",
   "metadata": {},
   "outputs": [],
   "source": [
    "ceate_feature_map(features)\n",
    " \n",
    "importance = bst.get_fscore(fmap='xgb.fmap')\n",
    "importance = sorted(importance.items(), key=operator.itemgetter(1), reverse=True)\n",
    " \n",
    "df = pd.DataFrame(importance, columns=['feature', 'fscore'])\n",
    "df['fscore'] = df['fscore'] / df['fscore'].sum()\n",
    "df.to_csv(\"feat_importance.csv\", index=False)"
   ]
  },
  {
   "cell_type": "code",
   "execution_count": null,
   "id": "c1d87d9e",
   "metadata": {},
   "outputs": [],
   "source": [
    "# select the most important n features\n",
    "df_selected=df.head(300)\n",
    "data_index = df_selected['feature'].tolist()\n",
    "feature_index = []\n",
    "for index in data_index:\n",
    "    int_index = int(index)\n",
    "    feature_index.append(int_index)\n",
    "print(feature_index)"
   ]
  },
  {
   "cell_type": "code",
   "execution_count": null,
   "id": "7face704",
   "metadata": {},
   "outputs": [],
   "source": [
    "xtest = pd.read_csv(\"Airbnb_xtest_Version2.csv\", index_col=0)\n",
    "xtest.head()"
   ]
  },
  {
   "cell_type": "code",
   "execution_count": null,
   "id": "4e0ede75",
   "metadata": {},
   "outputs": [],
   "source": [
    "xtrain_v4 = xtrain.iloc[:, feature_index]\n",
    "xtest_v4 = xtest.iloc[:, feature_index]\n",
    "xtrain_v4.to_csv(\"Airbnb_xtrain_v4.csv\")\n",
    "xtest_v4.to_csv(\"Airbnb_xtest_v4.csv\")"
   ]
  },
  {
   "cell_type": "code",
   "execution_count": null,
   "id": "cd8eb73c",
   "metadata": {},
   "outputs": [],
   "source": [
    "xtrain_v4.head()"
   ]
  },
  {
   "cell_type": "code",
   "execution_count": null,
   "id": "aa983a8a",
   "metadata": {},
   "outputs": [],
   "source": []
  },
  {
   "cell_type": "code",
   "execution_count": null,
   "id": "d85d131d",
   "metadata": {},
   "outputs": [],
   "source": []
  },
  {
   "cell_type": "code",
   "execution_count": null,
   "id": "08d15dae",
   "metadata": {},
   "outputs": [],
   "source": []
  }
 ],
 "metadata": {
  "kernelspec": {
   "display_name": "Python 3 (ipykernel)",
   "language": "python",
   "name": "python3"
  },
  "language_info": {
   "codemirror_mode": {
    "name": "ipython",
    "version": 3
   },
   "file_extension": ".py",
   "mimetype": "text/x-python",
   "name": "python",
   "nbconvert_exporter": "python",
   "pygments_lexer": "ipython3",
   "version": "3.10.9"
  }
 },
 "nbformat": 4,
 "nbformat_minor": 5
}
