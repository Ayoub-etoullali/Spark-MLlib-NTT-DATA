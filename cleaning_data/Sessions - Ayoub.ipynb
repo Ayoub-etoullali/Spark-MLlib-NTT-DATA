{
 "cells": [
  {
   "cell_type": "markdown",
   "id": "be7b0c5b",
   "metadata": {},
   "source": [
    "# Load & Info"
   ]
  },
  {
   "cell_type": "code",
   "execution_count": 1,
   "id": "f76c1882",
   "metadata": {},
   "outputs": [],
   "source": [
    "import pandas as pd\n",
    "import numpy as np\n",
    "\n",
    "# Load the sessions dataset\n",
    "sessions = pd.read_csv('../data/sessions.csv')\n",
    "train_user = pd.read_csv('../data/train_user.csv')"
   ]
  },
  {
   "cell_type": "code",
   "execution_count": null,
   "id": "161aab8c",
   "metadata": {},
   "outputs": [],
   "source": [
    "# Explore the dataset\n",
    "print(sessions.head())"
   ]
  },
  {
   "cell_type": "code",
   "execution_count": null,
   "id": "0bceccdf",
   "metadata": {},
   "outputs": [],
   "source": [
    "print(sessions.info())"
   ]
  },
  {
   "cell_type": "markdown",
   "id": "4dd16e91",
   "metadata": {},
   "source": [
    "# Count Occurrences"
   ]
  },
  {
   "cell_type": "code",
   "execution_count": null,
   "id": "d994cc3d",
   "metadata": {},
   "outputs": [],
   "source": [
    "total_actions = len(sessions)\n",
    "print(\"Total Number of Actions:\", total_actions)"
   ]
  },
  {
   "cell_type": "code",
   "execution_count": null,
   "id": "224f4a4b",
   "metadata": {},
   "outputs": [],
   "source": [
    "# Group by 'action' column and count occurrences\n",
    "action_counts = sessions[\"action\"].count()\n",
    "\n",
    "# Show the action counts\n",
    "action_counts"
   ]
  },
  {
   "cell_type": "code",
   "execution_count": null,
   "id": "1edb7cfb",
   "metadata": {},
   "outputs": [],
   "source": [
    "sessions['action'].value_counts().sum()"
   ]
  },
  {
   "cell_type": "code",
   "execution_count": null,
   "id": "3f7880b6",
   "metadata": {},
   "outputs": [],
   "source": [
    "sessions['action'].value_counts().head(50)"
   ]
  },
  {
   "cell_type": "markdown",
   "id": "f184b11f",
   "metadata": {},
   "source": [
    "# Number of Action"
   ]
  },
  {
   "cell_type": "code",
   "execution_count": null,
   "id": "088952e6",
   "metadata": {},
   "outputs": [],
   "source": [
    "unique_actions = sessions['action'].nunique()\n",
    "print(\"Number of Unique Action Types:\", unique_actions)"
   ]
  },
  {
   "cell_type": "code",
   "execution_count": null,
   "id": "1a2aa8ec",
   "metadata": {},
   "outputs": [],
   "source": [
    "import seaborn as sns\n",
    "import matplotlib.pyplot as plt\n",
    "\n",
    "# Get the top 15 actions\n",
    "top_actions = sessions['action'].value_counts().head(50)\n",
    "\n",
    "plt.subplots(figsize=(50, 50))\n",
    "sns.barplot(y=top_actions.index, x=top_actions.values)\n",
    "plt.title(\"Top 50 Actions in Sessions\", size=15)\n",
    "plt.xlabel(\"Count\", size=12)\n",
    "plt.ylabel(\"Action\", size=12)\n",
    "plt.show()"
   ]
  },
  {
   "cell_type": "code",
   "execution_count": null,
   "id": "cd33ba92",
   "metadata": {},
   "outputs": [],
   "source": [
    "top_actions = sessions['action'].value_counts().head(1).index.tolist()\n",
    "filtered_sessions = sessions[sessions['action'].isin(top_actions)]\n",
    "\n",
    "filtered_sessions"
   ]
  },
  {
   "cell_type": "code",
   "execution_count": null,
   "id": "a0bf38b2",
   "metadata": {},
   "outputs": [],
   "source": [
    "# filtered_sessions.to_csv('filtered_sessions.csv',index=False)"
   ]
  },
  {
   "cell_type": "code",
   "execution_count": null,
   "id": "d9e4fbc1",
   "metadata": {},
   "outputs": [],
   "source": [
    "plt.subplots(figsize=(10, 8))\n",
    "sns.countplot(y='action', data=filtered_sessions)\n",
    "plt.title(\"Top 50 Most Frequent Actions\", size=13)\n",
    "plt.show()"
   ]
  },
  {
   "cell_type": "markdown",
   "id": "65712843",
   "metadata": {},
   "source": [
    "# Take the most frequent action of the user"
   ]
  },
  {
   "cell_type": "code",
   "execution_count": 2,
   "id": "e7d379d9",
   "metadata": {},
   "outputs": [
    {
     "name": "stdout",
     "output_type": "stream",
     "text": [
      "           user_id most_frequent_action\n",
      "0       00023iyk9l                 show\n",
      "1       0010k6l0om                 show\n",
      "2       001wyh0pz8               search\n",
      "3       0028jgx1x1                 show\n",
      "4       002qnbzfs5                 show\n",
      "...            ...                  ...\n",
      "135478  zzxox7jnrx       search_results\n",
      "135479  zzy7t0y9cm          personalize\n",
      "135480  zzysuoqg6x               create\n",
      "135481  zzywmcn0jv                 show\n",
      "135482  zzzlylp57e                 show\n",
      "\n",
      "[135483 rows x 2 columns]\n"
     ]
    }
   ],
   "source": [
    "import pandas as pd\n",
    "\n",
    "# Group by user_id and calculate the mode of action for each user\n",
    "most_frequent_actions = sessions.groupby('user_id')['action'].apply(lambda x: x.mode()[0] if len(x.mode()) > 0 else None).reset_index()\n",
    "\n",
    "# Rename columns\n",
    "most_frequent_actions.columns = ['user_id', 'most_frequent_action']\n",
    "\n",
    "# Display the result\n",
    "print(most_frequent_actions)"
   ]
  },
  {
   "cell_type": "code",
   "execution_count": null,
   "id": "385c5755",
   "metadata": {},
   "outputs": [],
   "source": [
    "plt.subplots(figsize=(100, 100))\n",
    "sns.countplot(y='most_frequent_action', data=most_frequent_actions)\n",
    "plt.title(\"Most Frequent Actions\", size=13)\n",
    "plt.show()"
   ]
  },
  {
   "cell_type": "code",
   "execution_count": 3,
   "id": "c5c3eba1",
   "metadata": {},
   "outputs": [],
   "source": [
    "most_frequent_actions.to_csv('../data/most_frequent_actions.csv',index=False)"
   ]
  },
  {
   "cell_type": "markdown",
   "id": "7a2703be",
   "metadata": {},
   "source": [
    "# Cleaning"
   ]
  },
  {
   "cell_type": "code",
   "execution_count": null,
   "id": "93307de9",
   "metadata": {},
   "outputs": [],
   "source": [
    "print(sessions.shape)\n",
    "\n",
    "sessions = sessions.dropna(subset = ['user_id'])\n",
    "\n",
    "print(sessions.shape)"
   ]
  },
  {
   "cell_type": "code",
   "execution_count": null,
   "id": "cc5e79de",
   "metadata": {},
   "outputs": [],
   "source": [
    "sessions['user_id'].nunique()"
   ]
  },
  {
   "cell_type": "code",
   "execution_count": null,
   "id": "8bb82948",
   "metadata": {},
   "outputs": [],
   "source": [
    "sessions['device_type'].unique()"
   ]
  },
  {
   "cell_type": "code",
   "execution_count": null,
   "id": "5f752241",
   "metadata": {},
   "outputs": [],
   "source": [
    "#https://stackoverflow.com/questions/34776651/concatenate-rows-of-pandas-dataframe-with-same-id\n",
    "\n",
    "session_df_concat = sessions.groupby('user_id', as_index=False).agg(lambda x: x.tolist())\n",
    "\n",
    "print(session_df_concat.shape)\n",
    "\n",
    "session_df_concat.head()"
   ]
  },
  {
   "cell_type": "code",
   "execution_count": null,
   "id": "99b48f80",
   "metadata": {},
   "outputs": [],
   "source": [
    "# Function to convert list into strings\n",
    "\n",
    "import re\n",
    "\n",
    "def abcd(action):\n",
    "    \n",
    "    \"\"\"\n",
    "    Function to convert list into strings\n",
    "    \n",
    "    parameters: action \n",
    "    \n",
    "    returns : action  \n",
    "    \n",
    "    \"\"\"\n",
    "    action = [ str(i) for i in action ]\n",
    "    \n",
    "    action = [ re.sub('nan','',i) for i in action ] \n",
    "    \n",
    "    action = ','.join(action)\n",
    "    \n",
    "    return action"
   ]
  },
  {
   "cell_type": "code",
   "execution_count": null,
   "id": "cda63c3e",
   "metadata": {},
   "outputs": [],
   "source": [
    "session_df_concat['action'] = session_df_concat['action'].apply(abcd)\n",
    "\n",
    "session_df_concat['action'].head()"
   ]
  },
  {
   "cell_type": "code",
   "execution_count": null,
   "id": "d2b3f04d",
   "metadata": {},
   "outputs": [],
   "source": [
    "session_df_concat['action_type'] = session_df_concat['action_type'].apply(abcd)\n",
    "\n",
    "session_df_concat['action_type'].head()"
   ]
  },
  {
   "cell_type": "code",
   "execution_count": null,
   "id": "f6f05ead",
   "metadata": {},
   "outputs": [],
   "source": [
    "session_df_concat['action_detail'] = session_df_concat['action_detail'].apply(abcd)\n",
    "\n",
    "session_df_concat['action_detail'].head()"
   ]
  },
  {
   "cell_type": "code",
   "execution_count": null,
   "id": "e665c8cc",
   "metadata": {},
   "outputs": [],
   "source": [
    "# Function to convert list into strings\n",
    "\n",
    "def efgh(device):\n",
    "    \n",
    "    \"\"\"\n",
    "    Function to convert list into strings\n",
    "    \n",
    "    parameters: device \n",
    "    \n",
    "    returns : device  \n",
    "    \n",
    "    \"\"\"\n",
    "    \n",
    "    device = [ str(i) for i in device ]\n",
    "    \n",
    "    device = [ re.sub('nan','',i) for i in device ] \n",
    "                \n",
    "    device = ','.join(set(device))\n",
    "    \n",
    "    return device"
   ]
  },
  {
   "cell_type": "code",
   "execution_count": null,
   "id": "89727de7",
   "metadata": {},
   "outputs": [],
   "source": [
    "session_df_concat['device_type'] = session_df_concat['device_type'].apply(efgh)\n",
    "\n",
    "session_df_concat['device_type'].head()"
   ]
  },
  {
   "cell_type": "code",
   "execution_count": null,
   "id": "95b4ac99",
   "metadata": {},
   "outputs": [],
   "source": [
    "# Function to convert list into strings\n",
    "\n",
    "def ijkl(time):\n",
    "    \n",
    "    \"\"\"\n",
    "    Function to convert list into strings\n",
    "    \n",
    "    parameters: time \n",
    "    \n",
    "    returns : time  \n",
    "    \n",
    "    \"\"\"\n",
    "    \n",
    "    float_time = []\n",
    "    \n",
    "    time = [ str(i) for i in time ]\n",
    "    \n",
    "    time = [ re.sub('nan','',i) for i in time ] \n",
    "        \n",
    "    for i in time:\n",
    "        \n",
    "         try:\n",
    "                \n",
    "                float_time.append(float(i))\n",
    "         \n",
    "         except ValueError:\n",
    "                \n",
    "                continue\n",
    "    \n",
    "    float_time = sum(float_time)\n",
    "    \n",
    "    return float_time"
   ]
  },
  {
   "cell_type": "code",
   "execution_count": null,
   "id": "a82e7452",
   "metadata": {},
   "outputs": [],
   "source": [
    "session_df_concat['secs_elapsed'] = session_df_concat['secs_elapsed'].apply(ijkl)\n",
    "\n",
    "session_df_concat['secs_elapsed'].head()"
   ]
  },
  {
   "cell_type": "code",
   "execution_count": null,
   "id": "28ed8cb5",
   "metadata": {},
   "outputs": [],
   "source": [
    "print(session_df_concat.shape)\n",
    "\n",
    "session_df_concat.head()"
   ]
  },
  {
   "cell_type": "markdown",
   "id": "8f2e3dba",
   "metadata": {},
   "source": [
    "## Join train and session df"
   ]
  },
  {
   "cell_type": "code",
   "execution_count": null,
   "id": "7c7c6c00",
   "metadata": {},
   "outputs": [],
   "source": [
    "train_merge = train_user.merge(session_df_concat, left_on='id', right_on='user_id', how='inner')\n",
    "\n",
    "print(\"Train  :\",train_user.shape)\n",
    "\n",
    "print(\"Session:\",session_df_concat.shape)\n",
    "\n",
    "print(\"Merge  :\",train_merge.shape)\n",
    "\n",
    "print(\"No of users in Train Data with session info:\",train_merge.shape[0])\n",
    "\n",
    "print(\"{} / {} = {}\".format(train_merge.shape[0],train_user.shape[0],np.round((train_merge.shape[0]/train_user.shape[0]),2)))"
   ]
  },
  {
   "cell_type": "code",
   "execution_count": null,
   "id": "f5282feb",
   "metadata": {},
   "outputs": [],
   "source": [
    "print(train_merge.columns)\n",
    "\n",
    "train_merge.head()"
   ]
  },
  {
   "cell_type": "code",
   "execution_count": null,
   "id": "93bfdcf3",
   "metadata": {},
   "outputs": [],
   "source": [
    "train_merge"
   ]
  },
  {
   "cell_type": "code",
   "execution_count": null,
   "id": "4fc57d86",
   "metadata": {},
   "outputs": [],
   "source": [
    "#Checking null values\n",
    "train_merge.isnull().sum()"
   ]
  },
  {
   "cell_type": "code",
   "execution_count": null,
   "id": "f666d6a8",
   "metadata": {},
   "outputs": [],
   "source": [
    "# saving\n",
    "train_merge.to_csv('train_merge_raw.csv',index=False)"
   ]
  },
  {
   "cell_type": "code",
   "execution_count": null,
   "id": "1806ada0",
   "metadata": {},
   "outputs": [],
   "source": []
  }
 ],
 "metadata": {
  "kernelspec": {
   "display_name": "Python 3 (ipykernel)",
   "language": "python",
   "name": "python3"
  },
  "language_info": {
   "codemirror_mode": {
    "name": "ipython",
    "version": 3
   },
   "file_extension": ".py",
   "mimetype": "text/x-python",
   "name": "python",
   "nbconvert_exporter": "python",
   "pygments_lexer": "ipython3",
   "version": "3.10.9"
  }
 },
 "nbformat": 4,
 "nbformat_minor": 5
}
