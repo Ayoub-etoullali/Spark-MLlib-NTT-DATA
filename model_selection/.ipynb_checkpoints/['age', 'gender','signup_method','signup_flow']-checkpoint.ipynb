{
 "cells": [
  {
   "cell_type": "markdown",
   "id": "ad3367e3",
   "metadata": {},
   "source": [
    "# Data Loading and Exploration"
   ]
  },
  {
   "cell_type": "code",
   "execution_count": 132,
   "id": "969561e9",
   "metadata": {},
   "outputs": [
    {
     "name": "stdout",
     "output_type": "stream",
     "text": [
      "           id date_account_created timestamp_first_active date_first_booking  \\\n",
      "0  4ft3gnwmtx           2010-09-28             2009-06-09         2010-08-02   \n",
      "1  bjjt8pjhuk           2011-12-05             2009-10-31         2012-09-08   \n",
      "2  87mebub9p4           2010-09-14             2009-12-08         2010-02-18   \n",
      "3  lsw9q7uk0j           2010-01-02             2010-01-02         2010-01-05   \n",
      "4  0d01nltbrs           2010-01-03             2010-01-03         2010-01-13   \n",
      "\n",
      "      gender  age signup_method  signup_flow language affiliate_channel  \\\n",
      "0     FEMALE   56         basic            3       en            direct   \n",
      "1     FEMALE   42      facebook            0       en            direct   \n",
      "2  -unknown-   41         basic            0       en            direct   \n",
      "3     FEMALE   46         basic            0       en             other   \n",
      "4     FEMALE   47         basic            0       en            direct   \n",
      "\n",
      "  affiliate_provider first_affiliate_tracked signup_app first_device_type  \\\n",
      "0             direct               untracked        Web   Windows Desktop   \n",
      "1             direct               untracked        Web       Mac Desktop   \n",
      "2             direct               untracked        Web       Mac Desktop   \n",
      "3         craigslist               untracked        Web       Mac Desktop   \n",
      "4             direct                     omg        Web       Mac Desktop   \n",
      "\n",
      "  first_browser country_destination  \n",
      "0            IE                  US  \n",
      "1       Firefox               other  \n",
      "2        Chrome                  US  \n",
      "3        Safari                  US  \n",
      "4        Safari                  US  \n",
      "<class 'pandas.core.frame.DataFrame'>\n",
      "RangeIndex: 66855 entries, 0 to 66854\n",
      "Data columns (total 16 columns):\n",
      " #   Column                   Non-Null Count  Dtype \n",
      "---  ------                   --------------  ----- \n",
      " 0   id                       66855 non-null  object\n",
      " 1   date_account_created     66855 non-null  object\n",
      " 2   timestamp_first_active   66855 non-null  object\n",
      " 3   date_first_booking       66855 non-null  object\n",
      " 4   gender                   66855 non-null  object\n",
      " 5   age                      66855 non-null  int64 \n",
      " 6   signup_method            66855 non-null  object\n",
      " 7   signup_flow              66855 non-null  int64 \n",
      " 8   language                 66855 non-null  object\n",
      " 9   affiliate_channel        66855 non-null  object\n",
      " 10  affiliate_provider       66855 non-null  object\n",
      " 11  first_affiliate_tracked  66855 non-null  object\n",
      " 12  signup_app               66855 non-null  object\n",
      " 13  first_device_type        66855 non-null  object\n",
      " 14  first_browser            66855 non-null  object\n",
      " 15  country_destination      66855 non-null  object\n",
      "dtypes: int64(2), object(14)\n",
      "memory usage: 8.2+ MB\n",
      "None\n"
     ]
    }
   ],
   "source": [
    "import pandas as pd\n",
    "\n",
    "# Load the train_users dataset\n",
    "train_users = pd.read_csv('../data/train_user.csv')\n",
    "\n",
    "# Explore the dataset\n",
    "print(train_users.head())\n",
    "print(train_users.info())"
   ]
  },
  {
   "cell_type": "markdown",
   "id": "63000a0d",
   "metadata": {},
   "source": [
    "# Data Preprocessing"
   ]
  },
  {
   "cell_type": "code",
   "execution_count": 133,
   "id": "9ae060b9",
   "metadata": {},
   "outputs": [],
   "source": [
    "# Drop rows with missing values in 'age' and 'gender'\n",
    "train_users = train_users.dropna(subset=['age', 'gender','signup_method','signup_flow'])\n",
    "\n",
    "# Convert gender to numerical values (e.g., 0 for 'MALE', 1 for 'FEMALE')\n",
    "train_users['gender'] = train_users['gender'].map({'MALE': 0, 'FEMALE': 1})\n",
    "train_users['signup_method'] = train_users['signup_method'].map({'basic': 0, 'facebook': 1,'google': 2})\n",
    "\n",
    "# Split data into features (X) and target (y)\n",
    "X = train_users[['age', 'gender','signup_method','signup_flow']]\n",
    "# 'affiliate_channel','affiliate_provider','first_affiliate_tracked','signup_app','first_device_type','first_browser'\n",
    "y = train_users['country_destination']"
   ]
  },
  {
   "cell_type": "markdown",
   "id": "25ec2881",
   "metadata": {},
   "source": [
    "# Feature Scaling"
   ]
  },
  {
   "cell_type": "code",
   "execution_count": 134,
   "id": "d683fc1f",
   "metadata": {},
   "outputs": [],
   "source": [
    "from sklearn.preprocessing import StandardScaler\n",
    "\n",
    "# Standardize features\n",
    "scaler = StandardScaler()\n",
    "X_scaled = scaler.fit_transform(X)"
   ]
  },
  {
   "cell_type": "markdown",
   "id": "d3285859",
   "metadata": {},
   "source": [
    "# Model Training"
   ]
  },
  {
   "cell_type": "code",
   "execution_count": 135,
   "id": "a1a0528e",
   "metadata": {},
   "outputs": [
    {
     "name": "stdout",
     "output_type": "stream",
     "text": [
      "Missing values in X_train: 9299\n",
      "Missing values in X_test: 2337\n"
     ]
    },
    {
     "data": {
      "text/html": [
       "<style>#sk-container-id-11 {color: black;background-color: white;}#sk-container-id-11 pre{padding: 0;}#sk-container-id-11 div.sk-toggleable {background-color: white;}#sk-container-id-11 label.sk-toggleable__label {cursor: pointer;display: block;width: 100%;margin-bottom: 0;padding: 0.3em;box-sizing: border-box;text-align: center;}#sk-container-id-11 label.sk-toggleable__label-arrow:before {content: \"▸\";float: left;margin-right: 0.25em;color: #696969;}#sk-container-id-11 label.sk-toggleable__label-arrow:hover:before {color: black;}#sk-container-id-11 div.sk-estimator:hover label.sk-toggleable__label-arrow:before {color: black;}#sk-container-id-11 div.sk-toggleable__content {max-height: 0;max-width: 0;overflow: hidden;text-align: left;background-color: #f0f8ff;}#sk-container-id-11 div.sk-toggleable__content pre {margin: 0.2em;color: black;border-radius: 0.25em;background-color: #f0f8ff;}#sk-container-id-11 input.sk-toggleable__control:checked~div.sk-toggleable__content {max-height: 200px;max-width: 100%;overflow: auto;}#sk-container-id-11 input.sk-toggleable__control:checked~label.sk-toggleable__label-arrow:before {content: \"▾\";}#sk-container-id-11 div.sk-estimator input.sk-toggleable__control:checked~label.sk-toggleable__label {background-color: #d4ebff;}#sk-container-id-11 div.sk-label input.sk-toggleable__control:checked~label.sk-toggleable__label {background-color: #d4ebff;}#sk-container-id-11 input.sk-hidden--visually {border: 0;clip: rect(1px 1px 1px 1px);clip: rect(1px, 1px, 1px, 1px);height: 1px;margin: -1px;overflow: hidden;padding: 0;position: absolute;width: 1px;}#sk-container-id-11 div.sk-estimator {font-family: monospace;background-color: #f0f8ff;border: 1px dotted black;border-radius: 0.25em;box-sizing: border-box;margin-bottom: 0.5em;}#sk-container-id-11 div.sk-estimator:hover {background-color: #d4ebff;}#sk-container-id-11 div.sk-parallel-item::after {content: \"\";width: 100%;border-bottom: 1px solid gray;flex-grow: 1;}#sk-container-id-11 div.sk-label:hover label.sk-toggleable__label {background-color: #d4ebff;}#sk-container-id-11 div.sk-serial::before {content: \"\";position: absolute;border-left: 1px solid gray;box-sizing: border-box;top: 0;bottom: 0;left: 50%;z-index: 0;}#sk-container-id-11 div.sk-serial {display: flex;flex-direction: column;align-items: center;background-color: white;padding-right: 0.2em;padding-left: 0.2em;position: relative;}#sk-container-id-11 div.sk-item {position: relative;z-index: 1;}#sk-container-id-11 div.sk-parallel {display: flex;align-items: stretch;justify-content: center;background-color: white;position: relative;}#sk-container-id-11 div.sk-item::before, #sk-container-id-11 div.sk-parallel-item::before {content: \"\";position: absolute;border-left: 1px solid gray;box-sizing: border-box;top: 0;bottom: 0;left: 50%;z-index: -1;}#sk-container-id-11 div.sk-parallel-item {display: flex;flex-direction: column;z-index: 1;position: relative;background-color: white;}#sk-container-id-11 div.sk-parallel-item:first-child::after {align-self: flex-end;width: 50%;}#sk-container-id-11 div.sk-parallel-item:last-child::after {align-self: flex-start;width: 50%;}#sk-container-id-11 div.sk-parallel-item:only-child::after {width: 0;}#sk-container-id-11 div.sk-dashed-wrapped {border: 1px dashed gray;margin: 0 0.4em 0.5em 0.4em;box-sizing: border-box;padding-bottom: 0.4em;background-color: white;}#sk-container-id-11 div.sk-label label {font-family: monospace;font-weight: bold;display: inline-block;line-height: 1.2em;}#sk-container-id-11 div.sk-label-container {text-align: center;}#sk-container-id-11 div.sk-container {/* jupyter's `normalize.less` sets `[hidden] { display: none; }` but bootstrap.min.css set `[hidden] { display: none !important; }` so we also need the `!important` here to be able to override the default hidden behavior on the sphinx rendered scikit-learn.org. See: https://github.com/scikit-learn/scikit-learn/issues/21755 */display: inline-block !important;position: relative;}#sk-container-id-11 div.sk-text-repr-fallback {display: none;}</style><div id=\"sk-container-id-11\" class=\"sk-top-container\"><div class=\"sk-text-repr-fallback\"><pre>LogisticRegression(max_iter=1000, random_state=42)</pre><b>In a Jupyter environment, please rerun this cell to show the HTML representation or trust the notebook. <br />On GitHub, the HTML representation is unable to render, please try loading this page with nbviewer.org.</b></div><div class=\"sk-container\" hidden><div class=\"sk-item\"><div class=\"sk-estimator sk-toggleable\"><input class=\"sk-toggleable__control sk-hidden--visually\" id=\"sk-estimator-id-11\" type=\"checkbox\" checked><label for=\"sk-estimator-id-11\" class=\"sk-toggleable__label sk-toggleable__label-arrow\">LogisticRegression</label><div class=\"sk-toggleable__content\"><pre>LogisticRegression(max_iter=1000, random_state=42)</pre></div></div></div></div></div>"
      ],
      "text/plain": [
       "LogisticRegression(max_iter=1000, random_state=42)"
      ]
     },
     "execution_count": 135,
     "metadata": {},
     "output_type": "execute_result"
    }
   ],
   "source": [
    "import numpy as np\n",
    "from sklearn.model_selection import train_test_split\n",
    "from sklearn.linear_model import LogisticRegression\n",
    "from sklearn.metrics import accuracy_score\n",
    "\n",
    "# Split data into training and testing sets\n",
    "X_train, X_test, y_train, y_test = train_test_split(X_scaled, y, test_size=0.2, random_state=42)\n",
    "\n",
    "# Check for missing values in the numpy arrays\n",
    "print(\"Missing values in X_train:\", np.isnan(X_train).sum())\n",
    "print(\"Missing values in X_test:\", np.isnan(X_test).sum())\n",
    "\n",
    "from sklearn.impute import SimpleImputer\n",
    "\n",
    "imputer = SimpleImputer()\n",
    "X_train_imputed = imputer.fit_transform(X_train)\n",
    "\n",
    "# Train a Logistic Regression model\n",
    "model = LogisticRegression(max_iter=1000, random_state=42)\n",
    "model.fit(X_train_imputed, y_train)"
   ]
  },
  {
   "cell_type": "markdown",
   "id": "9af96b9f",
   "metadata": {},
   "source": [
    "# Model Evaluation"
   ]
  },
  {
   "cell_type": "code",
   "execution_count": 136,
   "id": "301a3ab8",
   "metadata": {},
   "outputs": [
    {
     "name": "stdout",
     "output_type": "stream",
     "text": [
      "Accuracy: 0.7101189140677586\n"
     ]
    }
   ],
   "source": [
    "# Predict using the trained model\n",
    "X_test_imputed = imputer.transform(X_test)  # Impute missing values in X_test\n",
    "y_pred = model.predict(X_test_imputed)\n",
    "\n",
    "# Calculate accuracy\n",
    "accuracy = accuracy_score(y_test, y_pred)\n",
    "print('Accuracy:', accuracy)"
   ]
  },
  {
   "cell_type": "code",
   "execution_count": 137,
   "id": "850ec60a",
   "metadata": {},
   "outputs": [
    {
     "name": "stdout",
     "output_type": "stream",
     "text": [
      "Predicted Country Destination: US\n"
     ]
    },
    {
     "name": "stderr",
     "output_type": "stream",
     "text": [
      "C:\\Users\\ayoub\\anaconda3\\lib\\site-packages\\sklearn\\base.py:420: UserWarning: X does not have valid feature names, but StandardScaler was fitted with feature names\n",
      "  warnings.warn(\n"
     ]
    }
   ],
   "source": [
    "#### Let's assume you have a new user's age and gender\n",
    "# new_user_features = [[30,1]]  # Age: 30, Gender: Female\n",
    "new_user_features = [[30,1,0,5]]  # Age: 30, Gender: Female\n",
    "\n",
    "# Standardize the new user's features\n",
    "new_user_features_scaled = scaler.transform(new_user_features)\n",
    "\n",
    "# Predict the country destination for the new user\n",
    "predicted_destination = model.predict(new_user_features_scaled)[0]\n",
    "\n",
    "print('Predicted Country Destination:', predicted_destination)"
   ]
  },
  {
   "cell_type": "code",
   "execution_count": null,
   "id": "52f97320",
   "metadata": {},
   "outputs": [],
   "source": []
  }
 ],
 "metadata": {
  "kernelspec": {
   "display_name": "Python 3 (ipykernel)",
   "language": "python",
   "name": "python3"
  },
  "language_info": {
   "codemirror_mode": {
    "name": "ipython",
    "version": 3
   },
   "file_extension": ".py",
   "mimetype": "text/x-python",
   "name": "python",
   "nbconvert_exporter": "python",
   "pygments_lexer": "ipython3",
   "version": "3.10.9"
  }
 },
 "nbformat": 4,
 "nbformat_minor": 5
}
