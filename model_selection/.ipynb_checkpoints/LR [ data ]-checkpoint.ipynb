{
 "cells": [
  {
   "cell_type": "markdown",
   "id": "8a501a20",
   "metadata": {},
   "source": [
    "# Load & Info & Data Preprocessing"
   ]
  },
  {
   "cell_type": "code",
   "execution_count": 1,
   "id": "39c349da",
   "metadata": {},
   "outputs": [],
   "source": [
    "import pandas as pd\n",
    "import numpy as np\n",
    "import matplotlib.pyplot as plt\n",
    "import seaborn as sns\n",
    "\n",
    "# Load the sessions dataset\n",
    "X = pd.read_csv('../data/Airbnb_xtrain_Version2.csv')\n",
    "y = pd.read_csv('../data/Airbnb_ytrainVersion2.csv')"
   ]
  },
  {
   "cell_type": "code",
   "execution_count": 2,
   "id": "36d0fb02",
   "metadata": {},
   "outputs": [
    {
     "data": {
      "text/plain": [
       "language     1\n",
       "tfa_year     0\n",
       "tfa_month    0\n",
       "tfa_day      0\n",
       "tfa_wd_1     0\n",
       "            ..\n",
       "c_452        2\n",
       "c_453        2\n",
       "c_454        2\n",
       "c_455        2\n",
       "c_456        2\n",
       "Length: 645, dtype: int64"
      ]
     },
     "execution_count": 2,
     "metadata": {},
     "output_type": "execute_result"
    }
   ],
   "source": [
    "#Checking null values\n",
    "X.isnull().sum()"
   ]
  },
  {
   "cell_type": "code",
   "execution_count": 3,
   "id": "66058cac",
   "metadata": {},
   "outputs": [],
   "source": [
    "X = X.dropna()"
   ]
  },
  {
   "cell_type": "code",
   "execution_count": null,
   "id": "9e3b410e",
   "metadata": {},
   "outputs": [
    {
     "name": "stderr",
     "output_type": "stream",
     "text": [
      "C:\\Users\\ayoub\\AppData\\Local\\Temp\\ipykernel_5892\\2488941191.py:1: FutureWarning: The default value of numeric_only in DataFrame.corr is deprecated. In a future version, it will default to False. Select only valid columns or specify the value of numeric_only to silence this warning.\n",
      "  sns.heatmap(X.corr(), annot= True)\n"
     ]
    },
    {
     "data": {
      "text/plain": [
       "<Axes: >"
      ]
     },
     "execution_count": 4,
     "metadata": {},
     "output_type": "execute_result"
    }
   ],
   "source": [
    "sns.heatmap(X.corr(), annot= True)"
   ]
  },
  {
   "cell_type": "code",
   "execution_count": null,
   "id": "917e3686",
   "metadata": {},
   "outputs": [],
   "source": [
    "X_train, X_test, y_train, y_test= train_test_split(X,y,test_size=0.4, random_state=0)\n",
    "X_test.shape"
   ]
  },
  {
   "cell_type": "code",
   "execution_count": null,
   "id": "5bc9758e",
   "metadata": {},
   "outputs": [],
   "source": [
    "print(X_train.dtypes)"
   ]
  },
  {
   "cell_type": "code",
   "execution_count": null,
   "id": "8386542d",
   "metadata": {},
   "outputs": [],
   "source": [
    "print(y_train.dtypes)"
   ]
  },
  {
   "cell_type": "markdown",
   "id": "c9d3c60d",
   "metadata": {},
   "source": [
    "# selector1"
   ]
  },
  {
   "cell_type": "code",
   "execution_count": null,
   "id": "f5f1ba51",
   "metadata": {},
   "outputs": [],
   "source": [
    "# from sklearn.feature_selection import SelectKBest\n",
    "# from sklearn.feature_selection import chi2\n",
    "\n",
    "# selector = SelectKBest(chi2, k=100)\n",
    "# selector.fit(X_train, y_train)\n",
    "\n",
    "# selected_feature_indices = selector.get_support(indices=True)\n",
    "\n",
    "# selected_feature_names = X_train.columns[selected_feature_indices]\n",
    "# print(selected_feature_names)"
   ]
  },
  {
   "cell_type": "code",
   "execution_count": null,
   "id": "8c35195e",
   "metadata": {},
   "outputs": [],
   "source": [
    "# # Mutual Information : utilisée pour évaluer la relation entre chaque caractéristique et la variable cible.\n",
    "# # Elle mesure la quantité d'information que chaque caractéristique fournit sur la variable cible.\n",
    "\n",
    "# from sklearn.feature_selection import mutual_info_classif\n",
    "\n",
    "# mutual_info= mutual_info_classif(X_train, y_train)\n",
    "# mutual_info = pd.Series (mutual_info)\n",
    "# mutual_info.index = X_train.columns\n",
    "# mutual_info.sort_values(ascending=False)"
   ]
  },
  {
   "cell_type": "markdown",
   "id": "d13bab47",
   "metadata": {},
   "source": [
    "## selector2"
   ]
  },
  {
   "cell_type": "markdown",
   "id": "c5bef4ca",
   "metadata": {},
   "source": [
    "We need to convert \"country_destination\" to int"
   ]
  },
  {
   "cell_type": "code",
   "execution_count": null,
   "id": "882f08a9",
   "metadata": {},
   "outputs": [],
   "source": [
    "# # SelectPercentile : est une approche de sélection de caractéristiques permet de sélectionner un pourcentage spécifique\n",
    "# # des caractéristiques les plus importantes en fonction d'un test statistique.\n",
    "# from sklearn.feature_selection import SelectPercentile\n",
    "# from sklearn.feature_selection import f_regression\n",
    "\n",
    "# selector2 = SelectPercentile(f_regression, percentile=60)\n",
    "\n",
    "# selector2.fit(X, y)\n",
    "\n",
    "# selected_feature_indices2 = selector2.get_support(indices=True)\n",
    "\n",
    "# selected_feature_names2 = X.columns[selected_feature_indices2]\n",
    "\n",
    "# print(selected_feature_names2)"
   ]
  },
  {
   "cell_type": "markdown",
   "id": "9d36d014",
   "metadata": {},
   "source": [
    "## selector3"
   ]
  },
  {
   "cell_type": "code",
   "execution_count": null,
   "id": "823194ca",
   "metadata": {},
   "outputs": [],
   "source": [
    "from sklearn.feature_selection import f_classif\n",
    "\n",
    "# SelectKBest: est une methode de sélection de caractéristiques qui permet de sélectionner les K meilleures caractéristiques\n",
    "# en fonction d'un test statistique \n",
    "selector3 = SelectKBest(f_classif, k=5)\n",
    "selector3.fit(X, y)\n",
    "\n",
    "selected_feature_indices = selector3.get_support(indices=True)\n",
    "\n",
    "selected_feature_names = X.columns[selected_feature_indices]\n",
    "\n",
    "print(selected_feature_names)"
   ]
  },
  {
   "cell_type": "markdown",
   "id": "bfd67ed5",
   "metadata": {},
   "source": [
    "# Selected"
   ]
  },
  {
   "cell_type": "code",
   "execution_count": null,
   "id": "6b2bbc9f",
   "metadata": {},
   "outputs": [],
   "source": [
    "selected_feature_names"
   ]
  },
  {
   "cell_type": "code",
   "execution_count": null,
   "id": "63490b23",
   "metadata": {},
   "outputs": [],
   "source": [
    "X = X[selected_feature_names]"
   ]
  },
  {
   "cell_type": "code",
   "execution_count": null,
   "id": "be674d3c",
   "metadata": {},
   "outputs": [],
   "source": [
    "X_train, X_test, y_train, y_test= train_test_split(X,y,test_size=0.4, random_state=0)\n",
    "X_test.shape"
   ]
  },
  {
   "cell_type": "markdown",
   "id": "fe82a3f8",
   "metadata": {},
   "source": [
    "# Fiting"
   ]
  },
  {
   "cell_type": "code",
   "execution_count": null,
   "id": "afcbb344",
   "metadata": {},
   "outputs": [],
   "source": [
    "from sklearn.preprocessing import StandardScaler\n",
    "from sklearn.linear_model import LogisticRegression\n",
    "from sklearn.pipeline import Pipeline\n",
    "\n",
    "# Create a pipeline with preprocessing and the logistic regression model\n",
    "pipeline = Pipeline([\n",
    "    ('classifier', LogisticRegression(max_iter=1000, random_state=42))  # Logistic Regression model\n",
    "])\n",
    "\n",
    "# Fit the pipeline on your training data\n",
    "pipeline.fit(X_train, y_train)"
   ]
  },
  {
   "cell_type": "markdown",
   "id": "f4ed1467",
   "metadata": {},
   "source": [
    "# Accuracy"
   ]
  },
  {
   "cell_type": "code",
   "execution_count": null,
   "id": "477ac2ee",
   "metadata": {},
   "outputs": [],
   "source": [
    "from sklearn.metrics import accuracy_score\n",
    "\n",
    "# Assuming you have trained your model and obtained predictions\n",
    "y_pred = pipeline.predict(X_test)\n",
    "\n",
    "# Calculate accuracy\n",
    "accuracy = accuracy_score(y_test, y_pred)\n",
    "\n",
    "print(\"Accuracy:\", accuracy) "
   ]
  },
  {
   "cell_type": "markdown",
   "id": "2b54048d",
   "metadata": {},
   "source": [
    "### data\n",
    "0.6083451872925557 : all\n",
    "\n",
    "0.6073968705547653 : 600\n",
    "\n",
    "0.6072275282801599 : 500\n",
    " \n",
    "0.6074307390096864 : 400\n",
    " \n",
    "0.6083451872925557 : 300\n",
    " \n",
    "0.6085822664770033 : 200\n",
    " \n",
    "0.6087516087516087 : 100\n",
    " \n",
    "0.6089548194811353 : 50\n",
    " \n",
    "0.6089886879360563 : 25\n",
    "\n",
    "0.6089886879360563 : 10\n",
    "\n",
    "0.6090225563909775 : 5\n",
    "\n",
    "0.6090225563909775 : 4  "
   ]
  },
  {
   "cell_type": "markdown",
   "id": "aa3395f2",
   "metadata": {},
   "source": [
    "### me\n",
    "0.4678882215957838 : all\n",
    "\n",
    "0.5371369040323569 : 10\n",
    "\n",
    "0.5383625444294644 : 8\n",
    "\n",
    "0.5386076725088859 : 6\n",
    "\n",
    "0.5387302365485966 : 5\n",
    "\n",
    "0.5387302365485966 : 4  \n",
    "\n",
    "0.5392204927074397 : 3\n",
    "\n",
    "0.539281774727295 : 2\n",
    "\n",
    "0.539281774727295 : 1"
   ]
  },
  {
   "cell_type": "markdown",
   "id": "a51fa3ce",
   "metadata": {},
   "source": [
    "# Predict"
   ]
  },
  {
   "cell_type": "code",
   "execution_count": null,
   "id": "907310a7",
   "metadata": {},
   "outputs": [],
   "source": [
    "X.head()"
   ]
  },
  {
   "cell_type": "code",
   "execution_count": null,
   "id": "3a7dbe8c",
   "metadata": {},
   "outputs": [],
   "source": [
    "y"
   ]
  },
  {
   "cell_type": "code",
   "execution_count": null,
   "id": "cd403eb6",
   "metadata": {},
   "outputs": [],
   "source": [
    "# # Assuming new_user_features is your new user's features\n",
    "# new_user_features = [[1,41,1,5,8,5,55,5,5,5,4,4,9,7,3,9]]  \n",
    "\n",
    "# # Predict the country destination for the new user\n",
    "# predicted_destination = pipeline.predict(new_user_features)[0]\n",
    "\n",
    "# print('Predicted Country Destination:', predicted_destination)"
   ]
  },
  {
   "cell_type": "markdown",
   "id": "cf58b96c",
   "metadata": {},
   "source": [
    "# Visualize"
   ]
  },
  {
   "cell_type": "code",
   "execution_count": null,
   "id": "02161fd3",
   "metadata": {},
   "outputs": [],
   "source": [
    "from sklearn.metrics import confusion_matrix\n",
    "\n",
    "conf_matrix = confusion_matrix(y_test, y_pred)\n",
    "\n",
    "print(f'Confusion Matrix:\\n{conf_matrix}')"
   ]
  },
  {
   "cell_type": "code",
   "execution_count": null,
   "id": "72d8ac01",
   "metadata": {},
   "outputs": [],
   "source": [
    "import seaborn as sns\n",
    "\n",
    "# Visualize confusion matrix\n",
    "sns.heatmap(conf_matrix, annot=True, cmap='Blues', fmt='d')\n",
    "plt.xlabel('Predicted')\n",
    "plt.ylabel('True')\n",
    "plt.title('Confusion Matrix')\n",
    "plt.show()"
   ]
  },
  {
   "cell_type": "markdown",
   "id": "a8b79d6e",
   "metadata": {},
   "source": [
    "# Submission"
   ]
  },
  {
   "cell_type": "markdown",
   "id": "902fccd4",
   "metadata": {},
   "source": [
    "### data"
   ]
  },
  {
   "cell_type": "code",
   "execution_count": null,
   "id": "01f3c7af",
   "metadata": {},
   "outputs": [],
   "source": [
    "from sklearn.impute import SimpleImputer\n",
    "from sklearn.preprocessing import LabelEncoder\n",
    "\n",
    "# Load and preprocess the test data\n",
    "test_data = pd.read_csv(\"../data/Airbnb_xtest_Version2.csv\")\n",
    "\n",
    "# Cleaning\n",
    "test_data = test_data[selected_feature_names]"
   ]
  },
  {
   "cell_type": "markdown",
   "id": "4a0b5fe6",
   "metadata": {},
   "source": [
    "### moi"
   ]
  },
  {
   "cell_type": "code",
   "execution_count": null,
   "id": "1facc2bc",
   "metadata": {},
   "outputs": [],
   "source": [
    "# from sklearn.impute import SimpleImputer\n",
    "# from sklearn.preprocessing import LabelEncoder\n",
    "\n",
    "# # Load and preprocess the test data\n",
    "# test_data = pd.read_csv(\"../data/Airbnb_xtest_Version2.csv\")\n",
    "# most_frequent_actions = pd.read_csv(\"../data/most_frequent_actions.csv\")\n",
    "\n",
    "# # Merging\n",
    "# test_data = test_data.merge(most_frequent_actions, left_on='affiliate_provider_bing', right_on='affiliate_provider_bing', how='inner')\n",
    "\n",
    "# # Cleaning\n",
    "# test_data = test_data[selected_feature_names]"
   ]
  },
  {
   "cell_type": "markdown",
   "id": "951dfec4",
   "metadata": {},
   "source": [
    "## Type"
   ]
  },
  {
   "cell_type": "code",
   "execution_count": null,
   "id": "ecb90f46",
   "metadata": {},
   "outputs": [],
   "source": [
    "# from sklearn.model_selection import train_test_split\n",
    "# from sklearn.preprocessing import LabelEncoder\n",
    "# from sklearn.preprocessing import OrdinalEncoder\n",
    "# from sklearn.feature_selection import SelectKBest\n",
    "# from sklearn.feature_selection import chi2\n",
    "# from matplotlib import pyplot\n",
    "\n",
    "# label_encoder = LabelEncoder()\n",
    "\n",
    "# # Encode each column of strings separately\n",
    "# test_data['gender'] = label_encoder.fit_transform(test_data['gender'])\n",
    "# test_data['signup_method'] = label_encoder.fit_transform(test_data['signup_method'])\n",
    "# test_data['language'] = label_encoder.fit_transform(test_data['language'])\n",
    "# test_data['affiliate_channel'] = label_encoder.fit_transform(test_data['affiliate_channel'])\n",
    "# test_data['signup_app'] = label_encoder.fit_transform(test_data['signup_app'])\n",
    "# test_data['first_device_type'] = label_encoder.fit_transform(test_data['first_device_type'])\n",
    "# test_data['first_browser'] = label_encoder.fit_transform(test_data['first_browser'])\n",
    "\n",
    "# test_data['most_frequent_action'] = label_encoder.fit_transform(test_data['most_frequent_action'])\n",
    "# test_data['most_frequent_action_type'] = label_encoder.fit_transform(test_data['most_frequent_action_type'])\n",
    "# test_data['most_frequent_action_detail'] = label_encoder.fit_transform(test_data['most_frequent_action_detail'])\n",
    "# test_data['most_frequent_device_type'] = label_encoder.fit_transform(test_data['most_frequent_device_type'])\n",
    "\n",
    "# test_data['affiliate_provider'] = label_encoder.fit_transform(test_data['affiliate_provider'])\n",
    "# test_data['first_affiliate_tracked'] = label_encoder.fit_transform(test_data['first_affiliate_tracked'])\n",
    "# # train_merge['country_destination'] = label_encoder.fit_transform(train_merge['country_destination'])"
   ]
  },
  {
   "cell_type": "code",
   "execution_count": null,
   "id": "f69c03f7",
   "metadata": {},
   "outputs": [],
   "source": [
    "# # Calculate the mode of the column\n",
    "# mode_value = test_data['age'].value_counts().idxmax()\n",
    "\n",
    "# # Impute missing values with the mode\n",
    "# test_data['age'] = test_data['age'].fillna(mode_value)"
   ]
  },
  {
   "cell_type": "code",
   "execution_count": null,
   "id": "66cc0046",
   "metadata": {},
   "outputs": [],
   "source": [
    "test_data[selected_feature_names]"
   ]
  },
  {
   "cell_type": "code",
   "execution_count": null,
   "id": "1f6624f2",
   "metadata": {},
   "outputs": [],
   "source": [
    "#Checking null values\n",
    "test_data.isnull().sum()"
   ]
  },
  {
   "cell_type": "code",
   "execution_count": null,
   "id": "e0f83e0a",
   "metadata": {},
   "outputs": [],
   "source": [
    "test_data = test_data.dropna()"
   ]
  },
  {
   "cell_type": "code",
   "execution_count": null,
   "id": "e86dc85a",
   "metadata": {},
   "outputs": [],
   "source": [
    "# Predict using the trained model\n",
    "test_predictions = pipeline.predict(test_data[selected_feature_names])"
   ]
  },
  {
   "cell_type": "code",
   "execution_count": null,
   "id": "9952795f",
   "metadata": {},
   "outputs": [],
   "source": [
    "train_merge['country_destination'] = train_merge['country_destination'].astype('category')\n",
    "\n",
    "# # Map predicted class labels to category codes\n",
    "test_data['predicted_country'] = pd.Categorical(test_predictions, categories=train_merge['country_destination'].cat.categories)"
   ]
  },
  {
   "cell_type": "code",
   "execution_count": null,
   "id": "0478bd75",
   "metadata": {},
   "outputs": [],
   "source": [
    "test_data"
   ]
  },
  {
   "cell_type": "code",
   "execution_count": null,
   "id": "0ef2444c",
   "metadata": {},
   "outputs": [],
   "source": [
    "test_data['predicted_country'].unique()"
   ]
  },
  {
   "cell_type": "code",
   "execution_count": null,
   "id": "05bc07b3",
   "metadata": {},
   "outputs": [],
   "source": [
    "import seaborn as sns\n",
    "import matplotlib.pyplot as plt\n",
    "\n",
    "sns.countplot(x='predicted_country', data=test_data)\n",
    "plt.title(\"predicted_country\", size=13);"
   ]
  },
  {
   "cell_type": "code",
   "execution_count": null,
   "id": "86bab3da",
   "metadata": {},
   "outputs": [],
   "source": [
    "# Predict using the trained model\n",
    "# test_predictions = pipeline.predict(test_data)\n",
    "\n",
    "submission = pd.read_csv(\"../data/sample_submission_NDF.csv\")\n",
    "\n",
    "# Prepare submission file\n",
    "submission['country'] = test_data[['predicted_country']]\n",
    "\n",
    "submission.to_csv('../data/submission.csv', index=False)"
   ]
  },
  {
   "cell_type": "code",
   "execution_count": null,
   "id": "ccecedc9",
   "metadata": {},
   "outputs": [],
   "source": []
  }
 ],
 "metadata": {
  "kernelspec": {
   "display_name": "Python 3 (ipykernel)",
   "language": "python",
   "name": "python3"
  },
  "language_info": {
   "codemirror_mode": {
    "name": "ipython",
    "version": 3
   },
   "file_extension": ".py",
   "mimetype": "text/x-python",
   "name": "python",
   "nbconvert_exporter": "python",
   "pygments_lexer": "ipython3",
   "version": "3.10.9"
  }
 },
 "nbformat": 4,
 "nbformat_minor": 5
}
