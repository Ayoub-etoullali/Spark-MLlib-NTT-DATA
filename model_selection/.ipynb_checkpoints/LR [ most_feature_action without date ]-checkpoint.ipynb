{
 "cells": [
  {
   "cell_type": "markdown",
   "id": "8a501a20",
   "metadata": {},
   "source": [
    "# Load"
   ]
  },
  {
   "cell_type": "code",
   "execution_count": null,
   "id": "56247d55",
   "metadata": {},
   "outputs": [],
   "source": [
    "import pandas as pd\n",
    "import numpy as np\n",
    "\n",
    "# Load the sessions dataset\n",
    "train_merge = pd.read_csv('../data/train_merge.csv')"
   ]
  },
  {
   "cell_type": "markdown",
   "id": "582ff8d5",
   "metadata": {},
   "source": [
    "# Type"
   ]
  },
  {
   "cell_type": "code",
   "execution_count": null,
   "id": "817b31b8",
   "metadata": {},
   "outputs": [],
   "source": [
    "from sklearn.model_selection import train_test_split\n",
    "from sklearn.preprocessing import LabelEncoder\n",
    "from sklearn.preprocessing import OrdinalEncoder\n",
    "from sklearn.feature_selection import SelectKBest\n",
    "from sklearn.feature_selection import chi2\n",
    "from matplotlib import pyplot\n",
    "\n",
    "label_encoder = LabelEncoder()\n",
    "\n",
    "# Encode each column of strings separately\n",
    "train_merge['gender'] = label_encoder.fit_transform(train_merge['gender'])\n",
    "train_merge['signup_method'] = label_encoder.fit_transform(train_merge['signup_method'])\n",
    "train_merge['language'] = label_encoder.fit_transform(train_merge['language'])\n",
    "train_merge['affiliate_channel'] = label_encoder.fit_transform(train_merge['affiliate_channel'])\n",
    "train_merge['affiliate_provider'] = label_encoder.fit_transform(train_merge['affiliate_provider'])\n",
    "train_merge['first_affiliate_tracked'] = label_encoder.fit_transform(train_merge['first_affiliate_tracked'])\n",
    "train_merge['signup_app'] = label_encoder.fit_transform(train_merge['signup_app'])\n",
    "train_merge['first_device_type'] = label_encoder.fit_transform(train_merge['first_device_type'])\n",
    "train_merge['first_browser'] = label_encoder.fit_transform(train_merge['first_browser'])\n",
    "train_merge['most_frequent_action'] = label_encoder.fit_transform(train_merge['most_frequent_action'])\n",
    "# train_merge['country_destination'] = label_encoder.fit_transform(train_merge['country_destination'])"
   ]
  },
  {
   "cell_type": "code",
   "execution_count": null,
   "id": "5956b5f4",
   "metadata": {},
   "outputs": [],
   "source": [
    "train_merge['date_account_created'] = pd.to_datetime(train_merge['date_account_created'])\n",
    "train_merge['timestamp_first_active'] = pd.to_datetime(train_merge['timestamp_first_active'])\n",
    "train_merge['date_first_booking'] = pd.to_datetime(train_merge['date_first_booking'])"
   ]
  },
  {
   "cell_type": "code",
   "execution_count": null,
   "id": "cd6b2fd2",
   "metadata": {},
   "outputs": [],
   "source": [
    "train_merge.dtypes"
   ]
  },
  {
   "cell_type": "code",
   "execution_count": null,
   "id": "785df461",
   "metadata": {},
   "outputs": [],
   "source": [
    "train_merge = train_merge.drop(['date_account_created','timestamp_first_active','date_first_booking'], axis=1)"
   ]
  },
  {
   "cell_type": "code",
   "execution_count": null,
   "id": "f3b6ecbb",
   "metadata": {},
   "outputs": [],
   "source": [
    "train_merge.to_csv('../data/train_merge_Num.csv',index=False)"
   ]
  },
  {
   "cell_type": "markdown",
   "id": "47bbd79a",
   "metadata": {},
   "source": [
    "# Data Preprocessing"
   ]
  },
  {
   "cell_type": "code",
   "execution_count": null,
   "id": "2a0311e5",
   "metadata": {},
   "outputs": [],
   "source": [
    "y = train_merge['country_destination']\n",
    "\n",
    "X = train_merge.drop(columns=['country_destination'])"
   ]
  },
  {
   "cell_type": "code",
   "execution_count": null,
   "id": "917e3686",
   "metadata": {},
   "outputs": [],
   "source": [
    "X_train, X_test, y_train, y_test= train_test_split(X,y,test_size=0.4, random_state=0)\n",
    "X_test.shape"
   ]
  },
  {
   "cell_type": "code",
   "execution_count": null,
   "id": "5bc9758e",
   "metadata": {},
   "outputs": [],
   "source": [
    "print(X_train.dtypes)"
   ]
  },
  {
   "cell_type": "code",
   "execution_count": null,
   "id": "8386542d",
   "metadata": {},
   "outputs": [],
   "source": [
    "print(y_train.dtypes)"
   ]
  },
  {
   "cell_type": "markdown",
   "id": "c9d3c60d",
   "metadata": {},
   "source": [
    "# selector1"
   ]
  },
  {
   "cell_type": "code",
   "execution_count": null,
   "id": "f5f1ba51",
   "metadata": {},
   "outputs": [],
   "source": [
    "from sklearn.feature_selection import SelectKBest\n",
    "from sklearn.feature_selection import chi2\n",
    "\n",
    "selector = SelectKBest(chi2, k='all')\n",
    "selector.fit(X_train, y_train)\n",
    "\n",
    "selected_feature_indices = selector.get_support(indices=True)\n",
    "\n",
    "selected_feature_names = X_train.columns[selected_feature_indices]\n",
    "print(selected_feature_names)"
   ]
  },
  {
   "cell_type": "code",
   "execution_count": null,
   "id": "8c35195e",
   "metadata": {},
   "outputs": [],
   "source": [
    "# Mutual Information : utilisée pour évaluer la relation entre chaque caractéristique et la variable cible.\n",
    "# Elle mesure la quantité d'information que chaque caractéristique fournit sur la variable cible.\n",
    "\n",
    "from sklearn.feature_selection import mutual_info_classif\n",
    "\n",
    "mutual_info= mutual_info_classif(X_train, y_train)\n",
    "mutual_info = pd.Series (mutual_info)\n",
    "mutual_info.index = X_train.columns\n",
    "mutual_info.sort_values(ascending=False)"
   ]
  },
  {
   "cell_type": "markdown",
   "id": "d13bab47",
   "metadata": {},
   "source": [
    "## selector2"
   ]
  },
  {
   "cell_type": "markdown",
   "id": "c5bef4ca",
   "metadata": {},
   "source": [
    "We need to convert \"country_destination\" to int"
   ]
  },
  {
   "cell_type": "code",
   "execution_count": null,
   "id": "882f08a9",
   "metadata": {},
   "outputs": [],
   "source": [
    "# # SelectPercentile : est une approche de sélection de caractéristiques permet de sélectionner un pourcentage spécifique\n",
    "# # des caractéristiques les plus importantes en fonction d'un test statistique.\n",
    "# from sklearn.feature_selection import SelectPercentile\n",
    "# from sklearn.feature_selection import f_regression\n",
    "\n",
    "# selector2 = SelectPercentile(f_regression, percentile=60)\n",
    "\n",
    "# selector2.fit(X, y)\n",
    "\n",
    "# selected_feature_indices2 = selector2.get_support(indices=True)\n",
    "\n",
    "# selected_feature_names2 = X.columns[selected_feature_indices2]\n",
    "\n",
    "# print(selected_feature_names2)"
   ]
  },
  {
   "cell_type": "markdown",
   "id": "9d36d014",
   "metadata": {},
   "source": [
    "## selector3"
   ]
  },
  {
   "cell_type": "code",
   "execution_count": null,
   "id": "823194ca",
   "metadata": {},
   "outputs": [],
   "source": [
    "from sklearn.feature_selection import f_classif\n",
    "\n",
    "# SelectKBest: est une methode de sélection de caractéristiques qui permet de sélectionner les K meilleures caractéristiques\n",
    "# en fonction d'un test statistique \n",
    "selector3 = SelectKBest(f_classif, k=10)\n",
    "selector3.fit(X, y)\n",
    "\n",
    "selected_feature_indices = selector3.get_support(indices=True)\n",
    "\n",
    "selected_feature_names = X.columns[selected_feature_indices]\n",
    "\n",
    "print(selected_feature_names)"
   ]
  },
  {
   "cell_type": "markdown",
   "id": "bfd67ed5",
   "metadata": {},
   "source": [
    "# Selected"
   ]
  },
  {
   "cell_type": "code",
   "execution_count": null,
   "id": "63490b23",
   "metadata": {},
   "outputs": [],
   "source": [
    "X = X[selected_feature_names]"
   ]
  },
  {
   "cell_type": "code",
   "execution_count": null,
   "id": "be674d3c",
   "metadata": {},
   "outputs": [],
   "source": [
    "X_train, X_test, y_train, y_test= train_test_split(X,y,test_size=0.4, random_state=0)\n",
    "X_test.shape"
   ]
  },
  {
   "cell_type": "markdown",
   "id": "fe82a3f8",
   "metadata": {},
   "source": [
    "# Fiting"
   ]
  },
  {
   "cell_type": "code",
   "execution_count": null,
   "id": "afcbb344",
   "metadata": {},
   "outputs": [],
   "source": [
    "from sklearn.preprocessing import StandardScaler\n",
    "from sklearn.linear_model import LogisticRegression\n",
    "from sklearn.pipeline import Pipeline\n",
    "\n",
    "# Create a pipeline with preprocessing and the logistic regression model\n",
    "pipeline = Pipeline([\n",
    "    ('classifier', LogisticRegression(max_iter=1000, random_state=42))  # Logistic Regression model\n",
    "])\n",
    "\n",
    "# Fit the pipeline on your training data\n",
    "pipeline.fit(X_train, y_train)"
   ]
  },
  {
   "cell_type": "markdown",
   "id": "f4ed1467",
   "metadata": {},
   "source": [
    "# Accuracy"
   ]
  },
  {
   "cell_type": "code",
   "execution_count": null,
   "id": "477ac2ee",
   "metadata": {},
   "outputs": [],
   "source": [
    "from sklearn.metrics import accuracy_score\n",
    "\n",
    "# Assuming you have trained your model and obtained predictions\n",
    "y_pred = pipeline.predict(X_test)\n",
    "\n",
    "# Calculate accuracy\n",
    "accuracy = accuracy_score(y_test, y_pred)\n",
    "\n",
    "print(\"Accuracy:\", accuracy)"
   ]
  },
  {
   "cell_type": "markdown",
   "id": "a51fa3ce",
   "metadata": {},
   "source": [
    "# Predict"
   ]
  },
  {
   "cell_type": "code",
   "execution_count": null,
   "id": "907310a7",
   "metadata": {},
   "outputs": [],
   "source": [
    "X.head()"
   ]
  },
  {
   "cell_type": "code",
   "execution_count": null,
   "id": "3a7dbe8c",
   "metadata": {},
   "outputs": [],
   "source": [
    "y"
   ]
  },
  {
   "cell_type": "code",
   "execution_count": null,
   "id": "cd403eb6",
   "metadata": {},
   "outputs": [],
   "source": [
    "# Assuming new_user_features is your new user's features\n",
    "new_user_features = [[1,41,1,0,4,6,2,7,16,91]]  \n",
    "\n",
    "# Predict the country destination for the new user\n",
    "predicted_destination = pipeline.predict(new_user_features)[0]\n",
    "\n",
    "print('Predicted Country Destination:', predicted_destination)"
   ]
  },
  {
   "cell_type": "markdown",
   "id": "cf58b96c",
   "metadata": {},
   "source": [
    "# Visualize"
   ]
  },
  {
   "cell_type": "code",
   "execution_count": null,
   "id": "02161fd3",
   "metadata": {},
   "outputs": [],
   "source": [
    "from sklearn.metrics import confusion_matrix\n",
    "\n",
    "conf_matrix = confusion_matrix(y_test, y_pred)\n",
    "\n",
    "print(f'Confusion Matrix:\\n{conf_matrix}')"
   ]
  },
  {
   "cell_type": "code",
   "execution_count": null,
   "id": "72d8ac01",
   "metadata": {},
   "outputs": [],
   "source": [
    "import seaborn as sns\n",
    "import matplotlib.pyplot as plt\n",
    "\n",
    "# Visualize confusion matrix\n",
    "sns.heatmap(conf_matrix, annot=True, cmap='Blues', fmt='d')\n",
    "plt.xlabel('Predicted')\n",
    "plt.ylabel('True')\n",
    "plt.title('Confusion Matrix')\n",
    "plt.show()"
   ]
  },
  {
   "cell_type": "markdown",
   "id": "a8b79d6e",
   "metadata": {},
   "source": [
    "# Submission"
   ]
  },
  {
   "cell_type": "code",
   "execution_count": null,
   "id": "1facc2bc",
   "metadata": {},
   "outputs": [],
   "source": [
    "from sklearn.impute import SimpleImputer\n",
    "from sklearn.preprocessing import LabelEncoder\n",
    "\n",
    "# Load and preprocess the test data\n",
    "test_data = pd.read_csv(\"../data/test_user.csv\")\n",
    "most_frequent_actions = pd.read_csv(\"../data/most_frequent_actions.csv\")\n",
    "\n",
    "# Merging\n",
    "test_data = test_data.merge(most_frequent_actions, left_on='id', right_on='user_id', how='inner')\n",
    "\n",
    "# Cleaning\n",
    "test_data = test_data[selected_feature_names]"
   ]
  },
  {
   "cell_type": "code",
   "execution_count": null,
   "id": "8c28a9c0",
   "metadata": {},
   "outputs": [],
   "source": [
    "test_data"
   ]
  },
  {
   "cell_type": "markdown",
   "id": "951dfec4",
   "metadata": {},
   "source": [
    "## Type"
   ]
  },
  {
   "cell_type": "code",
   "execution_count": null,
   "id": "ecb90f46",
   "metadata": {},
   "outputs": [],
   "source": [
    "from sklearn.model_selection import train_test_split\n",
    "from sklearn.preprocessing import LabelEncoder\n",
    "from sklearn.preprocessing import OrdinalEncoder\n",
    "from sklearn.feature_selection import SelectKBest\n",
    "from sklearn.feature_selection import chi2\n",
    "from matplotlib import pyplot\n",
    "\n",
    "label_encoder = LabelEncoder()\n",
    "\n",
    "# Encode each column of strings separately\n",
    "test_data['gender'] = label_encoder.fit_transform(test_data['gender'])\n",
    "test_data['signup_method'] = label_encoder.fit_transform(test_data['signup_method'])\n",
    "test_data['language'] = label_encoder.fit_transform(test_data['language'])\n",
    "test_data['affiliate_channel'] = label_encoder.fit_transform(test_data['affiliate_channel'])\n",
    "test_data['signup_app'] = label_encoder.fit_transform(test_data['signup_app'])\n",
    "test_data['first_device_type'] = label_encoder.fit_transform(test_data['first_device_type'])\n",
    "test_data['first_browser'] = label_encoder.fit_transform(test_data['first_browser'])\n",
    "test_data['most_frequent_action'] = label_encoder.fit_transform(test_data['most_frequent_action'])"
   ]
  },
  {
   "cell_type": "code",
   "execution_count": null,
   "id": "f69c03f7",
   "metadata": {},
   "outputs": [],
   "source": [
    "# Calculate the mode of the column\n",
    "mode_value = test_data['age'].value_counts().idxmax()\n",
    "\n",
    "# Impute missing values with the mode\n",
    "test_data['age'] = test_data['age'].fillna(mode_value)"
   ]
  },
  {
   "cell_type": "code",
   "execution_count": null,
   "id": "dd7af83d",
   "metadata": {},
   "outputs": [],
   "source": [
    "test_data"
   ]
  },
  {
   "cell_type": "code",
   "execution_count": null,
   "id": "2b31244c",
   "metadata": {},
   "outputs": [],
   "source": [
    "X"
   ]
  },
  {
   "cell_type": "code",
   "execution_count": null,
   "id": "e86dc85a",
   "metadata": {},
   "outputs": [],
   "source": [
    "# Predict using the trained model\n",
    "test_predictions = pipeline.predict(test_data[selected_feature_names])"
   ]
  },
  {
   "cell_type": "code",
   "execution_count": null,
   "id": "68e95c1c",
   "metadata": {},
   "outputs": [],
   "source": [
    "# # Convert numerical predictions back to country codes\n",
    "# train_merge['country_destination'] = train_merge['country_destination'].astype('category')\n",
    "\n",
    "# # Create a mapping between country labels and their integer codes\n",
    "# country_label_to_code = {label: code for code, label in enumerate(train_merge['country_destination'].cat.categories)}\n",
    "\n",
    "# # Map the predicted country labels to integer codes\n",
    "# test_predictions_codes = [country_label_to_code[label] for label in test_predictions]\n",
    "\n",
    "# # Convert class predictions to integer codes\n",
    "# test_predictions_codes = pd.Series(test_predictions_codes, name='predicted_country')\n",
    "\n",
    "# # Add the predicted_country codes to the test_data DataFrame\n",
    "# test_data = pd.concat([test_data, test_predictions_codes], axis=1)"
   ]
  },
  {
   "cell_type": "code",
   "execution_count": null,
   "id": "9952795f",
   "metadata": {},
   "outputs": [],
   "source": [
    "train_merge['country_destination'] = train_merge['country_destination'].astype('category')\n",
    "\n",
    "# Map predicted class labels to category codes\n",
    "predicted_categories = pd.Categorical(test_predictions, categories=train_merge['country_destination'].cat.categories)\n",
    "test_predictions_codes = predicted_categories.codes\n",
    "\n",
    "# Add predicted_country column to test_data\n",
    "test_data['predicted_country'] = test_predictions_codes"
   ]
  },
  {
   "cell_type": "code",
   "execution_count": null,
   "id": "86bab3da",
   "metadata": {},
   "outputs": [],
   "source": [
    "# Predict using the trained model\n",
    "# test_predictions = pipeline.predict(test_data)\n",
    "\n",
    "sample_submission_NDF = pd.read_csv(\"../data/sample_submission_NDF.csv\")\n",
    "\n",
    "# Prepare submission file\n",
    "submission['country'] = test_data[['predicted_country']]\n",
    "\n",
    "submission.to_csv('../data/submission.csv', index=False)"
   ]
  },
  {
   "cell_type": "code",
   "execution_count": null,
   "id": "e355bf0a",
   "metadata": {},
   "outputs": [],
   "source": []
  }
 ],
 "metadata": {
  "kernelspec": {
   "display_name": "Python 3 (ipykernel)",
   "language": "python",
   "name": "python3"
  },
  "language_info": {
   "codemirror_mode": {
    "name": "ipython",
    "version": 3
   },
   "file_extension": ".py",
   "mimetype": "text/x-python",
   "name": "python",
   "nbconvert_exporter": "python",
   "pygments_lexer": "ipython3",
   "version": "3.10.9"
  }
 },
 "nbformat": 4,
 "nbformat_minor": 5
}
