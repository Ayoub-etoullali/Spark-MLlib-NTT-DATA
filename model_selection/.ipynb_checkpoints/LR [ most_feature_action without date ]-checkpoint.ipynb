{
 "cells": [
  {
   "cell_type": "markdown",
   "id": "8a501a20",
   "metadata": {},
   "source": [
    "# Load & Info"
   ]
  },
  {
   "cell_type": "code",
   "execution_count": 242,
   "id": "56247d55",
   "metadata": {},
   "outputs": [],
   "source": [
    "import pandas as pd\n",
    "import numpy as np\n",
    "\n",
    "# Load the sessions dataset\n",
    "train_merge = pd.read_csv('../data/train_merge.csv')"
   ]
  },
  {
   "cell_type": "code",
   "execution_count": 276,
   "id": "d5f4f5fc",
   "metadata": {},
   "outputs": [
    {
     "data": {
      "image/png": "[encoded data removed]",
      "text/plain": [
       "<Figure size 640x480 with 1 Axes>"
      ]
     },
     "metadata": {},
     "output_type": "display_data"
    }
   ],
   "source": [
    "train_user = pd.read_csv('../data/train_merge.csv')\n",
    "\n",
    "sns.countplot(y='country_destination', data=train_merge)\n",
    "plt.title(\"country_destination\", size=13);"
   ]
  },
  {
   "cell_type": "markdown",
   "id": "582ff8d5",
   "metadata": {},
   "source": [
    "# Type"
   ]
  },
  {
   "cell_type": "code",
   "execution_count": 243,
   "id": "817b31b8",
   "metadata": {},
   "outputs": [],
   "source": [
    "from sklearn.model_selection import train_test_split\n",
    "from sklearn.preprocessing import LabelEncoder\n",
    "from sklearn.preprocessing import OrdinalEncoder\n",
    "from sklearn.feature_selection import SelectKBest\n",
    "from sklearn.feature_selection import chi2\n",
    "from matplotlib import pyplot\n",
    "\n",
    "label_encoder = LabelEncoder()\n",
    "\n",
    "# Encode each column of strings separately\n",
    "train_merge['gender'] = label_encoder.fit_transform(train_merge['gender'])\n",
    "train_merge['signup_method'] = label_encoder.fit_transform(train_merge['signup_method'])\n",
    "train_merge['language'] = label_encoder.fit_transform(train_merge['language'])\n",
    "train_merge['affiliate_channel'] = label_encoder.fit_transform(train_merge['affiliate_channel'])\n",
    "train_merge['affiliate_provider'] = label_encoder.fit_transform(train_merge['affiliate_provider'])\n",
    "train_merge['first_affiliate_tracked'] = label_encoder.fit_transform(train_merge['first_affiliate_tracked'])\n",
    "train_merge['signup_app'] = label_encoder.fit_transform(train_merge['signup_app'])\n",
    "train_merge['first_device_type'] = label_encoder.fit_transform(train_merge['first_device_type'])\n",
    "train_merge['first_browser'] = label_encoder.fit_transform(train_merge['first_browser'])\n",
    "train_merge['most_frequent_action'] = label_encoder.fit_transform(train_merge['most_frequent_action'])\n",
    "# train_merge['country_destination'] = label_encoder.fit_transform(train_merge['country_destination'])"
   ]
  },
  {
   "cell_type": "code",
   "execution_count": 244,
   "id": "5956b5f4",
   "metadata": {},
   "outputs": [],
   "source": [
    "train_merge['date_account_created'] = pd.to_datetime(train_merge['date_account_created'])\n",
    "train_merge['timestamp_first_active'] = pd.to_datetime(train_merge['timestamp_first_active'])\n",
    "train_merge['date_first_booking'] = pd.to_datetime(train_merge['date_first_booking'])"
   ]
  },
  {
   "cell_type": "code",
   "execution_count": 245,
   "id": "cd6b2fd2",
   "metadata": {},
   "outputs": [
    {
     "data": {
      "text/plain": [
       "date_account_created       datetime64[ns]\n",
       "timestamp_first_active     datetime64[ns]\n",
       "date_first_booking         datetime64[ns]\n",
       "gender                              int32\n",
       "age                                 int64\n",
       "signup_method                       int32\n",
       "signup_flow                         int64\n",
       "language                            int32\n",
       "affiliate_channel                   int32\n",
       "affiliate_provider                  int32\n",
       "first_affiliate_tracked             int32\n",
       "signup_app                          int32\n",
       "first_device_type                   int32\n",
       "first_browser                       int32\n",
       "country_destination                object\n",
       "most_frequent_action                int32\n",
       "dtype: object"
      ]
     },
     "execution_count": 245,
     "metadata": {},
     "output_type": "execute_result"
    }
   ],
   "source": [
    "train_merge.dtypes"
   ]
  },
  {
   "cell_type": "code",
   "execution_count": 246,
   "id": "785df461",
   "metadata": {},
   "outputs": [],
   "source": [
    "train_merge = train_merge.drop(['date_account_created','timestamp_first_active','date_first_booking'], axis=1)"
   ]
  },
  {
   "cell_type": "code",
   "execution_count": 247,
   "id": "f3b6ecbb",
   "metadata": {},
   "outputs": [],
   "source": [
    "train_merge.to_csv('../data/train_merge_Num.csv',index=False)"
   ]
  },
  {
   "cell_type": "markdown",
   "id": "47bbd79a",
   "metadata": {},
   "source": [
    "# Data Preprocessing"
   ]
  },
  {
   "cell_type": "code",
   "execution_count": 248,
   "id": "2a0311e5",
   "metadata": {},
   "outputs": [],
   "source": [
    "y = train_merge['country_destination']\n",
    "\n",
    "X = train_merge.drop(columns=['country_destination'])"
   ]
  },
  {
   "cell_type": "code",
   "execution_count": 249,
   "id": "917e3686",
   "metadata": {},
   "outputs": [
    {
     "data": {
      "text/plain": [
       "(8863, 12)"
      ]
     },
     "execution_count": 249,
     "metadata": {},
     "output_type": "execute_result"
    }
   ],
   "source": [
    "X_train, X_test, y_train, y_test= train_test_split(X,y,test_size=0.4, random_state=0)\n",
    "X_test.shape"
   ]
  },
  {
   "cell_type": "code",
   "execution_count": 250,
   "id": "5bc9758e",
   "metadata": {},
   "outputs": [
    {
     "name": "stdout",
     "output_type": "stream",
     "text": [
      "gender                     int32\n",
      "age                        int64\n",
      "signup_method              int32\n",
      "signup_flow                int64\n",
      "language                   int32\n",
      "affiliate_channel          int32\n",
      "affiliate_provider         int32\n",
      "first_affiliate_tracked    int32\n",
      "signup_app                 int32\n",
      "first_device_type          int32\n",
      "first_browser              int32\n",
      "most_frequent_action       int32\n",
      "dtype: object\n"
     ]
    }
   ],
   "source": [
    "print(X_train.dtypes)"
   ]
  },
  {
   "cell_type": "code",
   "execution_count": 251,
   "id": "8386542d",
   "metadata": {},
   "outputs": [
    {
     "name": "stdout",
     "output_type": "stream",
     "text": [
      "object\n"
     ]
    }
   ],
   "source": [
    "print(y_train.dtypes)"
   ]
  },
  {
   "cell_type": "markdown",
   "id": "c9d3c60d",
   "metadata": {},
   "source": [
    "# selector1"
   ]
  },
  {
   "cell_type": "code",
   "execution_count": 252,
   "id": "f5f1ba51",
   "metadata": {},
   "outputs": [
    {
     "name": "stdout",
     "output_type": "stream",
     "text": [
      "Index(['gender', 'age', 'signup_method', 'signup_flow', 'language',\n",
      "       'affiliate_channel', 'affiliate_provider', 'first_affiliate_tracked',\n",
      "       'signup_app', 'first_device_type', 'first_browser',\n",
      "       'most_frequent_action'],\n",
      "      dtype='object')\n"
     ]
    }
   ],
   "source": [
    "from sklearn.feature_selection import SelectKBest\n",
    "from sklearn.feature_selection import chi2\n",
    "\n",
    "selector = SelectKBest(chi2, k='all')\n",
    "selector.fit(X_train, y_train)\n",
    "\n",
    "selected_feature_indices = selector.get_support(indices=True)\n",
    "\n",
    "selected_feature_names = X_train.columns[selected_feature_indices]\n",
    "print(selected_feature_names)"
   ]
  },
  {
   "cell_type": "code",
   "execution_count": 253,
   "id": "8c35195e",
   "metadata": {},
   "outputs": [
    {
     "data": {
      "text/plain": [
       "most_frequent_action       0.007608\n",
       "language                   0.006908\n",
       "age                        0.004894\n",
       "first_affiliate_tracked    0.004000\n",
       "affiliate_channel          0.003835\n",
       "affiliate_provider         0.002393\n",
       "gender                     0.002348\n",
       "first_browser              0.001613\n",
       "signup_method              0.001465\n",
       "signup_flow                0.000000\n",
       "signup_app                 0.000000\n",
       "first_device_type          0.000000\n",
       "dtype: float64"
      ]
     },
     "execution_count": 253,
     "metadata": {},
     "output_type": "execute_result"
    }
   ],
   "source": [
    "# Mutual Information : utilisée pour évaluer la relation entre chaque caractéristique et la variable cible.\n",
    "# Elle mesure la quantité d'information que chaque caractéristique fournit sur la variable cible.\n",
    "\n",
    "from sklearn.feature_selection import mutual_info_classif\n",
    "\n",
    "mutual_info= mutual_info_classif(X_train, y_train)\n",
    "mutual_info = pd.Series (mutual_info)\n",
    "mutual_info.index = X_train.columns\n",
    "mutual_info.sort_values(ascending=False)"
   ]
  },
  {
   "cell_type": "markdown",
   "id": "d13bab47",
   "metadata": {},
   "source": [
    "## selector2"
   ]
  },
  {
   "cell_type": "markdown",
   "id": "c5bef4ca",
   "metadata": {},
   "source": [
    "We need to convert \"country_destination\" to int"
   ]
  },
  {
   "cell_type": "code",
   "execution_count": 254,
   "id": "882f08a9",
   "metadata": {},
   "outputs": [],
   "source": [
    "# # SelectPercentile : est une approche de sélection de caractéristiques permet de sélectionner un pourcentage spécifique\n",
    "# # des caractéristiques les plus importantes en fonction d'un test statistique.\n",
    "# from sklearn.feature_selection import SelectPercentile\n",
    "# from sklearn.feature_selection import f_regression\n",
    "\n",
    "# selector2 = SelectPercentile(f_regression, percentile=60)\n",
    "\n",
    "# selector2.fit(X, y)\n",
    "\n",
    "# selected_feature_indices2 = selector2.get_support(indices=True)\n",
    "\n",
    "# selected_feature_names2 = X.columns[selected_feature_indices2]\n",
    "\n",
    "# print(selected_feature_names2)"
   ]
  },
  {
   "cell_type": "markdown",
   "id": "9d36d014",
   "metadata": {},
   "source": [
    "## selector3"
   ]
  },
  {
   "cell_type": "code",
   "execution_count": 255,
   "id": "823194ca",
   "metadata": {},
   "outputs": [
    {
     "name": "stdout",
     "output_type": "stream",
     "text": [
      "Index(['gender', 'age', 'signup_flow', 'first_browser',\n",
      "       'most_frequent_action'],\n",
      "      dtype='object')\n"
     ]
    }
   ],
   "source": [
    "from sklearn.feature_selection import f_classif\n",
    "\n",
    "# SelectKBest: est une methode de sélection de caractéristiques qui permet de sélectionner les K meilleures caractéristiques\n",
    "# en fonction d'un test statistique \n",
    "selector3 = SelectKBest(f_classif, k=5)\n",
    "selector3.fit(X, y)\n",
    "\n",
    "selected_feature_indices = selector3.get_support(indices=True)\n",
    "\n",
    "selected_feature_names = X.columns[selected_feature_indices]\n",
    "\n",
    "print(selected_feature_names)"
   ]
  },
  {
   "cell_type": "markdown",
   "id": "bfd67ed5",
   "metadata": {},
   "source": [
    "# Selected"
   ]
  },
  {
   "cell_type": "code",
   "execution_count": 256,
   "id": "63490b23",
   "metadata": {},
   "outputs": [],
   "source": [
    "X = X[selected_feature_names]"
   ]
  },
  {
   "cell_type": "code",
   "execution_count": 257,
   "id": "be674d3c",
   "metadata": {},
   "outputs": [
    {
     "data": {
      "text/plain": [
       "(8863, 5)"
      ]
     },
     "execution_count": 257,
     "metadata": {},
     "output_type": "execute_result"
    }
   ],
   "source": [
    "X_train, X_test, y_train, y_test= train_test_split(X,y,test_size=0.4, random_state=0)\n",
    "X_test.shape"
   ]
  },
  {
   "cell_type": "markdown",
   "id": "fe82a3f8",
   "metadata": {},
   "source": [
    "# Fiting"
   ]
  },
  {
   "cell_type": "code",
   "execution_count": 258,
   "id": "afcbb344",
   "metadata": {},
   "outputs": [
    {
     "name": "stderr",
     "output_type": "stream",
     "text": [
      "C:\\Users\\ayoub\\anaconda3\\lib\\site-packages\\sklearn\\linear_model\\_logistic.py:458: ConvergenceWarning: lbfgs failed to converge (status=1):\n",
      "STOP: TOTAL NO. of ITERATIONS REACHED LIMIT.\n",
      "\n",
      "Increase the number of iterations (max_iter) or scale the data as shown in:\n",
      "    https://scikit-learn.org/stable/modules/preprocessing.html\n",
      "Please also refer to the documentation for alternative solver options:\n",
      "    https://scikit-learn.org/stable/modules/linear_model.html#logistic-regression\n",
      "  n_iter_i = _check_optimize_result(\n"
     ]
    },
    {
     "data": {
      "text/html": [
       "<style>#sk-container-id-9 {color: black;background-color: white;}#sk-container-id-9 pre{padding: 0;}#sk-container-id-9 div.sk-toggleable {background-color: white;}#sk-container-id-9 label.sk-toggleable__label {cursor: pointer;display: block;width: 100%;margin-bottom: 0;padding: 0.3em;box-sizing: border-box;text-align: center;}#sk-container-id-9 label.sk-toggleable__label-arrow:before {content: \"▸\";float: left;margin-right: 0.25em;color: #696969;}#sk-container-id-9 label.sk-toggleable__label-arrow:hover:before {color: black;}#sk-container-id-9 div.sk-estimator:hover label.sk-toggleable__label-arrow:before {color: black;}#sk-container-id-9 div.sk-toggleable__content {max-height: 0;max-width: 0;overflow: hidden;text-align: left;background-color: #f0f8ff;}#sk-container-id-9 div.sk-toggleable__content pre {margin: 0.2em;color: black;border-radius: 0.25em;background-color: #f0f8ff;}#sk-container-id-9 input.sk-toggleable__control:checked~div.sk-toggleable__content {max-height: 200px;max-width: 100%;overflow: auto;}#sk-container-id-9 input.sk-toggleable__control:checked~label.sk-toggleable__label-arrow:before {content: \"▾\";}#sk-container-id-9 div.sk-estimator input.sk-toggleable__control:checked~label.sk-toggleable__label {background-color: #d4ebff;}#sk-container-id-9 div.sk-label input.sk-toggleable__control:checked~label.sk-toggleable__label {background-color: #d4ebff;}#sk-container-id-9 input.sk-hidden--visually {border: 0;clip: rect(1px 1px 1px 1px);clip: rect(1px, 1px, 1px, 1px);height: 1px;margin: -1px;overflow: hidden;padding: 0;position: absolute;width: 1px;}#sk-container-id-9 div.sk-estimator {font-family: monospace;background-color: #f0f8ff;border: 1px dotted black;border-radius: 0.25em;box-sizing: border-box;margin-bottom: 0.5em;}#sk-container-id-9 div.sk-estimator:hover {background-color: #d4ebff;}#sk-container-id-9 div.sk-parallel-item::after {content: \"\";width: 100%;border-bottom: 1px solid gray;flex-grow: 1;}#sk-container-id-9 div.sk-label:hover label.sk-toggleable__label {background-color: #d4ebff;}#sk-container-id-9 div.sk-serial::before {content: \"\";position: absolute;border-left: 1px solid gray;box-sizing: border-box;top: 0;bottom: 0;left: 50%;z-index: 0;}#sk-container-id-9 div.sk-serial {display: flex;flex-direction: column;align-items: center;background-color: white;padding-right: 0.2em;padding-left: 0.2em;position: relative;}#sk-container-id-9 div.sk-item {position: relative;z-index: 1;}#sk-container-id-9 div.sk-parallel {display: flex;align-items: stretch;justify-content: center;background-color: white;position: relative;}#sk-container-id-9 div.sk-item::before, #sk-container-id-9 div.sk-parallel-item::before {content: \"\";position: absolute;border-left: 1px solid gray;box-sizing: border-box;top: 0;bottom: 0;left: 50%;z-index: -1;}#sk-container-id-9 div.sk-parallel-item {display: flex;flex-direction: column;z-index: 1;position: relative;background-color: white;}#sk-container-id-9 div.sk-parallel-item:first-child::after {align-self: flex-end;width: 50%;}#sk-container-id-9 div.sk-parallel-item:last-child::after {align-self: flex-start;width: 50%;}#sk-container-id-9 div.sk-parallel-item:only-child::after {width: 0;}#sk-container-id-9 div.sk-dashed-wrapped {border: 1px dashed gray;margin: 0 0.4em 0.5em 0.4em;box-sizing: border-box;padding-bottom: 0.4em;background-color: white;}#sk-container-id-9 div.sk-label label {font-family: monospace;font-weight: bold;display: inline-block;line-height: 1.2em;}#sk-container-id-9 div.sk-label-container {text-align: center;}#sk-container-id-9 div.sk-container {/* jupyter's `normalize.less` sets `[hidden] { display: none; }` but bootstrap.min.css set `[hidden] { display: none !important; }` so we also need the `!important` here to be able to override the default hidden behavior on the sphinx rendered scikit-learn.org. See: https://github.com/scikit-learn/scikit-learn/issues/21755 */display: inline-block !important;position: relative;}#sk-container-id-9 div.sk-text-repr-fallback {display: none;}</style><div id=\"sk-container-id-9\" class=\"sk-top-container\"><div class=\"sk-text-repr-fallback\"><pre>Pipeline(steps=[(&#x27;classifier&#x27;,\n",
       "                 LogisticRegression(max_iter=1000, random_state=42))])</pre><b>In a Jupyter environment, please rerun this cell to show the HTML representation or trust the notebook. <br />On GitHub, the HTML representation is unable to render, please try loading this page with nbviewer.org.</b></div><div class=\"sk-container\" hidden><div class=\"sk-item sk-dashed-wrapped\"><div class=\"sk-label-container\"><div class=\"sk-label sk-toggleable\"><input class=\"sk-toggleable__control sk-hidden--visually\" id=\"sk-estimator-id-17\" type=\"checkbox\" ><label for=\"sk-estimator-id-17\" class=\"sk-toggleable__label sk-toggleable__label-arrow\">Pipeline</label><div class=\"sk-toggleable__content\"><pre>Pipeline(steps=[(&#x27;classifier&#x27;,\n",
       "                 LogisticRegression(max_iter=1000, random_state=42))])</pre></div></div></div><div class=\"sk-serial\"><div class=\"sk-item\"><div class=\"sk-estimator sk-toggleable\"><input class=\"sk-toggleable__control sk-hidden--visually\" id=\"sk-estimator-id-18\" type=\"checkbox\" ><label for=\"sk-estimator-id-18\" class=\"sk-toggleable__label sk-toggleable__label-arrow\">LogisticRegression</label><div class=\"sk-toggleable__content\"><pre>LogisticRegression(max_iter=1000, random_state=42)</pre></div></div></div></div></div></div></div>"
      ],
      "text/plain": [
       "Pipeline(steps=[('classifier',\n",
       "                 LogisticRegression(max_iter=1000, random_state=42))])"
      ]
     },
     "execution_count": 258,
     "metadata": {},
     "output_type": "execute_result"
    }
   ],
   "source": [
    "from sklearn.preprocessing import StandardScaler\n",
    "from sklearn.linear_model import LogisticRegression\n",
    "from sklearn.pipeline import Pipeline\n",
    "\n",
    "# Create a pipeline with preprocessing and the logistic regression model\n",
    "pipeline = Pipeline([\n",
    "    ('classifier', LogisticRegression(max_iter=1000, random_state=42))  # Logistic Regression model\n",
    "])\n",
    "\n",
    "# Fit the pipeline on your training data\n",
    "pipeline.fit(X_train, y_train)"
   ]
  },
  {
   "cell_type": "markdown",
   "id": "f4ed1467",
   "metadata": {},
   "source": [
    "# Accuracy"
   ]
  },
  {
   "cell_type": "code",
   "execution_count": 259,
   "id": "477ac2ee",
   "metadata": {},
   "outputs": [
    {
     "name": "stdout",
     "output_type": "stream",
     "text": [
      "Accuracy: 0.7213133250592351\n"
     ]
    }
   ],
   "source": [
    "from sklearn.metrics import accuracy_score\n",
    "\n",
    "# Assuming you have trained your model and obtained predictions\n",
    "y_pred = pipeline.predict(X_test)\n",
    "\n",
    "# Calculate accuracy\n",
    "accuracy = accuracy_score(y_test, y_pred)\n",
    "\n",
    "print(\"Accuracy:\", accuracy) \n",
    "# 0.7213133250592351\n",
    "# 0.7089350180505415"
   ]
  },
  {
   "cell_type": "markdown",
   "id": "a51fa3ce",
   "metadata": {},
   "source": [
    "# Predict"
   ]
  },
  {
   "cell_type": "code",
   "execution_count": 260,
   "id": "907310a7",
   "metadata": {},
   "outputs": [
    {
     "data": {
      "text/html": [
       "<div>\n",
       "<style scoped>\n",
       "    .dataframe tbody tr th:only-of-type {\n",
       "        vertical-align: middle;\n",
       "    }\n",
       "\n",
       "    .dataframe tbody tr th {\n",
       "        vertical-align: top;\n",
       "    }\n",
       "\n",
       "    .dataframe thead th {\n",
       "        text-align: right;\n",
       "    }\n",
       "</style>\n",
       "<table border=\"1\" class=\"dataframe\">\n",
       "  <thead>\n",
       "    <tr style=\"text-align: right;\">\n",
       "      <th></th>\n",
       "      <th>gender</th>\n",
       "      <th>age</th>\n",
       "      <th>signup_flow</th>\n",
       "      <th>first_browser</th>\n",
       "      <th>most_frequent_action</th>\n",
       "    </tr>\n",
       "  </thead>\n",
       "  <tbody>\n",
       "    <tr>\n",
       "      <th>0</th>\n",
       "      <td>2</td>\n",
       "      <td>62</td>\n",
       "      <td>0</td>\n",
       "      <td>5</td>\n",
       "      <td>91</td>\n",
       "    </tr>\n",
       "    <tr>\n",
       "      <th>1</th>\n",
       "      <td>1</td>\n",
       "      <td>32</td>\n",
       "      <td>0</td>\n",
       "      <td>16</td>\n",
       "      <td>16</td>\n",
       "    </tr>\n",
       "    <tr>\n",
       "      <th>2</th>\n",
       "      <td>0</td>\n",
       "      <td>19</td>\n",
       "      <td>0</td>\n",
       "      <td>20</td>\n",
       "      <td>71</td>\n",
       "    </tr>\n",
       "    <tr>\n",
       "      <th>3</th>\n",
       "      <td>1</td>\n",
       "      <td>32</td>\n",
       "      <td>0</td>\n",
       "      <td>16</td>\n",
       "      <td>16</td>\n",
       "    </tr>\n",
       "    <tr>\n",
       "      <th>4</th>\n",
       "      <td>0</td>\n",
       "      <td>76</td>\n",
       "      <td>0</td>\n",
       "      <td>16</td>\n",
       "      <td>91</td>\n",
       "    </tr>\n",
       "  </tbody>\n",
       "</table>\n",
       "</div>"
      ],
      "text/plain": [
       "   gender  age  signup_flow  first_browser  most_frequent_action\n",
       "0       2   62            0              5                    91\n",
       "1       1   32            0             16                    16\n",
       "2       0   19            0             20                    71\n",
       "3       1   32            0             16                    16\n",
       "4       0   76            0             16                    91"
      ]
     },
     "execution_count": 260,
     "metadata": {},
     "output_type": "execute_result"
    }
   ],
   "source": [
    "X.head()"
   ]
  },
  {
   "cell_type": "code",
   "execution_count": 261,
   "id": "3a7dbe8c",
   "metadata": {},
   "outputs": [
    {
     "data": {
      "text/plain": [
       "0        other\n",
       "1           US\n",
       "2        other\n",
       "3           US\n",
       "4        other\n",
       "         ...  \n",
       "22151       FR\n",
       "22152       US\n",
       "22153       ES\n",
       "22154       US\n",
       "22155       US\n",
       "Name: country_destination, Length: 22156, dtype: object"
      ]
     },
     "execution_count": 261,
     "metadata": {},
     "output_type": "execute_result"
    }
   ],
   "source": [
    "y"
   ]
  },
  {
   "cell_type": "code",
   "execution_count": 262,
   "id": "cd403eb6",
   "metadata": {},
   "outputs": [
    {
     "name": "stdout",
     "output_type": "stream",
     "text": [
      "Predicted Country Destination: US\n"
     ]
    },
    {
     "name": "stderr",
     "output_type": "stream",
     "text": [
      "C:\\Users\\ayoub\\anaconda3\\lib\\site-packages\\sklearn\\base.py:420: UserWarning: X does not have valid feature names, but LogisticRegression was fitted with feature names\n",
      "  warnings.warn(\n"
     ]
    }
   ],
   "source": [
    "# Assuming new_user_features is your new user's features\n",
    "new_user_features = [[1,41,1,5,8]]  \n",
    "\n",
    "# Predict the country destination for the new user\n",
    "predicted_destination = pipeline.predict(new_user_features)[0]\n",
    "\n",
    "print('Predicted Country Destination:', predicted_destination)"
   ]
  },
  {
   "cell_type": "markdown",
   "id": "cf58b96c",
   "metadata": {},
   "source": [
    "# Visualize"
   ]
  },
  {
   "cell_type": "code",
   "execution_count": 263,
   "id": "02161fd3",
   "metadata": {},
   "outputs": [
    {
     "name": "stdout",
     "output_type": "stream",
     "text": [
      "Confusion Matrix:\n",
      "[[   0    0    0    0    0    0    0    0    0   45    0]\n",
      " [   0    0    0    0    0    0    0    0    0  117    0]\n",
      " [   0    0    0    0    0    0    0    0    0   72    0]\n",
      " [   0    0    0    0    0    0    0    0    0  211    0]\n",
      " [   0    0    0    0    0    0    0    0    0  401    0]\n",
      " [   0    0    0    0    0    0    0    0    0  219    0]\n",
      " [   0    0    0    0    0    0    0    0    0  255    0]\n",
      " [   0    0    0    0    0    0    0    0    0   78    0]\n",
      " [   0    0    0    0    0    0    0    0    0   13    0]\n",
      " [   0    0    0    0    0    0    0    0    0 6393    0]\n",
      " [   0    0    0    0    0    0    0    0    0 1059    0]]\n"
     ]
    }
   ],
   "source": [
    "from sklearn.metrics import confusion_matrix\n",
    "\n",
    "conf_matrix = confusion_matrix(y_test, y_pred)\n",
    "\n",
    "print(f'Confusion Matrix:\\n{conf_matrix}')"
   ]
  },
  {
   "cell_type": "code",
   "execution_count": 264,
   "id": "72d8ac01",
   "metadata": {},
   "outputs": [
    {
     "data": {
      "image/png": "[encoded data removed]",
      "text/plain": [
       "<Figure size 640x480 with 2 Axes>"
      ]
     },
     "metadata": {},
     "output_type": "display_data"
    }
   ],
   "source": [
    "import seaborn as sns\n",
    "import matplotlib.pyplot as plt\n",
    "\n",
    "# Visualize confusion matrix\n",
    "sns.heatmap(conf_matrix, annot=True, cmap='Blues', fmt='d')\n",
    "plt.xlabel('Predicted')\n",
    "plt.ylabel('True')\n",
    "plt.title('Confusion Matrix')\n",
    "plt.show()"
   ]
  },
  {
   "cell_type": "markdown",
   "id": "a8b79d6e",
   "metadata": {},
   "source": [
    "# Submission"
   ]
  },
  {
   "cell_type": "code",
   "execution_count": 265,
   "id": "1facc2bc",
   "metadata": {},
   "outputs": [],
   "source": [
    "from sklearn.impute import SimpleImputer\n",
    "from sklearn.preprocessing import LabelEncoder\n",
    "\n",
    "# Load and preprocess the test data\n",
    "test_data = pd.read_csv(\"../data/test_user.csv\")\n",
    "most_frequent_actions = pd.read_csv(\"../data/most_frequent_actions.csv\")\n",
    "\n",
    "# Merging\n",
    "test_data = test_data.merge(most_frequent_actions, left_on='id', right_on='user_id', how='inner')\n",
    "\n",
    "# Cleaning\n",
    "test_data = test_data[selected_feature_names]"
   ]
  },
  {
   "cell_type": "markdown",
   "id": "951dfec4",
   "metadata": {},
   "source": [
    "## Type"
   ]
  },
  {
   "cell_type": "code",
   "execution_count": 266,
   "id": "ecb90f46",
   "metadata": {},
   "outputs": [],
   "source": [
    "from sklearn.model_selection import train_test_split\n",
    "from sklearn.preprocessing import LabelEncoder\n",
    "from sklearn.preprocessing import OrdinalEncoder\n",
    "from sklearn.feature_selection import SelectKBest\n",
    "from sklearn.feature_selection import chi2\n",
    "from matplotlib import pyplot\n",
    "\n",
    "label_encoder = LabelEncoder()\n",
    "\n",
    "# Encode each column of strings separately\n",
    "test_data['gender'] = label_encoder.fit_transform(test_data['gender'])\n",
    "# test_data['signup_method'] = label_encoder.fit_transform(test_data['signup_method'])\n",
    "# test_data['language'] = label_encoder.fit_transform(test_data['language'])\n",
    "# test_data['affiliate_channel'] = label_encoder.fit_transform(test_data['affiliate_channel'])\n",
    "# test_data['signup_app'] = label_encoder.fit_transform(test_data['signup_app'])\n",
    "# test_data['first_device_type'] = label_encoder.fit_transform(test_data['first_device_type'])\n",
    "test_data['first_browser'] = label_encoder.fit_transform(test_data['first_browser'])\n",
    "test_data['most_frequent_action'] = label_encoder.fit_transform(test_data['most_frequent_action'])"
   ]
  },
  {
   "cell_type": "code",
   "execution_count": 267,
   "id": "f69c03f7",
   "metadata": {},
   "outputs": [],
   "source": [
    "# Calculate the mode of the column\n",
    "mode_value = test_data['age'].value_counts().idxmax()\n",
    "\n",
    "# Impute missing values with the mode\n",
    "test_data['age'] = test_data['age'].fillna(mode_value)"
   ]
  },
  {
   "cell_type": "code",
   "execution_count": 268,
   "id": "e86dc85a",
   "metadata": {},
   "outputs": [],
   "source": [
    "# Predict using the trained model\n",
    "test_predictions = pipeline.predict(test_data[selected_feature_names])"
   ]
  },
  {
   "cell_type": "code",
   "execution_count": 269,
   "id": "9952795f",
   "metadata": {},
   "outputs": [],
   "source": [
    "train_merge['country_destination'] = train_merge['country_destination'].astype('category')\n",
    "\n",
    "# # Map predicted class labels to category codes\n",
    "test_data['predicted_country'] = pd.Categorical(test_predictions, categories=train_merge['country_destination'].cat.categories)"
   ]
  },
  {
   "cell_type": "code",
   "execution_count": 270,
   "id": "0478bd75",
   "metadata": {},
   "outputs": [
    {
     "data": {
      "text/html": [
       "<div>\n",
       "<style scoped>\n",
       "    .dataframe tbody tr th:only-of-type {\n",
       "        vertical-align: middle;\n",
       "    }\n",
       "\n",
       "    .dataframe tbody tr th {\n",
       "        vertical-align: top;\n",
       "    }\n",
       "\n",
       "    .dataframe thead th {\n",
       "        text-align: right;\n",
       "    }\n",
       "</style>\n",
       "<table border=\"1\" class=\"dataframe\">\n",
       "  <thead>\n",
       "    <tr style=\"text-align: right;\">\n",
       "      <th></th>\n",
       "      <th>gender</th>\n",
       "      <th>age</th>\n",
       "      <th>signup_flow</th>\n",
       "      <th>first_browser</th>\n",
       "      <th>most_frequent_action</th>\n",
       "      <th>predicted_country</th>\n",
       "    </tr>\n",
       "  </thead>\n",
       "  <tbody>\n",
       "    <tr>\n",
       "      <th>0</th>\n",
       "      <td>1</td>\n",
       "      <td>35.0</td>\n",
       "      <td>0</td>\n",
       "      <td>17</td>\n",
       "      <td>109</td>\n",
       "      <td>US</td>\n",
       "    </tr>\n",
       "    <tr>\n",
       "      <th>1</th>\n",
       "      <td>0</td>\n",
       "      <td>28.0</td>\n",
       "      <td>0</td>\n",
       "      <td>17</td>\n",
       "      <td>41</td>\n",
       "      <td>US</td>\n",
       "    </tr>\n",
       "    <tr>\n",
       "      <th>2</th>\n",
       "      <td>0</td>\n",
       "      <td>28.0</td>\n",
       "      <td>0</td>\n",
       "      <td>5</td>\n",
       "      <td>110</td>\n",
       "      <td>US</td>\n",
       "    </tr>\n",
       "    <tr>\n",
       "      <th>3</th>\n",
       "      <td>0</td>\n",
       "      <td>28.0</td>\n",
       "      <td>0</td>\n",
       "      <td>11</td>\n",
       "      <td>87</td>\n",
       "      <td>US</td>\n",
       "    </tr>\n",
       "    <tr>\n",
       "      <th>4</th>\n",
       "      <td>0</td>\n",
       "      <td>28.0</td>\n",
       "      <td>0</td>\n",
       "      <td>23</td>\n",
       "      <td>104</td>\n",
       "      <td>US</td>\n",
       "    </tr>\n",
       "    <tr>\n",
       "      <th>...</th>\n",
       "      <td>...</td>\n",
       "      <td>...</td>\n",
       "      <td>...</td>\n",
       "      <td>...</td>\n",
       "      <td>...</td>\n",
       "      <td>...</td>\n",
       "    </tr>\n",
       "    <tr>\n",
       "      <th>61663</th>\n",
       "      <td>0</td>\n",
       "      <td>31.0</td>\n",
       "      <td>0</td>\n",
       "      <td>11</td>\n",
       "      <td>132</td>\n",
       "      <td>US</td>\n",
       "    </tr>\n",
       "    <tr>\n",
       "      <th>61664</th>\n",
       "      <td>0</td>\n",
       "      <td>28.0</td>\n",
       "      <td>23</td>\n",
       "      <td>0</td>\n",
       "      <td>114</td>\n",
       "      <td>US</td>\n",
       "    </tr>\n",
       "    <tr>\n",
       "      <th>61665</th>\n",
       "      <td>0</td>\n",
       "      <td>28.0</td>\n",
       "      <td>0</td>\n",
       "      <td>9</td>\n",
       "      <td>110</td>\n",
       "      <td>US</td>\n",
       "    </tr>\n",
       "    <tr>\n",
       "      <th>61666</th>\n",
       "      <td>0</td>\n",
       "      <td>28.0</td>\n",
       "      <td>0</td>\n",
       "      <td>23</td>\n",
       "      <td>38</td>\n",
       "      <td>US</td>\n",
       "    </tr>\n",
       "    <tr>\n",
       "      <th>61667</th>\n",
       "      <td>1</td>\n",
       "      <td>49.0</td>\n",
       "      <td>0</td>\n",
       "      <td>5</td>\n",
       "      <td>45</td>\n",
       "      <td>US</td>\n",
       "    </tr>\n",
       "  </tbody>\n",
       "</table>\n",
       "<p>61668 rows × 6 columns</p>\n",
       "</div>"
      ],
      "text/plain": [
       "       gender   age  signup_flow  first_browser  most_frequent_action  \\\n",
       "0           1  35.0            0             17                   109   \n",
       "1           0  28.0            0             17                    41   \n",
       "2           0  28.0            0              5                   110   \n",
       "3           0  28.0            0             11                    87   \n",
       "4           0  28.0            0             23                   104   \n",
       "...       ...   ...          ...            ...                   ...   \n",
       "61663       0  31.0            0             11                   132   \n",
       "61664       0  28.0           23              0                   114   \n",
       "61665       0  28.0            0              9                   110   \n",
       "61666       0  28.0            0             23                    38   \n",
       "61667       1  49.0            0              5                    45   \n",
       "\n",
       "      predicted_country  \n",
       "0                    US  \n",
       "1                    US  \n",
       "2                    US  \n",
       "3                    US  \n",
       "4                    US  \n",
       "...                 ...  \n",
       "61663                US  \n",
       "61664                US  \n",
       "61665                US  \n",
       "61666                US  \n",
       "61667                US  \n",
       "\n",
       "[61668 rows x 6 columns]"
      ]
     },
     "execution_count": 270,
     "metadata": {},
     "output_type": "execute_result"
    }
   ],
   "source": [
    "test_data"
   ]
  },
  {
   "cell_type": "code",
   "execution_count": 271,
   "id": "0ef2444c",
   "metadata": {},
   "outputs": [
    {
     "data": {
      "text/plain": [
       "['US', 'GB']\n",
       "Categories (11, object): ['AU', 'CA', 'DE', 'ES', ..., 'NL', 'PT', 'US', 'other']"
      ]
     },
     "execution_count": 271,
     "metadata": {},
     "output_type": "execute_result"
    }
   ],
   "source": [
    "test_data['predicted_country'].unique()"
   ]
  },
  {
   "cell_type": "code",
   "execution_count": 272,
   "id": "05bc07b3",
   "metadata": {},
   "outputs": [
    {
     "data": {
      "image/png": "[encoded data removed]",
      "text/plain": [
       "<Figure size 640x480 with 1 Axes>"
      ]
     },
     "metadata": {},
     "output_type": "display_data"
    }
   ],
   "source": [
    "import seaborn as sns\n",
    "import matplotlib.pyplot as plt\n",
    "\n",
    "sns.countplot(x='predicted_country', data=test_data)\n",
    "plt.title(\"predicted_country\", size=13);"
   ]
  },
  {
   "cell_type": "code",
   "execution_count": 277,
   "id": "86bab3da",
   "metadata": {},
   "outputs": [],
   "source": [
    "# Predict using the trained model\n",
    "# test_predictions = pipeline.predict(test_data)\n",
    "\n",
    "submission = pd.read_csv(\"../data/sample_submission_NDF.csv\")\n",
    "\n",
    "# Prepare submission file\n",
    "submission['country'] = test_data[['predicted_country']]\n",
    "\n",
    "submission.to_csv('../data/submission.csv', index=False)"
   ]
  }
 ],
 "metadata": {
  "kernelspec": {
   "display_name": "Python 3 (ipykernel)",
   "language": "python",
   "name": "python3"
  },
  "language_info": {
   "codemirror_mode": {
    "name": "ipython",
    "version": 3
   },
   "file_extension": ".py",
   "mimetype": "text/x-python",
   "name": "python",
   "nbconvert_exporter": "python",
   "pygments_lexer": "ipython3",
   "version": "3.10.9"
  }
 },
 "nbformat": 4,
 "nbformat_minor": 5
}
