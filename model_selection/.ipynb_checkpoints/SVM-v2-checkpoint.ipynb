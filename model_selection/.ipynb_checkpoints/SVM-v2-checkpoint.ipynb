{
 "cells": [
  {
   "cell_type": "code",
   "execution_count": null,
   "id": "a0ae340d",
   "metadata": {},
   "outputs": [],
   "source": [
    "import numpy as np\n",
    "import pandas as pd\n",
    "import matplotlib.pyplot as plt\n",
    "import sklearn as sk\n",
    "import datetime\n",
    "import os\n",
    "import seaborn as sns\n",
    "from datetime import date\n",
    "from sklearn.metrics import *\n",
    "from sklearn.model_selection import *\n",
    "from sklearn.preprocessing import LabelBinarizer\n",
    "from sklearn.preprocessing import LabelEncoder\n",
    "from sklearn.preprocessing import StandardScaler"
   ]
  },
  {
   "cell_type": "code",
   "execution_count": null,
   "id": "b31ad6fc",
   "metadata": {},
   "outputs": [],
   "source": [
    "xtrain = pd.read_csv(\"../data/Airbnb_xtrain_v4.csv\", index_col=0)\n",
    "ytrain = pd.read_csv(\"../data/Airbnb_ytrain_v3.csv\",index_col=0)"
   ]
  },
  {
   "cell_type": "code",
   "execution_count": null,
   "id": "9cfa3051",
   "metadata": {},
   "outputs": [],
   "source": [
    "X_scaler = StandardScaler()\n",
    "xtrain = X_scaler.fit_transform(xtrain) "
   ]
  },
  {
   "cell_type": "code",
   "execution_count": null,
   "id": "78de2c43",
   "metadata": {},
   "outputs": [],
   "source": [
    "xtrain=pd.DataFrame(xtrain)"
   ]
  },
  {
   "cell_type": "code",
   "execution_count": null,
   "id": "0e875bbb",
   "metadata": {},
   "outputs": [],
   "source": [
    "xtrain"
   ]
  },
  {
   "cell_type": "code",
   "execution_count": null,
   "id": "3ad07538",
   "metadata": {},
   "outputs": [],
   "source": [
    "ytrain"
   ]
  },
  {
   "cell_type": "code",
   "execution_count": null,
   "id": "112f8eef",
   "metadata": {},
   "outputs": [],
   "source": [
    "xtrain_new = xtrain.values[:20000]\n",
    "ytrain_new = ytrain.values[:20000]"
   ]
  },
  {
   "cell_type": "code",
   "execution_count": null,
   "id": "55eba433",
   "metadata": {},
   "outputs": [],
   "source": [
    "from sklearn.metrics import make_scorer\n",
    "\n",
    "def dcg_score(y_true, y_score, k=5):\n",
    "\n",
    "    \"\"\"\n",
    "    y_true : array, shape = [n_samples] \n",
    "        Ground truth (true relevance labels).\n",
    "    y_score : array, shape = [n_samples, n_classes]\n",
    "        Predicted scores.\n",
    "    k : int\n",
    "    \"\"\"\n",
    "    order = np.argsort(y_score)[::-1] # Sort the score from high to low\n",
    "    y_true = np.take(y_true, order[:k]) # Get top k score\n",
    "\n",
    "    gain = 2 ** y_true - 1   \n",
    "\n",
    "    discounts = np.log2(np.arange(len(y_true)) + 2)\n",
    "    return np.sum(gain / discounts)\n",
    "\n",
    "def ndcg_score(ground_truth, predictions, k=5):   \n",
    "\n",
    "    \"\"\"\n",
    "    Parameters\n",
    "    ----------\n",
    "    ground_truth : array, shape = [n_samples]\n",
    "        Ground truth (true labels represended as integers).\n",
    "    predictions : array, shape = [n_samples, n_classes] \n",
    "        Predicted probabilities. \n",
    "    k : int\n",
    "        Rank.\n",
    "    \"\"\"\n",
    "    lb = LabelBinarizer()\n",
    "    lb.fit(range(len(predictions) + 1))\n",
    "    T = lb.transform(ground_truth)    \n",
    "    scores = []\n",
    "    # Iterate over each y_true and compute the DCG score\n",
    "    for y_true, y_score in zip(T, predictions):\n",
    "        actual = dcg_score(y_true, y_score, k)\n",
    "        best = dcg_score(y_true, y_true, k)\n",
    "        score = float(actual) / float(best)\n",
    "        scores.append(score)\n",
    "\n",
    "    return np.mean(scores)\n"
   ]
  },
  {
   "cell_type": "code",
   "execution_count": null,
   "id": "6b59d6b1",
   "metadata": {},
   "outputs": [],
   "source": [
    "from sklearn.svm import SVC, LinearSVC, NuSVC\n",
    "TOL = 1e-4\n",
    "MAX_ITER = 1000\n",
    "svm_name = []\n",
    "RANDOM_STATE=1000\n",
    "clf_svm = {\n",
    "\n",
    "    'SVM-rbf': SVC(kernel='rbf',\n",
    "                   max_iter=MAX_ITER,\n",
    "                   tol=TOL, random_state=RANDOM_STATE,\n",
    "                   decision_function_shape='ovr'),     \n",
    "\n",
    "    'SVM-poly': SVC(kernel='poly',\n",
    "                   max_iter=MAX_ITER,\n",
    "                   tol=TOL, random_state=RANDOM_STATE,\n",
    "                   decision_function_shape='ovr'),     \n",
    "\n",
    "    'SVM-linear': SVC(kernel='linear',\n",
    "                      max_iter=MAX_ITER,\n",
    "                      tol=TOL, \n",
    "                      random_state=RANDOM_STATE,\n",
    "                      decision_function_shape='ovr'),  \n",
    "\n",
    "    'LinearSVC': LinearSVC(max_iter=MAX_ITER,\n",
    "                            tol=TOL,\n",
    "                            random_state=RANDOM_STATE,\n",
    "                            multi_class = 'ovr') \n",
    "    }\n",
    "\n",
    "train_score_svm = []\n",
    "cv_score_svm = []\n",
    "\n",
    "kf = KFold(n_splits=5,shuffle=True ,random_state=RANDOM_STATE)\n",
    "\n",
    "k_ndcg = 5\n",
    "\n",
    "for key in clf_svm.keys():\n",
    "\n",
    "    clf = clf_svm.get(key)\n",
    "\n",
    "    train_score_iter = []\n",
    "    cv_score_iter = []\n",
    "\n",
    "    for train_index, test_index in kf.split(xtrain_new, ytrain_new):\n",
    "\n",
    "        X_train, X_test = xtrain_new[train_index, :], xtrain_new[test_index, :]\n",
    "        y_train, y_test = ytrain_new[train_index], ytrain_new[test_index]\n",
    "\n",
    "        clf.fit(X_train, y_train)\n",
    "\n",
    "        y_pred = clf.decision_function(X_test)\n",
    "        train_ndcg_score = ndcg_score(y_train, clf.decision_function(X_train), k = k_ndcg)\n",
    "        cv_ndcg_score = ndcg_score(y_test, y_pred, k=k_ndcg)\n",
    "\n",
    "        train_score_iter.append(train_ndcg_score)\n",
    "        cv_score_iter.append(cv_ndcg_score)\n",
    "\n",
    "    train_score_svm.append(np.mean(train_score_iter))\n",
    "    cv_score_svm.append(np.mean(cv_score_iter))\n",
    "    svm_name.append(key)"
   ]
  },
  {
   "cell_type": "markdown",
   "id": "b28d5841",
   "metadata": {},
   "source": [
    "ymin = np.min(cv_score_svm)-0.05\n",
    "ymax = np.max(train_score_svm)+0.05\n",
    "\n",
    "x_ticks = svm_name\n",
    "\n",
    "plt.figure(figsize=(8,5))\n",
    "plt.plot(range(len(x_ticks)), train_score_svm, 'ro-', label = 'training')\n",
    "plt.plot(range(len(x_ticks)),cv_score_svm, 'bo-', label = 'Cross-validation')\n",
    "\n",
    "plt.xticks(range(len(x_ticks)),x_ticks,rotation = 45, fontsize = 10)\n",
    "plt.xlabel(\"Tree method\", fontsize = 12)\n",
    "plt.ylabel(\"Score\", fontsize = 12)\n",
    "plt.xlim(-0.5, 3.5)\n",
    "plt.ylim(ymin, ymax)\n",
    "\n",
    "plt.legend(loc = 'best', fontsize = 12)\n",
    "plt.title(\"Different SVM methods\")\n",
    "\n",
    "plt.tight_layout()"
   ]
  },
  {
   "cell_type": "markdown",
   "id": "affa7bb2",
   "metadata": {},
   "source": [
    "cv_score_svm"
   ]
  }
 ],
 "metadata": {
  "kernelspec": {
   "display_name": "Python 3 (ipykernel)",
   "language": "python",
   "name": "python3"
  },
  "language_info": {
   "codemirror_mode": {
    "name": "ipython",
    "version": 3
   },
   "file_extension": ".py",
   "mimetype": "text/x-python",
   "name": "python",
   "nbconvert_exporter": "python",
   "pygments_lexer": "ipython3",
   "version": "3.10.9"
  }
 },
 "nbformat": 4,
 "nbformat_minor": 5
}
