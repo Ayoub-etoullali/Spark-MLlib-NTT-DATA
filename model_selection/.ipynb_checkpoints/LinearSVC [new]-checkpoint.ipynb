{
 "cells": [
  {
   "cell_type": "markdown",
   "id": "8a501a20",
   "metadata": {},
   "source": [
    "# Load & Info"
   ]
  },
  {
   "cell_type": "code",
   "execution_count": null,
   "id": "56247d55",
   "metadata": {},
   "outputs": [],
   "source": [
    "import pandas as pd\n",
    "import numpy as np\n",
    "import matplotlib.pyplot as plt\n",
    "import seaborn as sns\n",
    "from sklearn.model_selection import train_test_split\n",
    "from sklearn.svm import LinearSVC\n",
    "from sklearn.metrics import accuracy_score, classification_report\n",
    "\n",
    "# Load the sessions dataset\n",
    "X = pd.read_csv('../data/train_merge_tfidf.csv')\n",
    "y = pd.read_csv('../data/y.csv')"
   ]
  },
  {
   "cell_type": "markdown",
   "id": "9d36d014",
   "metadata": {},
   "source": [
    "## selector"
   ]
  },
  {
   "cell_type": "code",
   "execution_count": null,
   "id": "823194ca",
   "metadata": {},
   "outputs": [],
   "source": [
    "from sklearn.feature_selection import f_classif\n",
    "from sklearn.feature_selection import SelectKBest\n",
    "\n",
    "# SelectKBest: est une methode de sélection de caractéristiques qui permet de sélectionner les K meilleures caractéristiques en fonction d'un test statistique \n",
    "\n",
    "selector3 = SelectKBest(f_classif, k=15)\n",
    "selector3.fit(X, y)\n",
    "\n",
    "selected_feature_indices = selector3.get_support(indices=True)\n",
    "\n",
    "selected_feature_names = X.columns[selected_feature_indices]\n",
    "\n",
    "print(selected_feature_names)"
   ]
  },
  {
   "cell_type": "markdown",
   "id": "bfd67ed5",
   "metadata": {},
   "source": [
    "# Selected"
   ]
  },
  {
   "cell_type": "code",
   "execution_count": null,
   "id": "6b2bbc9f",
   "metadata": {
    "scrolled": true
   },
   "outputs": [],
   "source": [
    "selected_feature_names"
   ]
  },
  {
   "cell_type": "code",
   "execution_count": null,
   "id": "63490b23",
   "metadata": {},
   "outputs": [],
   "source": [
    "X = X[selected_feature_names]"
   ]
  },
  {
   "cell_type": "code",
   "execution_count": null,
   "id": "7845ec88",
   "metadata": {},
   "outputs": [],
   "source": [
    "# X = X[:20000]\n",
    "# y = y[:20000]"
   ]
  },
  {
   "cell_type": "code",
   "execution_count": null,
   "id": "587ac1d8",
   "metadata": {},
   "outputs": [],
   "source": [
    "X.shape"
   ]
  },
  {
   "cell_type": "code",
   "execution_count": null,
   "id": "2a9b8e87",
   "metadata": {},
   "outputs": [],
   "source": [
    "y.shape"
   ]
  },
  {
   "cell_type": "code",
   "execution_count": null,
   "id": "be674d3c",
   "metadata": {},
   "outputs": [],
   "source": [
    "# Split the data into training and testing sets\n",
    "X_train, X_test, y_train, y_test = train_test_split(X, y, test_size=0.2, random_state=42)"
   ]
  },
  {
   "cell_type": "markdown",
   "id": "fe82a3f8",
   "metadata": {},
   "source": [
    "# Fiting"
   ]
  },
  {
   "cell_type": "code",
   "execution_count": null,
   "id": "afcbb344",
   "metadata": {},
   "outputs": [],
   "source": [
    "# Create and train the LinearSVC model\n",
    "model = LinearSVC()\n",
    "model.fit(X_train, y_train)"
   ]
  },
  {
   "cell_type": "markdown",
   "id": "4d82e291",
   "metadata": {},
   "source": [
    "# Evaluation"
   ]
  },
  {
   "cell_type": "code",
   "execution_count": null,
   "id": "2f38cc23",
   "metadata": {},
   "outputs": [],
   "source": [
    "# Make predictions on the test set\n",
    "y_pred = model.predict(X_test)"
   ]
  },
  {
   "cell_type": "code",
   "execution_count": null,
   "id": "477ac2ee",
   "metadata": {},
   "outputs": [],
   "source": [
    "# Evaluate the model\n",
    "accuracy = accuracy_score(y_test, y_pred)\n",
    "report = classification_report(y_test, y_pred)\n",
    "\n",
    "# Print the evaluation metrics\n",
    "print(f'Accuracy: {accuracy}')\n",
    "print(f'Classification Report:\\n{report}')"
   ]
  },
  {
   "cell_type": "markdown",
   "id": "a51fa3ce",
   "metadata": {},
   "source": [
    "# Predict"
   ]
  },
  {
   "cell_type": "code",
   "execution_count": null,
   "id": "907310a7",
   "metadata": {},
   "outputs": [],
   "source": [
    "X.head()"
   ]
  },
  {
   "cell_type": "code",
   "execution_count": null,
   "id": "3a7dbe8c",
   "metadata": {},
   "outputs": [],
   "source": [
    "y"
   ]
  },
  {
   "cell_type": "code",
   "execution_count": null,
   "id": "cd403eb6",
   "metadata": {},
   "outputs": [],
   "source": [
    "# # Assuming new_user_features is your new user's features\n",
    "# new_user_features = [[1,41,1,5,8,5,55,5,5,5,4,4,9,7,3,9]]  \n",
    "\n",
    "# # Predict the country destination for the new user\n",
    "# predicted_destination = pipeline.predict(new_user_features)[0]\n",
    "\n",
    "# print('Predicted Country Destination:', predicted_destination)"
   ]
  },
  {
   "cell_type": "markdown",
   "id": "cf58b96c",
   "metadata": {},
   "source": [
    "# Visualize"
   ]
  },
  {
   "cell_type": "code",
   "execution_count": null,
   "id": "02161fd3",
   "metadata": {},
   "outputs": [],
   "source": [
    "from sklearn.metrics import confusion_matrix\n",
    "\n",
    "conf_matrix = confusion_matrix(y_test, y_pred)\n",
    "\n",
    "print(f'Confusion Matrix:\\n{conf_matrix}')"
   ]
  },
  {
   "cell_type": "code",
   "execution_count": null,
   "id": "72d8ac01",
   "metadata": {},
   "outputs": [],
   "source": [
    "import seaborn as sns\n",
    "\n",
    "# Visualize confusion matrix\n",
    "sns.heatmap(conf_matrix, annot=True, cmap='Blues', fmt='d')\n",
    "plt.xlabel('Predicted')\n",
    "plt.ylabel('True')\n",
    "plt.title('Confusion Matrix')\n",
    "plt.show()"
   ]
  },
  {
   "cell_type": "code",
   "execution_count": null,
   "id": "a9f289d9",
   "metadata": {},
   "outputs": [],
   "source": [
    "# Submission1"
   ]
  },
  {
   "cell_type": "code",
   "execution_count": null,
   "id": "98142807",
   "metadata": {},
   "outputs": [],
   "source": [
    "#test csv\n",
    "\n",
    "# Load and preprocess the test data\n",
    "test_data = pd.read_csv(\"../data/test_merge_tfidf.csv\")\n",
    "\n",
    "test_df = pd.read_csv('../data/test_users.csv')\n",
    "\n",
    "test_id = test_df['id'].values\n",
    "\n",
    "test_id\n",
    "\n",
    "# https://www.kaggle.com/kevinwu06/feature-importance-w-xgboost\n",
    "\n",
    "pred = clf.predict_proba(test_data[selected_feature_names])\n",
    "\n",
    "ids = []\n",
    "countries = []\n",
    "\n",
    "# Taking the 5 classes with highest probabilities\n",
    "\n",
    "for i in range(len(test_id)):\n",
    "    idx = test_id[i]\n",
    "    ids += [idx] * 5\n",
    "    countries += le.inverse_transform(np.argsort(pred[i])[::-1][:5]).tolist()\n",
    "    \n",
    "# Generate submission\n",
    "\n",
    "sub = pd.DataFrame({\"id\" : ids,\"country\" : countries})\n",
    "\n",
    "sub.to_csv('../data/submission_LSVC_new.csv', index = False)\n",
    "\n",
    "import seaborn as sns\n",
    "import matplotlib.pyplot as plt\n",
    "\n",
    "# Create the countplot\n",
    "sns.set(style=\"darkgrid\")\n",
    "plt.figure(figsize=(8, 6))  # Optional: Set the figure size\n",
    "\n",
    "# Calculate percentages\n",
    "total_samples = len(test_data)\n",
    "ax = sns.countplot(x='country', data=sub, order=sub['country'].value_counts().index)\n",
    "\n",
    "# Add percentages to the plot\n",
    "for p in ax.patches:\n",
    "    height = p.get_height()\n",
    "    ax.annotate(f'{height/total_samples*100:.2f}%', (p.get_x() + p.get_width() / 2., height), ha='center', va='bottom')\n",
    "\n",
    "plt.title(\"Predicted Country Distribution\", size=13)\n",
    "plt.ylabel(\"Percentage\")\n",
    "plt.xticks(rotation=90)  # Optional: Rotate x-axis labels if needed\n",
    "plt.show()"
   ]
  },
  {
   "cell_type": "markdown",
   "id": "a8b79d6e",
   "metadata": {},
   "source": [
    "# Submission"
   ]
  },
  {
   "cell_type": "code",
   "execution_count": null,
   "id": "1facc2bc",
   "metadata": {},
   "outputs": [],
   "source": [
    "from sklearn.impute import SimpleImputer\n",
    "from sklearn.preprocessing import LabelEncoder\n",
    "\n",
    "# Load and preprocess the test data\n",
    "test_data = pd.read_csv(\"../data/test_merge_tfidf.csv\")\n",
    "\n",
    "# Cleaning\n",
    "test_data = test_data[selected_feature_names]"
   ]
  },
  {
   "cell_type": "code",
   "execution_count": null,
   "id": "e4e5542d",
   "metadata": {},
   "outputs": [],
   "source": [
    "test_data = test_data[selected_feature_names]"
   ]
  },
  {
   "cell_type": "code",
   "execution_count": null,
   "id": "e0f83e0a",
   "metadata": {},
   "outputs": [],
   "source": [
    "#Checking null values\n",
    "test_data.isnull().sum()"
   ]
  },
  {
   "cell_type": "code",
   "execution_count": null,
   "id": "3d18883a",
   "metadata": {},
   "outputs": [],
   "source": [
    "test_data = test_data.dropna()"
   ]
  },
  {
   "cell_type": "code",
   "execution_count": null,
   "id": "c92c4669",
   "metadata": {},
   "outputs": [],
   "source": [
    "# Predict using the trained model\n",
    "test_predictions = model.predict(test_data[selected_feature_names])"
   ]
  },
  {
   "cell_type": "code",
   "execution_count": null,
   "id": "335625a1",
   "metadata": {},
   "outputs": [],
   "source": [
    "y"
   ]
  },
  {
   "cell_type": "code",
   "execution_count": null,
   "id": "3ae55162",
   "metadata": {},
   "outputs": [],
   "source": [
    "y['country_destination'] = y['target_column_name'].astype('category')\n",
    "\n",
    "# # Map predicted class labels to category codes\n",
    "test_data['predicted_country'] = pd.Categorical(test_predictions, categories=y['country_destination'].cat.categories)"
   ]
  },
  {
   "cell_type": "code",
   "execution_count": null,
   "id": "9780c064",
   "metadata": {},
   "outputs": [],
   "source": [
    "test_data['predicted_country'].unique()"
   ]
  },
  {
   "cell_type": "code",
   "execution_count": null,
   "id": "9da25de3",
   "metadata": {},
   "outputs": [],
   "source": [
    "test_data['predicted_country'].value_counts()"
   ]
  },
  {
   "cell_type": "code",
   "execution_count": null,
   "id": "a8c6ce3c",
   "metadata": {},
   "outputs": [],
   "source": [
    "import seaborn as sns\n",
    "import matplotlib.pyplot as plt\n",
    "\n",
    "# Create the countplot\n",
    "sns.set(style=\"darkgrid\")\n",
    "plt.figure(figsize=(8, 6))  # Optional: Set the figure size\n",
    "\n",
    "# Calculate percentages\n",
    "total_samples = len(test_data)\n",
    "ax = sns.countplot(x='predicted_country', data=test_data, order=test_data['predicted_country'].value_counts().index)\n",
    "\n",
    "# Add percentages to the plot\n",
    "for p in ax.patches:\n",
    "    height = p.get_height()\n",
    "    ax.annotate(f'{height/total_samples*100:.2f}%', (p.get_x() + p.get_width() / 2., height), ha='center', va='bottom')\n",
    "\n",
    "plt.title(\"Predicted Country Distribution\", size=13)\n",
    "plt.ylabel(\"Percentage\")\n",
    "plt.xticks(rotation=90)  # Optional: Rotate x-axis labels if needed\n",
    "plt.show()"
   ]
  },
  {
   "cell_type": "code",
   "execution_count": null,
   "id": "86bab3da",
   "metadata": {},
   "outputs": [],
   "source": [
    "# Predict using the trained model\n",
    "# test_predictions = pipeline.predict(test_data)\n",
    "\n",
    "submission = pd.read_csv(\"../data/sample_submission_NDF.csv\")\n",
    "\n",
    "# Prepare submission file\n",
    "submission['country'] = test_data[['predicted_country']]\n",
    "\n",
    "submission.to_csv('../data/submission.csv', index=False)"
   ]
  }
 ],
 "metadata": {
  "kernelspec": {
   "display_name": "Python 3 (ipykernel)",
   "language": "python",
   "name": "python3"
  },
  "language_info": {
   "codemirror_mode": {
    "name": "ipython",
    "version": 3
   },
   "file_extension": ".py",
   "mimetype": "text/x-python",
   "name": "python",
   "nbconvert_exporter": "python",
   "pygments_lexer": "ipython3",
   "version": "3.10.9"
  }
 },
 "nbformat": 4,
 "nbformat_minor": 5
}
