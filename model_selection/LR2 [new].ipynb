{
 "cells": [
  {
   "cell_type": "markdown",
   "id": "47bbd79a",
   "metadata": {},
   "source": [
    "# Load & Info & Data Preprocessing"
   ]
  },
  {
   "cell_type": "code",
   "execution_count": 149,
   "id": "39c349da",
   "metadata": {},
   "outputs": [],
   "source": [
    "import pandas as pd\n",
    "import numpy as np\n",
    "import matplotlib.pyplot as plt\n",
    "import seaborn as sns\n",
    "\n",
    "# Load the sessions dataset\n",
    "X = pd.read_csv('../data/train_merge_tfidf.csv')\n",
    "y = pd.read_csv('../data/y.csv')"
   ]
  },
  {
   "cell_type": "markdown",
   "id": "9d36d014",
   "metadata": {},
   "source": [
    "## selector3"
   ]
  },
  {
   "cell_type": "code",
   "execution_count": 150,
   "id": "823194ca",
   "metadata": {},
   "outputs": [
    {
     "name": "stderr",
     "output_type": "stream",
     "text": [
      "C:\\Users\\ayoub\\anaconda3\\lib\\site-packages\\sklearn\\utils\\validation.py:1143: DataConversionWarning: A column-vector y was passed when a 1d array was expected. Please change the shape of y to (n_samples, ), for example using ravel().\n",
      "  y = column_or_1d(y, warn=True)\n"
     ]
    },
    {
     "name": "stdout",
     "output_type": "stream",
     "text": [
      "Index(['1', '2', '11', '12', '13', '76', '87', '128', '197', '246', '296',\n",
      "       '320', '337', '376', '389', '394', '397', '433', '462', '473', '475',\n",
      "       '479', '522'],\n",
      "      dtype='object')\n"
     ]
    },
    {
     "name": "stderr",
     "output_type": "stream",
     "text": [
      "C:\\Users\\ayoub\\anaconda3\\lib\\site-packages\\sklearn\\feature_selection\\_univariate_selection.py:112: UserWarning: Features [5 8] are constant.\n",
      "  warnings.warn(\"Features %s are constant.\" % constant_features_idx, UserWarning)\n",
      "C:\\Users\\ayoub\\anaconda3\\lib\\site-packages\\sklearn\\feature_selection\\_univariate_selection.py:113: RuntimeWarning: invalid value encountered in divide\n",
      "  f = msb / msw\n"
     ]
    }
   ],
   "source": [
    "from sklearn.feature_selection import f_classif\n",
    "from sklearn.feature_selection import SelectKBest\n",
    "\n",
    "# SelectKBest: est une methode de sélection de caractéristiques qui permet de sélectionner les K meilleures caractéristiques\n",
    "# en fonction d'un test statistique \n",
    "selector3 = SelectKBest(f_classif, k=23)\n",
    "selector3.fit(X, y)\n",
    "\n",
    "selected_feature_indices = selector3.get_support(indices=True)\n",
    "\n",
    "selected_feature_names = X.columns[selected_feature_indices]\n",
    "\n",
    "print(selected_feature_names)"
   ]
  },
  {
   "cell_type": "markdown",
   "id": "bfd67ed5",
   "metadata": {},
   "source": [
    "# Selected"
   ]
  },
  {
   "cell_type": "code",
   "execution_count": 151,
   "id": "6b2bbc9f",
   "metadata": {},
   "outputs": [
    {
     "data": {
      "text/plain": [
       "Index(['1', '2', '11', '12', '13', '76', '87', '128', '197', '246', '296',\n",
       "       '320', '337', '376', '389', '394', '397', '433', '462', '473', '475',\n",
       "       '479', '522'],\n",
       "      dtype='object')"
      ]
     },
     "execution_count": 151,
     "metadata": {},
     "output_type": "execute_result"
    }
   ],
   "source": [
    "selected_feature_names"
   ]
  },
  {
   "cell_type": "code",
   "execution_count": 152,
   "id": "59e5ad42",
   "metadata": {},
   "outputs": [],
   "source": [
    "X = X[selected_feature_names]"
   ]
  },
  {
   "cell_type": "code",
   "execution_count": 153,
   "id": "34da8081",
   "metadata": {},
   "outputs": [],
   "source": [
    "X = X[:20000]\n",
    "y = y[:20000]"
   ]
  },
  {
   "cell_type": "code",
   "execution_count": 154,
   "id": "c4e3df07",
   "metadata": {},
   "outputs": [
    {
     "data": {
      "text/plain": [
       "(20000, 23)"
      ]
     },
     "execution_count": 154,
     "metadata": {},
     "output_type": "execute_result"
    }
   ],
   "source": [
    "X.shape"
   ]
  },
  {
   "cell_type": "code",
   "execution_count": 155,
   "id": "632cca1f",
   "metadata": {},
   "outputs": [
    {
     "data": {
      "text/plain": [
       "(20000, 1)"
      ]
     },
     "execution_count": 155,
     "metadata": {},
     "output_type": "execute_result"
    }
   ],
   "source": [
    "y.shape"
   ]
  },
  {
   "cell_type": "code",
   "execution_count": 156,
   "id": "be674d3c",
   "metadata": {},
   "outputs": [
    {
     "data": {
      "text/plain": [
       "(8000, 23)"
      ]
     },
     "execution_count": 156,
     "metadata": {},
     "output_type": "execute_result"
    }
   ],
   "source": [
    "from sklearn.model_selection import train_test_split\n",
    "\n",
    "X_train, X_test, y_train, y_test= train_test_split(X,y,test_size=0.4, random_state=0)\n",
    "X_test.shape"
   ]
  },
  {
   "cell_type": "code",
   "execution_count": 157,
   "id": "d42c58ea",
   "metadata": {},
   "outputs": [],
   "source": [
    "from sklearn.metrics import make_scorer\n",
    "\n",
    "# https://www.kaggle.com/davidgasquez/ndcg-scorer\n",
    "\n",
    "def dcg_score(y_true, y_score, k=5):\n",
    "    \n",
    "    \"\"\"Discounted cumulative gain (DCG) at rank K.\n",
    "\n",
    "    Parameters\n",
    "    ----------\n",
    "    y_true : array, shape = [n_samples]\n",
    "        Ground truth (true relevance labels).\n",
    "    y_score : array, shape = [n_samples, n_classes]\n",
    "        Predicted scores.\n",
    "    k : int\n",
    "        Rank.\n",
    "\n",
    "    Returns\n",
    "    -------\n",
    "    score : float\n",
    "    \"\"\"\n",
    "    \n",
    "    order = np.argsort(y_score)[::-1]\n",
    "    y_true = np.take(y_true, order[:k])\n",
    "\n",
    "    gain = 2 ** y_true - 1\n",
    "\n",
    "    discounts = np.log2(np.arange(len(y_true)) + 2)\n",
    "    return np.sum(gain / discounts)\n",
    "\n",
    "\n",
    "def ndcg_score(ground_truth, predictions, k=5):\n",
    "    \n",
    "    \"\"\"Normalized discounted cumulative gain (NDCG) at rank K.\n",
    "\n",
    "    Normalized Discounted Cumulative Gain (NDCG) measures the performance of a\n",
    "    recommendation system based on the graded relevance of the recommended\n",
    "    entities. It varies from 0.0 to 1.0, with 1.0 representing the ideal\n",
    "    ranking of the entities.\n",
    "\n",
    "    Parameters\n",
    "    ----------\n",
    "    ground_truth : array, shape = [n_samples]\n",
    "        Ground truth (true labels represended as integers).\n",
    "    predictions : array, shape = [n_samples, n_classes]\n",
    "        Predicted probabilities.\n",
    "    k : int\n",
    "        Rank.\n",
    "\n",
    "    Returns\n",
    "    -------\n",
    "    score : float\n",
    "\n",
    "    Example\n",
    "    -------\n",
    "    >>> ground_truth = [1, 0, 2]\n",
    "    >>> predictions = [[0.15, 0.55, 0.2], [0.7, 0.2, 0.1], [0.06, 0.04, 0.9]]\n",
    "    >>> score = ndcg_score(ground_truth, predictions, k=2)\n",
    "    1.0\n",
    "    >>> predictions = [[0.9, 0.5, 0.8], [0.7, 0.2, 0.1], [0.06, 0.04, 0.9]]\n",
    "    >>> score = ndcg_score(ground_truth, predictions, k=2)\n",
    "    0.6666666666\n",
    "    \"\"\"\n",
    "    \n",
    "    lb = LabelBinarizer()\n",
    "    lb.fit(range(predictions.shape[1] + 1))\n",
    "    T = lb.transform(ground_truth)\n",
    "\n",
    "    scores = []\n",
    "\n",
    "    # Iterate over each y_true and compute the DCG score\n",
    "    for y_true, y_score in zip(T, predictions):\n",
    "        actual = dcg_score(y_true, y_score, k)\n",
    "        best = dcg_score(y_true, y_true, k)\n",
    "        score = float(actual) / float(best)\n",
    "        scores.append(score)\n",
    "\n",
    "    return np.mean(scores)\n",
    "\n",
    "\n",
    "# NDCG Scorer function\n",
    "ndcg_scorer = make_scorer(ndcg_score, needs_proba=True, k=5)"
   ]
  },
  {
   "cell_type": "markdown",
   "id": "fe82a3f8",
   "metadata": {},
   "source": [
    "# Fiting"
   ]
  },
  {
   "cell_type": "code",
   "execution_count": 158,
   "id": "afcbb344",
   "metadata": {},
   "outputs": [],
   "source": [
    "from sklearn import linear_model\n",
    "from sklearn.model_selection import RandomizedSearchCV\n",
    "\n",
    "params =  {'C':[0.0001, 0.001, 0.01]}\n",
    "\n",
    "lr = linear_model.LogisticRegression(multi_class=\"multinomial\",solver=\"lbfgs\")\n",
    "\n",
    "clf = RandomizedSearchCV(lr, params, verbose=10, n_iter=3 ,n_jobs=-1,scoring=ndcg_scorer)"
   ]
  },
  {
   "cell_type": "code",
   "execution_count": 159,
   "id": "b51ba821",
   "metadata": {},
   "outputs": [
    {
     "name": "stdout",
     "output_type": "stream",
     "text": [
      "Fitting 5 folds for each of 3 candidates, totalling 15 fits\n"
     ]
    },
    {
     "name": "stderr",
     "output_type": "stream",
     "text": [
      "C:\\Users\\ayoub\\anaconda3\\lib\\site-packages\\sklearn\\model_selection\\_search.py:952: UserWarning: One or more of the test scores are non-finite: [nan nan nan]\n",
      "  warnings.warn(\n",
      "C:\\Users\\ayoub\\anaconda3\\lib\\site-packages\\sklearn\\utils\\validation.py:1143: DataConversionWarning: A column-vector y was passed when a 1d array was expected. Please change the shape of y to (n_samples, ), for example using ravel().\n",
      "  y = column_or_1d(y, warn=True)\n"
     ]
    },
    {
     "data": {
      "text/html": [
       "<style>#sk-container-id-6 {color: black;background-color: white;}#sk-container-id-6 pre{padding: 0;}#sk-container-id-6 div.sk-toggleable {background-color: white;}#sk-container-id-6 label.sk-toggleable__label {cursor: pointer;display: block;width: 100%;margin-bottom: 0;padding: 0.3em;box-sizing: border-box;text-align: center;}#sk-container-id-6 label.sk-toggleable__label-arrow:before {content: \"▸\";float: left;margin-right: 0.25em;color: #696969;}#sk-container-id-6 label.sk-toggleable__label-arrow:hover:before {color: black;}#sk-container-id-6 div.sk-estimator:hover label.sk-toggleable__label-arrow:before {color: black;}#sk-container-id-6 div.sk-toggleable__content {max-height: 0;max-width: 0;overflow: hidden;text-align: left;background-color: #f0f8ff;}#sk-container-id-6 div.sk-toggleable__content pre {margin: 0.2em;color: black;border-radius: 0.25em;background-color: #f0f8ff;}#sk-container-id-6 input.sk-toggleable__control:checked~div.sk-toggleable__content {max-height: 200px;max-width: 100%;overflow: auto;}#sk-container-id-6 input.sk-toggleable__control:checked~label.sk-toggleable__label-arrow:before {content: \"▾\";}#sk-container-id-6 div.sk-estimator input.sk-toggleable__control:checked~label.sk-toggleable__label {background-color: #d4ebff;}#sk-container-id-6 div.sk-label input.sk-toggleable__control:checked~label.sk-toggleable__label {background-color: #d4ebff;}#sk-container-id-6 input.sk-hidden--visually {border: 0;clip: rect(1px 1px 1px 1px);clip: rect(1px, 1px, 1px, 1px);height: 1px;margin: -1px;overflow: hidden;padding: 0;position: absolute;width: 1px;}#sk-container-id-6 div.sk-estimator {font-family: monospace;background-color: #f0f8ff;border: 1px dotted black;border-radius: 0.25em;box-sizing: border-box;margin-bottom: 0.5em;}#sk-container-id-6 div.sk-estimator:hover {background-color: #d4ebff;}#sk-container-id-6 div.sk-parallel-item::after {content: \"\";width: 100%;border-bottom: 1px solid gray;flex-grow: 1;}#sk-container-id-6 div.sk-label:hover label.sk-toggleable__label {background-color: #d4ebff;}#sk-container-id-6 div.sk-serial::before {content: \"\";position: absolute;border-left: 1px solid gray;box-sizing: border-box;top: 0;bottom: 0;left: 50%;z-index: 0;}#sk-container-id-6 div.sk-serial {display: flex;flex-direction: column;align-items: center;background-color: white;padding-right: 0.2em;padding-left: 0.2em;position: relative;}#sk-container-id-6 div.sk-item {position: relative;z-index: 1;}#sk-container-id-6 div.sk-parallel {display: flex;align-items: stretch;justify-content: center;background-color: white;position: relative;}#sk-container-id-6 div.sk-item::before, #sk-container-id-6 div.sk-parallel-item::before {content: \"\";position: absolute;border-left: 1px solid gray;box-sizing: border-box;top: 0;bottom: 0;left: 50%;z-index: -1;}#sk-container-id-6 div.sk-parallel-item {display: flex;flex-direction: column;z-index: 1;position: relative;background-color: white;}#sk-container-id-6 div.sk-parallel-item:first-child::after {align-self: flex-end;width: 50%;}#sk-container-id-6 div.sk-parallel-item:last-child::after {align-self: flex-start;width: 50%;}#sk-container-id-6 div.sk-parallel-item:only-child::after {width: 0;}#sk-container-id-6 div.sk-dashed-wrapped {border: 1px dashed gray;margin: 0 0.4em 0.5em 0.4em;box-sizing: border-box;padding-bottom: 0.4em;background-color: white;}#sk-container-id-6 div.sk-label label {font-family: monospace;font-weight: bold;display: inline-block;line-height: 1.2em;}#sk-container-id-6 div.sk-label-container {text-align: center;}#sk-container-id-6 div.sk-container {/* jupyter's `normalize.less` sets `[hidden] { display: none; }` but bootstrap.min.css set `[hidden] { display: none !important; }` so we also need the `!important` here to be able to override the default hidden behavior on the sphinx rendered scikit-learn.org. See: https://github.com/scikit-learn/scikit-learn/issues/21755 */display: inline-block !important;position: relative;}#sk-container-id-6 div.sk-text-repr-fallback {display: none;}</style><div id=\"sk-container-id-6\" class=\"sk-top-container\"><div class=\"sk-text-repr-fallback\"><pre>RandomizedSearchCV(estimator=LogisticRegression(multi_class=&#x27;multinomial&#x27;),\n",
       "                   n_iter=3, n_jobs=-1,\n",
       "                   param_distributions={&#x27;C&#x27;: [0.0001, 0.001, 0.01]},\n",
       "                   scoring=make_scorer(ndcg_score, needs_proba=True, k=5),\n",
       "                   verbose=10)</pre><b>In a Jupyter environment, please rerun this cell to show the HTML representation or trust the notebook. <br />On GitHub, the HTML representation is unable to render, please try loading this page with nbviewer.org.</b></div><div class=\"sk-container\" hidden><div class=\"sk-item sk-dashed-wrapped\"><div class=\"sk-label-container\"><div class=\"sk-label sk-toggleable\"><input class=\"sk-toggleable__control sk-hidden--visually\" id=\"sk-estimator-id-16\" type=\"checkbox\" ><label for=\"sk-estimator-id-16\" class=\"sk-toggleable__label sk-toggleable__label-arrow\">RandomizedSearchCV</label><div class=\"sk-toggleable__content\"><pre>RandomizedSearchCV(estimator=LogisticRegression(multi_class=&#x27;multinomial&#x27;),\n",
       "                   n_iter=3, n_jobs=-1,\n",
       "                   param_distributions={&#x27;C&#x27;: [0.0001, 0.001, 0.01]},\n",
       "                   scoring=make_scorer(ndcg_score, needs_proba=True, k=5),\n",
       "                   verbose=10)</pre></div></div></div><div class=\"sk-parallel\"><div class=\"sk-parallel-item\"><div class=\"sk-item\"><div class=\"sk-label-container\"><div class=\"sk-label sk-toggleable\"><input class=\"sk-toggleable__control sk-hidden--visually\" id=\"sk-estimator-id-17\" type=\"checkbox\" ><label for=\"sk-estimator-id-17\" class=\"sk-toggleable__label sk-toggleable__label-arrow\">estimator: LogisticRegression</label><div class=\"sk-toggleable__content\"><pre>LogisticRegression(multi_class=&#x27;multinomial&#x27;)</pre></div></div></div><div class=\"sk-serial\"><div class=\"sk-item\"><div class=\"sk-estimator sk-toggleable\"><input class=\"sk-toggleable__control sk-hidden--visually\" id=\"sk-estimator-id-18\" type=\"checkbox\" ><label for=\"sk-estimator-id-18\" class=\"sk-toggleable__label sk-toggleable__label-arrow\">LogisticRegression</label><div class=\"sk-toggleable__content\"><pre>LogisticRegression(multi_class=&#x27;multinomial&#x27;)</pre></div></div></div></div></div></div></div></div></div></div>"
      ],
      "text/plain": [
       "RandomizedSearchCV(estimator=LogisticRegression(multi_class='multinomial'),\n",
       "                   n_iter=3, n_jobs=-1,\n",
       "                   param_distributions={'C': [0.0001, 0.001, 0.01]},\n",
       "                   scoring=make_scorer(ndcg_score, needs_proba=True, k=5),\n",
       "                   verbose=10)"
      ]
     },
     "execution_count": 159,
     "metadata": {},
     "output_type": "execute_result"
    }
   ],
   "source": [
    "clf.fit(X,y)"
   ]
  },
  {
   "cell_type": "code",
   "execution_count": 160,
   "id": "21a2b22d",
   "metadata": {},
   "outputs": [],
   "source": [
    "pred_y = clf.predict_proba(X)"
   ]
  },
  {
   "cell_type": "code",
   "execution_count": 161,
   "id": "d1ec0f17",
   "metadata": {},
   "outputs": [
    {
     "data": {
      "text/plain": [
       "{'C': 0.0001}"
      ]
     },
     "execution_count": 161,
     "metadata": {},
     "output_type": "execute_result"
    }
   ],
   "source": [
    "clf.best_params_"
   ]
  },
  {
   "cell_type": "code",
   "execution_count": 162,
   "id": "d241cd90",
   "metadata": {},
   "outputs": [
    {
     "data": {
      "text/plain": [
       "array([11,  7,  7, ...,  7,  7,  7])"
      ]
     },
     "execution_count": 162,
     "metadata": {},
     "output_type": "execute_result"
    }
   ],
   "source": [
    "from sklearn.preprocessing import LabelEncoder\n",
    "\n",
    "le = LabelEncoder()\n",
    "\n",
    "y_target = le.fit_transform(y['target_column_name'])\n",
    "\n",
    "y_target"
   ]
  },
  {
   "cell_type": "code",
   "execution_count": 163,
   "id": "ce7697b4",
   "metadata": {},
   "outputs": [
    {
     "data": {
      "text/plain": [
       "array([[1.01275409e-07, 2.85514920e-06, 2.61283443e-06, ...,\n",
       "        2.80857835e-12, 3.95283291e-01, 4.41953498e-02],\n",
       "       [5.17692977e-02, 6.33879083e-02, 6.30479243e-02, ...,\n",
       "        2.73992831e-02, 1.29947695e-01, 1.13780705e-01],\n",
       "       [2.03656199e-03, 6.15578176e-03, 5.97755585e-03, ...,\n",
       "        6.29920672e-05, 3.10773963e-01, 1.50393430e-01],\n",
       "       ...,\n",
       "       [5.19512067e-03, 1.24438027e-02, 1.21584150e-02, ...,\n",
       "        3.33783371e-04, 2.75377843e-01, 1.55240519e-01],\n",
       "       [3.29248150e-03, 8.84472442e-03, 8.61559581e-03, ...,\n",
       "        1.47531561e-04, 2.93923092e-01, 1.53684520e-01],\n",
       "       [1.02853457e-02, 2.06085930e-02, 2.02316554e-02, ...,\n",
       "        1.15802997e-03, 2.42189864e-01, 1.53498382e-01]])"
      ]
     },
     "execution_count": 163,
     "metadata": {},
     "output_type": "execute_result"
    }
   ],
   "source": [
    "pred_y"
   ]
  },
  {
   "cell_type": "markdown",
   "id": "70bf9368",
   "metadata": {},
   "source": [
    "# Train ndcg score"
   ]
  },
  {
   "cell_type": "code",
   "execution_count": 164,
   "id": "60df9378",
   "metadata": {},
   "outputs": [
    {
     "data": {
      "text/plain": [
       "0.8191534083673891"
      ]
     },
     "execution_count": 164,
     "metadata": {},
     "output_type": "execute_result"
    }
   ],
   "source": [
    "from sklearn.preprocessing import LabelBinarizer\n",
    "\n",
    "s = ndcg_score(y_target, pred_y, k=5)\n",
    "\n",
    "s"
   ]
  },
  {
   "cell_type": "markdown",
   "id": "e115aadc",
   "metadata": {},
   "source": [
    "# Evaluation"
   ]
  },
  {
   "cell_type": "code",
   "execution_count": 165,
   "id": "822fde0b",
   "metadata": {},
   "outputs": [],
   "source": [
    "pred_y = clf.predict(X)"
   ]
  },
  {
   "cell_type": "code",
   "execution_count": 166,
   "id": "c4f789bc",
   "metadata": {},
   "outputs": [
    {
     "name": "stderr",
     "output_type": "stream",
     "text": [
      "C:\\Users\\ayoub\\anaconda3\\lib\\site-packages\\sklearn\\metrics\\_classification.py:1344: UndefinedMetricWarning: Precision and F-score are ill-defined and being set to 0.0 in labels with no predicted samples. Use `zero_division` parameter to control this behavior.\n",
      "  _warn_prf(average, modifier, msg_start, len(result))\n",
      "C:\\Users\\ayoub\\anaconda3\\lib\\site-packages\\sklearn\\metrics\\_classification.py:1344: UndefinedMetricWarning: Precision and F-score are ill-defined and being set to 0.0 in labels with no predicted samples. Use `zero_division` parameter to control this behavior.\n",
      "  _warn_prf(average, modifier, msg_start, len(result))\n"
     ]
    },
    {
     "name": "stdout",
     "output_type": "stream",
     "text": [
      "Accuracy: 0.60305\n",
      "Classification Report:\n",
      "              precision    recall  f1-score   support\n",
      "\n",
      "          AU       0.00      0.00      0.00        49\n",
      "          CA       0.00      0.00      0.00        82\n",
      "          DE       0.00      0.00      0.00        65\n",
      "          ES       0.00      0.00      0.00       185\n",
      "          FR       0.00      0.00      0.00       382\n",
      "          GB       0.00      0.00      0.00       179\n",
      "          IT       0.00      0.00      0.00       249\n",
      "         NDF       0.60      1.00      0.75     12061\n",
      "          NL       0.00      0.00      0.00        61\n",
      "          PT       0.00      0.00      0.00        17\n",
      "          US       0.00      0.00      0.00      5619\n",
      "       other       0.00      0.00      0.00      1051\n",
      "\n",
      "    accuracy                           0.60     20000\n",
      "   macro avg       0.05      0.08      0.06     20000\n",
      "weighted avg       0.36      0.60      0.45     20000\n",
      "\n"
     ]
    },
    {
     "name": "stderr",
     "output_type": "stream",
     "text": [
      "C:\\Users\\ayoub\\anaconda3\\lib\\site-packages\\sklearn\\metrics\\_classification.py:1344: UndefinedMetricWarning: Precision and F-score are ill-defined and being set to 0.0 in labels with no predicted samples. Use `zero_division` parameter to control this behavior.\n",
      "  _warn_prf(average, modifier, msg_start, len(result))\n"
     ]
    }
   ],
   "source": [
    "from sklearn.metrics import accuracy_score, classification_report\n",
    "\n",
    "# Evaluate the model\n",
    "accuracy = accuracy_score(y, pred_y)\n",
    "report = classification_report(y, pred_y)\n",
    "\n",
    "# Print the evaluation metrics\n",
    "print(f'Accuracy: {accuracy}')\n",
    "print(f'Classification Report:\\n{report}')"
   ]
  },
  {
   "cell_type": "markdown",
   "id": "089c7054",
   "metadata": {},
   "source": [
    "# Submission1"
   ]
  },
  {
   "cell_type": "code",
   "execution_count": 167,
   "id": "4b802d92",
   "metadata": {},
   "outputs": [],
   "source": [
    "#test csv\n",
    "\n",
    "# Load and preprocess the test data\n",
    "test_data = pd.read_csv(\"../data/test_merge_tfidf.csv\")\n",
    "\n",
    "test_df = pd.read_csv('../data/test_users.csv')\n",
    "\n",
    "test_id = test_df['id'].values\n",
    "\n",
    "test_id\n",
    "\n",
    "# https://www.kaggle.com/kevinwu06/feature-importance-w-xgboost\n",
    "\n",
    "pred = clf.predict_proba(test_data[selected_feature_names])\n",
    "\n",
    "ids = []\n",
    "countries = []\n",
    "\n",
    "# Taking the 5 classes with highest probabilities\n",
    "\n",
    "for i in range(len(test_id)):\n",
    "    idx = test_id[i]\n",
    "    ids += [idx] * 5\n",
    "    countries += le.inverse_transform(np.argsort(pred[i])[::-1][:5]).tolist()\n",
    "    \n",
    "# Generate submission\n",
    "\n",
    "sub = pd.DataFrame({\"id\" : ids,\"country\" : countries})\n",
    "\n",
    "sub.to_csv('../data/submission_LR2_new.csv', index = False)"
   ]
  },
  {
   "cell_type": "code",
   "execution_count": 168,
   "id": "677e2c5b",
   "metadata": {
    "scrolled": true
   },
   "outputs": [
    {
     "data": {
      "image/png": "[encoded data removed]",
      "text/plain": [
       "<Figure size 800x600 with 1 Axes>"
      ]
     },
     "metadata": {},
     "output_type": "display_data"
    }
   ],
   "source": [
    "import seaborn as sns\n",
    "import matplotlib.pyplot as plt\n",
    "\n",
    "# Create the countplot\n",
    "sns.set(style=\"darkgrid\")\n",
    "plt.figure(figsize=(8, 6))  # Optional: Set the figure size\n",
    "\n",
    "# Calculate percentages\n",
    "total_samples = len(test_data)\n",
    "ax = sns.countplot(x='country', data=sub, order=sub['country'].value_counts().index)\n",
    "\n",
    "# Add percentages to the plot\n",
    "for p in ax.patches:\n",
    "    height = p.get_height()\n",
    "    ax.annotate(f'{height/total_samples*100:.2f}%', (p.get_x() + p.get_width() / 2., height), ha='center', va='bottom')\n",
    "\n",
    "plt.title(\"Predicted Country Distribution\", size=13)\n",
    "plt.ylabel(\"Percentage\")\n",
    "plt.xticks(rotation=90)  # Optional: Rotate x-axis labels if needed\n",
    "plt.show()"
   ]
  },
  {
   "cell_type": "markdown",
   "id": "fdf93f2f",
   "metadata": {},
   "source": [
    "# Submission2"
   ]
  },
  {
   "cell_type": "code",
   "execution_count": 169,
   "id": "810aa624",
   "metadata": {},
   "outputs": [],
   "source": [
    "# from sklearn.impute import SimpleImputer\n",
    "# from sklearn.preprocessing import LabelEncoder\n",
    "\n",
    "# # Load and preprocess the test data\n",
    "# test_data = pd.read_csv(\"../data/test_merge_tfidf.csv\")\n",
    "\n",
    "# # Predict using the trained model\n",
    "# test_predictions = clf.predict(test_data[selected_feature_names])\n",
    "\n",
    "# y['target_column_name']"
   ]
  },
  {
   "cell_type": "code",
   "execution_count": 170,
   "id": "bc7d8670",
   "metadata": {},
   "outputs": [],
   "source": [
    "# train_merge = y\n",
    "# train_merge['country_destination'] = y['target_column_name'].astype('category')\n",
    "\n",
    "# # Map predicted class labels to category codes\n",
    "# test_data['predicted_country'] = pd.Categorical(test_predictions, categories=train_merge['country_destination'].cat.categories)\n",
    "\n",
    "# test_data"
   ]
  },
  {
   "cell_type": "code",
   "execution_count": 171,
   "id": "6b2c64d7",
   "metadata": {},
   "outputs": [],
   "source": [
    "# test_data['predicted_country'].unique()"
   ]
  },
  {
   "cell_type": "code",
   "execution_count": 172,
   "id": "9be54b2f",
   "metadata": {},
   "outputs": [],
   "source": [
    "# test_data['predicted_country'].value_counts()"
   ]
  },
  {
   "cell_type": "code",
   "execution_count": 173,
   "id": "4d8f266d",
   "metadata": {
    "scrolled": true
   },
   "outputs": [],
   "source": [
    "# import seaborn as sns\n",
    "# import matplotlib.pyplot as plt\n",
    "\n",
    "# # Create the countplot\n",
    "# sns.set(style=\"darkgrid\")\n",
    "# plt.figure(figsize=(8, 6))  # Optional: Set the figure size\n",
    "\n",
    "# # Calculate percentages\n",
    "# total_samples = len(test_data)\n",
    "# ax = sns.countplot(x='predicted_country', data=test_data, order=test_data['predicted_country'].value_counts().index)\n",
    "\n",
    "# # Add percentages to the plot\n",
    "# for p in ax.patches:\n",
    "#     height = p.get_height()\n",
    "#     ax.annotate(f'{height/total_samples*100:.2f}%', (p.get_x() + p.get_width() / 2., height), ha='center', va='bottom')\n",
    "\n",
    "# plt.title(\"Predicted Country Distribution\", size=13)\n",
    "# plt.ylabel(\"Percentage\")\n",
    "# plt.xticks(rotation=90)  # Optional: Rotate x-axis labels if needed\n",
    "# plt.show()"
   ]
  },
  {
   "cell_type": "code",
   "execution_count": 174,
   "id": "b75b8a5c",
   "metadata": {},
   "outputs": [],
   "source": [
    "# submission = pd.read_csv(\"../data/sample_submission_NDF.csv\")"
   ]
  },
  {
   "cell_type": "code",
   "execution_count": 175,
   "id": "ef42fd2f",
   "metadata": {},
   "outputs": [],
   "source": [
    "# # Prepare submission file\n",
    "# submission['country'] = test_data[['predicted_country']]\n",
    "\n",
    "# submission.to_csv('../data/submission_LR2.csv', index=False)"
   ]
  },
  {
   "cell_type": "code",
   "execution_count": null,
   "id": "8252654d",
   "metadata": {},
   "outputs": [],
   "source": []
  }
 ],
 "metadata": {
  "kernelspec": {
   "display_name": "Python 3 (ipykernel)",
   "language": "python",
   "name": "python3"
  },
  "language_info": {
   "codemirror_mode": {
    "name": "ipython",
    "version": 3
   },
   "file_extension": ".py",
   "mimetype": "text/x-python",
   "name": "python",
   "nbconvert_exporter": "python",
   "pygments_lexer": "ipython3",
   "version": "3.10.9"
  }
 },
 "nbformat": 4,
 "nbformat_minor": 5
}
