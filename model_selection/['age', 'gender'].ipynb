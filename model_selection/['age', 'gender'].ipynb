{
 "cells": [
  {
   "cell_type": "code",
   "execution_count": 4,
   "id": "e66921f8",
   "metadata": {},
   "outputs": [
    {
     "name": "stdout",
     "output_type": "stream",
     "text": [
      "Accuracy: 0.71\n"
     ]
    }
   ],
   "source": [
    "import pandas as pd\n",
    "from sklearn.model_selection import train_test_split\n",
    "from sklearn.ensemble import RandomForestClassifier\n",
    "from sklearn.metrics import accuracy_score\n",
    "\n",
    "# Load and preprocess the dataset\n",
    "data = pd.read_csv('../data/train_user.csv')\n",
    "data['gender'] = data['gender'].map({'MALE': 0, 'FEMALE': 1})  # Convert gender to numerical\n",
    "data['age'].fillna(data['age'].mean(), inplace=True)  # Impute missing values in age\n",
    "\n",
    "# Convert country_destination to numerical labels (Label Encoding)\n",
    "data['country_destination'] = data['country_destination'].astype('category')\n",
    "data['country_code'] = data['country_destination'].cat.codes\n",
    "\n",
    "# Split the data into features and target\n",
    "features = data[['age', 'gender']]\n",
    "target = data['country_code']\n",
    "\n",
    "# Split the data into training and testing sets\n",
    "X_train, X_test, y_train, y_test = train_test_split(features, target, test_size=0.2, random_state=42)\n",
    "\n",
    "from sklearn.impute import SimpleImputer\n",
    "\n",
    "# Fill missing values in age with the mean\n",
    "imputer = SimpleImputer(strategy='mean')\n",
    "X_train_imputed = imputer.fit_transform(X_train)\n",
    "X_test_imputed = imputer.transform(X_test)\n",
    "\n",
    "# Initialize and train a Random Forest Classifier\n",
    "clf = RandomForestClassifier(n_estimators=100, random_state=42)\n",
    "clf.fit(X_train_imputed, y_train)\n",
    "\n",
    "# Predict using the trained model\n",
    "y_pred = clf.predict(X_test_imputed)\n",
    "\n",
    "# Evaluate the model\n",
    "accuracy = accuracy_score(y_test, y_pred)\n",
    "print(f'Accuracy: {accuracy:.2f}')"
   ]
  },
  {
   "cell_type": "code",
   "execution_count": 7,
   "id": "953e0503",
   "metadata": {},
   "outputs": [
    {
     "name": "stderr",
     "output_type": "stream",
     "text": [
      "C:\\Users\\ayoub\\anaconda3\\lib\\site-packages\\sklearn\\base.py:413: UserWarning: X has feature names, but RandomForestClassifier was fitted without feature names\n",
      "  warnings.warn(\n"
     ]
    }
   ],
   "source": [
    "from sklearn.impute import SimpleImputer\n",
    "from sklearn.preprocessing import LabelEncoder\n",
    "\n",
    "# Load and preprocess the test data\n",
    "test_data = pd.read_csv(\"../data/test_user.csv\")\n",
    "\n",
    "# Impute missing values in age with the mean\n",
    "imputer = SimpleImputer(strategy='mean')\n",
    "test_data['age'].fillna(test_data['age'].mean(), inplace=True)\n",
    "\n",
    "# Encode categorical variables\n",
    "label_encoder = LabelEncoder()\n",
    "test_data['gender'] = label_encoder.fit_transform(test_data['gender'])\n",
    "\n",
    "# Select features for prediction\n",
    "test_features = test_data[['age', 'gender']]\n",
    "\n",
    "# Predict using the trained model\n",
    "test_predictions = clf.predict(test_features)\n",
    "\n",
    "# Convert numerical predictions back to country codes\n",
    "test_data['predicted_country'] = pd.Categorical.from_codes(test_predictions, data['country_destination'].cat.categories)\n",
    "\n",
    "# Prepare submission file\n",
    "submission = test_data[['id', 'predicted_country']]\n",
    "submission.to_csv('submission.csv', index=False)"
   ]
  },
  {
   "cell_type": "code",
   "execution_count": null,
   "id": "1642c876",
   "metadata": {},
   "outputs": [],
   "source": []
  }
 ],
 "metadata": {
  "kernelspec": {
   "display_name": "Python 3 (ipykernel)",
   "language": "python",
   "name": "python3"
  },
  "language_info": {
   "codemirror_mode": {
    "name": "ipython",
    "version": 3
   },
   "file_extension": ".py",
   "mimetype": "text/x-python",
   "name": "python",
   "nbconvert_exporter": "python",
   "pygments_lexer": "ipython3",
   "version": "3.10.9"
  }
 },
 "nbformat": 4,
 "nbformat_minor": 5
}
