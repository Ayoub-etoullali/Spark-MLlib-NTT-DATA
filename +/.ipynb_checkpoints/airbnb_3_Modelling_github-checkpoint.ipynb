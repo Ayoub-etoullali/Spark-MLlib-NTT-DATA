{
 "cells": [
  {
   "cell_type": "code",
   "execution_count": null,
   "metadata": {
    "colab": {},
    "colab_type": "code",
    "id": "3aBegC116XlF"
   },
   "outputs": [],
   "source": [
    "import pandas as pd\n",
    "import numpy as np\n",
    "import zipfile\n",
    "import os\n",
    "import seaborn as sns\n",
    "import matplotlib.pyplot as plt\n",
    "import warnings\n",
    "warnings.filterwarnings(\"ignore\")\n",
    "import re\n",
    "from wordcloud import WordCloud\n",
    "from tqdm import tqdm\n",
    "from sklearn.cross_validation import train_test_split\n",
    "from datetime import datetime, date\n",
    "from sklearn.feature_extraction.text import TfidfVectorizer\n",
    "from scipy.sparse import coo_matrix\n",
    "from scipy.sparse import hstack\n",
    "from scipy.sparse import vstack\n",
    "from scipy import sparse\n",
    "from scipy.sparse import csr_matrix\n",
    "from sklearn.preprocessing import OneHotEncoder\n",
    "from sklearn import metrics\n",
    "from sklearn.metrics import make_scorer\n",
    "from sklearn.grid_search import GridSearchCV\n",
    "from sklearn.grid_search import RandomizedSearchCV\n",
    "from sklearn.preprocessing import LabelBinarizer,LabelEncoder\n",
    "from scipy.stats import randint as sp_randint\n",
    "from sklearn import linear_model\n",
    "from sklearn.ensemble import RandomForestClassifier\n",
    "import xgboost as xgb\n",
    "import pickle\n",
    "import joblib\n",
    "from IPython.display import Image"
   ]
  },
  {
   "cell_type": "code",
   "execution_count": null,
   "metadata": {
    "colab": {},
    "colab_type": "code",
    "id": "2g5-TnSr6XlJ"
   },
   "outputs": [],
   "source": [
    "def load_sparse_csr(filename):\n",
    "    \n",
    "    \"\"\"\n",
    "    \n",
    "    Function takes filename and returns csr matrix .\n",
    "    \n",
    "    parameters:  filename\n",
    "    \n",
    "    returns: csr matrix\n",
    "    \n",
    "    \"\"\"\n",
    "    \n",
    "    loader = np.load(filename)\n",
    "    return csr_matrix((loader['data'], loader['indices'], loader['indptr']),\n",
    "                      shape=loader['shape'])"
   ]
  },
  {
   "cell_type": "code",
   "execution_count": null,
   "metadata": {
    "colab": {},
    "colab_type": "code",
    "id": "MaEgVdur6XlM"
   },
   "outputs": [],
   "source": [
    "train_merge_tfidf = load_sparse_csr('/home/puneetchandna12/cs1/train_merge_tfidf.npz')\n",
    "\n",
    "test_merge_tfidf = load_sparse_csr('/home/puneetchandna12/cs1/test_merge_tfidf.npz')\n",
    "\n",
    "y = np.load('/home/puneetchandna12/cs1/y.npy')\n",
    "\n",
    "with open(\"/home/puneetchandna12/cs1/col_lst.txt\", \"rb\") as fp:\n",
    "    \n",
    "    col_lst = pickle.load(fp)\n",
    "    \n",
    "fp.close()"
   ]
  },
  {
   "cell_type": "code",
   "execution_count": null,
   "metadata": {
    "colab": {},
    "colab_type": "code",
    "id": "W6ZffrRO6XlP",
    "outputId": "5639dfb2-d214-4fd5-d6ba-7b2376c127b9"
   },
   "outputs": [
    {
     "name": "stdout",
     "output_type": "stream",
     "text": [
      "Final Data matrix\n",
      "(73815, 523)\n",
      "(62096, 523)\n",
      "(73815,)\n",
      "523\n",
      "====================================================================================================\n"
     ]
    }
   ],
   "source": [
    "print(\"Final Data matrix\")\n",
    "print(train_merge_tfidf.shape)\n",
    "print(test_merge_tfidf.shape)\n",
    "print(y.shape)\n",
    "print(len(col_lst))\n",
    "print(\"=\"*100)"
   ]
  },
  {
   "cell_type": "code",
   "execution_count": null,
   "metadata": {
    "colab": {},
    "colab_type": "code",
    "id": "RqVc2xqZ6XlT",
    "outputId": "1f928ec6-0598-435e-843b-50779f9b3440"
   },
   "outputs": [
    {
     "data": {
      "text/plain": [
       "array([11,  7,  7, ...,  7,  7,  7])"
      ]
     },
     "execution_count": 5,
     "metadata": {
      "tags": []
     },
     "output_type": "execute_result"
    }
   ],
   "source": [
    "le = LabelEncoder()\n",
    "\n",
    "y = le.fit_transform(y)\n",
    "\n",
    "y"
   ]
  },
  {
   "cell_type": "code",
   "execution_count": null,
   "metadata": {
    "colab": {},
    "colab_type": "code",
    "id": "QhrNnoRj6XlW"
   },
   "outputs": [],
   "source": [
    "# https://www.kaggle.com/davidgasquez/ndcg-scorer\n",
    "\n",
    "def dcg_score(y_true, y_score, k=5):\n",
    "    \n",
    "    \"\"\"Discounted cumulative gain (DCG) at rank K.\n",
    "\n",
    "    Parameters\n",
    "    ----------\n",
    "    y_true : array, shape = [n_samples]\n",
    "        Ground truth (true relevance labels).\n",
    "    y_score : array, shape = [n_samples, n_classes]\n",
    "        Predicted scores.\n",
    "    k : int\n",
    "        Rank.\n",
    "\n",
    "    Returns\n",
    "    -------\n",
    "    score : float\n",
    "    \"\"\"\n",
    "    \n",
    "    order = np.argsort(y_score)[::-1]\n",
    "    y_true = np.take(y_true, order[:k])\n",
    "\n",
    "    gain = 2 ** y_true - 1\n",
    "\n",
    "    discounts = np.log2(np.arange(len(y_true)) + 2)\n",
    "    return np.sum(gain / discounts)\n",
    "\n",
    "\n",
    "def ndcg_score(ground_truth, predictions, k=5):\n",
    "    \n",
    "    \"\"\"Normalized discounted cumulative gain (NDCG) at rank K.\n",
    "\n",
    "    Normalized Discounted Cumulative Gain (NDCG) measures the performance of a\n",
    "    recommendation system based on the graded relevance of the recommended\n",
    "    entities. It varies from 0.0 to 1.0, with 1.0 representing the ideal\n",
    "    ranking of the entities.\n",
    "\n",
    "    Parameters\n",
    "    ----------\n",
    "    ground_truth : array, shape = [n_samples]\n",
    "        Ground truth (true labels represended as integers).\n",
    "    predictions : array, shape = [n_samples, n_classes]\n",
    "        Predicted probabilities.\n",
    "    k : int\n",
    "        Rank.\n",
    "\n",
    "    Returns\n",
    "    -------\n",
    "    score : float\n",
    "\n",
    "    Example\n",
    "    -------\n",
    "    >>> ground_truth = [1, 0, 2]\n",
    "    >>> predictions = [[0.15, 0.55, 0.2], [0.7, 0.2, 0.1], [0.06, 0.04, 0.9]]\n",
    "    >>> score = ndcg_score(ground_truth, predictions, k=2)\n",
    "    1.0\n",
    "    >>> predictions = [[0.9, 0.5, 0.8], [0.7, 0.2, 0.1], [0.06, 0.04, 0.9]]\n",
    "    >>> score = ndcg_score(ground_truth, predictions, k=2)\n",
    "    0.6666666666\n",
    "    \"\"\"\n",
    "    \n",
    "    lb = LabelBinarizer()\n",
    "    lb.fit(range(predictions.shape[1] + 1))\n",
    "    T = lb.transform(ground_truth)\n",
    "\n",
    "    scores = []\n",
    "\n",
    "    # Iterate over each y_true and compute the DCG score\n",
    "    for y_true, y_score in zip(T, predictions):\n",
    "        actual = dcg_score(y_true, y_score, k)\n",
    "        best = dcg_score(y_true, y_true, k)\n",
    "        score = float(actual) / float(best)\n",
    "        scores.append(score)\n",
    "\n",
    "    return np.mean(scores)\n",
    "\n",
    "\n",
    "# NDCG Scorer function\n",
    "ndcg_scorer = make_scorer(ndcg_score, needs_proba=True, k=5)"
   ]
  },
  {
   "cell_type": "markdown",
   "metadata": {
    "colab_type": "text",
    "id": "NT6jKhsu6XlY"
   },
   "source": [
    "# Testing with lr"
   ]
  },
  {
   "cell_type": "code",
   "execution_count": null,
   "metadata": {
    "colab": {},
    "colab_type": "code",
    "id": "GSdOgE_a6XlZ"
   },
   "outputs": [],
   "source": [
    "params =  {'C':[0.0001, 0.001, 0.01]}\n",
    "\n",
    "lr = linear_model.LogisticRegression(multi_class=\"multinomial\",solver=\"lbfgs\")\n",
    "\n",
    "clf = RandomizedSearchCV(lr, params, verbose=10, n_iter=3 ,n_jobs=-1,scoring=ndcg_scorer)"
   ]
  },
  {
   "cell_type": "code",
   "execution_count": null,
   "metadata": {
    "colab": {},
    "colab_type": "code",
    "id": "DdWvWMpk6Xlc",
    "outputId": "edf8b543-e588-431d-ccfa-554923b5c57b"
   },
   "outputs": [
    {
     "name": "stdout",
     "output_type": "stream",
     "text": [
      "Fitting 3 folds for each of 3 candidates, totalling 9 fits\n",
      "[CV] C=0.0001 ........................................................\n",
      "[CV] C=0.0001 ........................................................\n",
      "[CV] C=0.0001 ........................................................\n",
      "[CV] C=0.001 .........................................................\n",
      "[CV] C=0.001 .........................................................\n",
      "[CV] C=0.001 .........................................................\n",
      "[CV] C=0.01 ..........................................................\n",
      "[CV] C=0.01 ..........................................................\n",
      "[CV] ............................... C=0.0001, score=0.818150 - 1.2min\n",
      "[CV] C=0.01 ..........................................................\n",
      "[CV] ................................ C=0.001, score=0.816440 - 1.2min\n"
     ]
    },
    {
     "name": "stderr",
     "output_type": "stream",
     "text": [
      "[Parallel(n_jobs=-1)]: Done  10 out of   9 | elapsed:  1.2min remaining:   -7.0s\n"
     ]
    },
    {
     "name": "stdout",
     "output_type": "stream",
     "text": [
      "[CV] ................................. C=0.01, score=0.818139 - 1.2min\n"
     ]
    },
    {
     "name": "stderr",
     "output_type": "stream",
     "text": [
      "[Parallel(n_jobs=-1)]: Done  10 out of   9 | elapsed:  1.2min remaining:   -7.1s\n"
     ]
    },
    {
     "name": "stdout",
     "output_type": "stream",
     "text": [
      "[CV] ................................. C=0.01, score=0.813997 - 1.2min\n"
     ]
    },
    {
     "name": "stderr",
     "output_type": "stream",
     "text": [
      "[Parallel(n_jobs=-1)]: Done  10 out of   9 | elapsed:  1.2min remaining:   -7.2s\n"
     ]
    },
    {
     "name": "stdout",
     "output_type": "stream",
     "text": [
      "[CV] ................................ C=0.001, score=0.814526 - 1.2min\n"
     ]
    },
    {
     "name": "stderr",
     "output_type": "stream",
     "text": [
      "[Parallel(n_jobs=-1)]: Done  10 out of   9 | elapsed:  1.2min remaining:   -7.3s\n"
     ]
    },
    {
     "name": "stdout",
     "output_type": "stream",
     "text": [
      "[CV] ................................ C=0.001, score=0.813801 - 1.2min\n"
     ]
    },
    {
     "name": "stderr",
     "output_type": "stream",
     "text": [
      "[Parallel(n_jobs=-1)]: Done  10 out of   9 | elapsed:  1.2min remaining:   -7.3s\n"
     ]
    },
    {
     "name": "stdout",
     "output_type": "stream",
     "text": [
      "[CV] ............................... C=0.0001, score=0.814337 - 1.2min\n",
      "[CV] ............................... C=0.0001, score=0.814673 - 1.2min\n"
     ]
    },
    {
     "name": "stderr",
     "output_type": "stream",
     "text": [
      "[Parallel(n_jobs=-1)]: Done  10 out of   9 | elapsed:  1.2min remaining:   -7.3s\n",
      "[Parallel(n_jobs=-1)]: Done  10 out of   9 | elapsed:  1.2min remaining:   -7.4s\n"
     ]
    },
    {
     "name": "stdout",
     "output_type": "stream",
     "text": [
      "[CV] ................................. C=0.01, score=0.814163 -  15.3s\n"
     ]
    },
    {
     "name": "stderr",
     "output_type": "stream",
     "text": [
      "[Parallel(n_jobs=-1)]: Done  10 out of   9 | elapsed:  1.4min remaining:   -8.5s\n",
      "[Parallel(n_jobs=-1)]: Done   9 out of   9 | elapsed:  1.4min finished\n"
     ]
    },
    {
     "data": {
      "text/plain": [
       "RandomizedSearchCV(cv=None, error_score='raise',\n",
       "          estimator=LogisticRegression(C=1.0, class_weight=None, dual=False, fit_intercept=True,\n",
       "          intercept_scaling=1, max_iter=100, multi_class='multinomial',\n",
       "          n_jobs=1, penalty='l2', random_state=None, solver='lbfgs',\n",
       "          tol=0.0001, verbose=0, warm_start=False),\n",
       "          fit_params={}, iid=True, n_iter=3, n_jobs=-1,\n",
       "          param_distributions={'C': [0.0001, 0.001, 0.01]},\n",
       "          pre_dispatch='2*n_jobs', random_state=None, refit=True,\n",
       "          scoring=make_scorer(ndcg_score, needs_proba=True, k=5),\n",
       "          verbose=10)"
      ]
     },
     "execution_count": 11,
     "metadata": {
      "tags": []
     },
     "output_type": "execute_result"
    }
   ],
   "source": [
    "clf.fit(train_merge_tfidf,y)"
   ]
  },
  {
   "cell_type": "code",
   "execution_count": null,
   "metadata": {
    "colab": {},
    "colab_type": "code",
    "id": "9Xwmq5LN6Xle"
   },
   "outputs": [],
   "source": [
    "pred_y = clf.predict_proba(train_merge_tfidf)"
   ]
  },
  {
   "cell_type": "code",
   "execution_count": null,
   "metadata": {
    "colab": {},
    "colab_type": "code",
    "id": "qmRQYg3K6Xlg",
    "outputId": "62e3dd5e-0091-44d3-a4a4-9dd7b70efa0f"
   },
   "outputs": [
    {
     "data": {
      "text/plain": [
       "{'C': 0.0001}"
      ]
     },
     "execution_count": 13,
     "metadata": {
      "tags": []
     },
     "output_type": "execute_result"
    }
   ],
   "source": [
    "clf.best_params_"
   ]
  },
  {
   "cell_type": "code",
   "execution_count": null,
   "metadata": {
    "colab": {},
    "colab_type": "code",
    "id": "ha60jr4A6Xli",
    "outputId": "237d8301-ae30-4d9d-f783-a4be41574cc6"
   },
   "outputs": [
    {
     "data": {
      "text/plain": [
       "0.81576018114425686"
      ]
     },
     "execution_count": 14,
     "metadata": {
      "tags": []
     },
     "output_type": "execute_result"
    }
   ],
   "source": [
    "#Train ndcg score\n",
    "\n",
    "s = ndcg_score(y, pred_y, k=5)\n",
    "\n",
    "s"
   ]
  },
  {
   "cell_type": "markdown",
   "metadata": {
    "colab_type": "text",
    "id": "iTee-j3o6Xln"
   },
   "source": [
    "# Testing with RF"
   ]
  },
  {
   "cell_type": "code",
   "execution_count": null,
   "metadata": {
    "colab": {},
    "colab_type": "code",
    "id": "ScV4kIWQ6Xlo"
   },
   "outputs": [],
   "source": [
    "#https://stackoverflow.com/questions/53782169/random-forest-tuning-with-randomizedsearchcv\n",
    "\n",
    "params = {\n",
    "'n_estimators' : [200, 700, 800, 1000, 1200],\n",
    "'max_depth' : [15, 20, 25, 30, 35, 50],\n",
    "'min_samples_split' : [2, 3, 5, 8],\n",
    "'min_samples_leaf' : [1, 2, 5, 10] }\n",
    "\n",
    "rf = RandomForestClassifier()\n",
    "\n",
    "clf = RandomizedSearchCV(rf, params, verbose=10,n_jobs=-1,scoring=ndcg_scorer)"
   ]
  },
  {
   "cell_type": "code",
   "execution_count": null,
   "metadata": {
    "colab": {},
    "colab_type": "code",
    "id": "9lIvEau76Xls",
    "outputId": "fafb2cc3-5213-4cba-b26d-17bf9dc6e7d7"
   },
   "outputs": [
    {
     "name": "stdout",
     "output_type": "stream",
     "text": [
      "Fitting 3 folds for each of 10 candidates, totalling 30 fits\n",
      "[CV] n_estimators=700, min_samples_split=5, min_samples_leaf=2, max_depth=35 \n",
      "[CV] n_estimators=700, min_samples_split=5, min_samples_leaf=2, max_depth=35 \n",
      "[CV] n_estimators=700, min_samples_split=5, min_samples_leaf=2, max_depth=35 \n",
      "[CV] n_estimators=800, min_samples_split=2, min_samples_leaf=5, max_depth=20 \n",
      "[CV] n_estimators=800, min_samples_split=2, min_samples_leaf=5, max_depth=20 \n",
      "[CV] n_estimators=800, min_samples_split=2, min_samples_leaf=5, max_depth=20 \n",
      "[CV] n_estimators=800, min_samples_split=5, min_samples_leaf=10, max_depth=35 \n",
      "[CV] n_estimators=800, min_samples_split=5, min_samples_leaf=10, max_depth=35 \n",
      "[CV]  n_estimators=800, min_samples_split=2, min_samples_leaf=5, max_depth=20, score=0.847034 -12.9min\n",
      "[CV] n_estimators=800, min_samples_split=5, min_samples_leaf=10, max_depth=35 \n",
      "[CV]  n_estimators=800, min_samples_split=2, min_samples_leaf=5, max_depth=20, score=0.847279 -13.0min\n",
      "[CV] n_estimators=1000, min_samples_split=2, min_samples_leaf=2, max_depth=15 \n"
     ]
    },
    {
     "name": "stderr",
     "output_type": "stream",
     "text": [
      "[Parallel(n_jobs=-1)]: Done   2 tasks      | elapsed: 13.0min\n"
     ]
    },
    {
     "name": "stdout",
     "output_type": "stream",
     "text": [
      "[CV]  n_estimators=800, min_samples_split=2, min_samples_leaf=5, max_depth=20, score=0.849648 -13.0min\n",
      "[CV] n_estimators=1000, min_samples_split=2, min_samples_leaf=2, max_depth=15 \n",
      "[CV]  n_estimators=800, min_samples_split=5, min_samples_leaf=10, max_depth=35, score=0.847678 -13.5min\n",
      "[CV] n_estimators=1000, min_samples_split=2, min_samples_leaf=2, max_depth=15 \n",
      "[CV]  n_estimators=800, min_samples_split=5, min_samples_leaf=10, max_depth=35, score=0.849312 -13.8min\n",
      "[CV] n_estimators=1000, min_samples_split=5, min_samples_leaf=5, max_depth=50 \n",
      "[CV]  n_estimators=700, min_samples_split=5, min_samples_leaf=2, max_depth=35, score=0.847286 -19.3min\n",
      "[CV] n_estimators=1000, min_samples_split=5, min_samples_leaf=5, max_depth=50 \n",
      "[CV]  n_estimators=700, min_samples_split=5, min_samples_leaf=2, max_depth=35, score=0.850607 -19.7min\n",
      "[CV] n_estimators=1000, min_samples_split=5, min_samples_leaf=5, max_depth=50 \n",
      "[CV]  n_estimators=700, min_samples_split=5, min_samples_leaf=2, max_depth=35, score=0.848060 -19.8min\n",
      "[CV] n_estimators=1000, min_samples_split=3, min_samples_leaf=2, max_depth=25 \n",
      "[CV]  n_estimators=1000, min_samples_split=2, min_samples_leaf=2, max_depth=15, score=0.845753 -10.2min\n",
      "[CV] n_estimators=1000, min_samples_split=3, min_samples_leaf=2, max_depth=25 \n"
     ]
    },
    {
     "name": "stderr",
     "output_type": "stream",
     "text": [
      "[Parallel(n_jobs=-1)]: Done   9 tasks      | elapsed: 23.2min\n"
     ]
    },
    {
     "name": "stdout",
     "output_type": "stream",
     "text": [
      "[CV]  n_estimators=1000, min_samples_split=2, min_samples_leaf=2, max_depth=15, score=0.848453 -10.4min\n",
      "[CV] n_estimators=1000, min_samples_split=3, min_samples_leaf=2, max_depth=25 \n",
      "[CV]  n_estimators=1000, min_samples_split=2, min_samples_leaf=2, max_depth=15, score=0.845785 -10.5min\n",
      "[CV] n_estimators=1000, min_samples_split=8, min_samples_leaf=5, max_depth=20 \n",
      "[CV]  n_estimators=800, min_samples_split=5, min_samples_leaf=10, max_depth=35, score=0.846720 -11.9min\n",
      "[CV] n_estimators=1000, min_samples_split=8, min_samples_leaf=5, max_depth=20 \n",
      "[CV]  n_estimators=1000, min_samples_split=5, min_samples_leaf=5, max_depth=50, score=0.850417 -20.5min\n",
      "[CV] n_estimators=1000, min_samples_split=8, min_samples_leaf=5, max_depth=20 \n",
      "[CV]  n_estimators=1000, min_samples_split=8, min_samples_leaf=5, max_depth=20, score=0.849929 -14.6min\n",
      "[CV] n_estimators=200, min_samples_split=8, min_samples_leaf=2, max_depth=25 \n",
      "[CV]  n_estimators=1000, min_samples_split=5, min_samples_leaf=5, max_depth=50, score=0.847363 -19.1min\n",
      "[CV] n_estimators=200, min_samples_split=8, min_samples_leaf=2, max_depth=25 \n",
      "[CV]  n_estimators=1000, min_samples_split=8, min_samples_leaf=5, max_depth=20, score=0.847233 -14.3min\n",
      "[CV] n_estimators=200, min_samples_split=8, min_samples_leaf=2, max_depth=25 \n",
      "[CV]  n_estimators=1000, min_samples_split=5, min_samples_leaf=5, max_depth=50, score=0.847471 -20.1min\n",
      "[CV] n_estimators=1000, min_samples_split=5, min_samples_leaf=2, max_depth=50 \n",
      "[CV]  n_estimators=1000, min_samples_split=3, min_samples_leaf=2, max_depth=25, score=0.850159 -22.1min\n",
      "[CV] n_estimators=1000, min_samples_split=5, min_samples_leaf=2, max_depth=50 \n",
      "[CV]  n_estimators=200, min_samples_split=8, min_samples_leaf=2, max_depth=25, score=0.849237 - 4.1min\n",
      "[CV] n_estimators=1000, min_samples_split=5, min_samples_leaf=2, max_depth=50 \n",
      "[CV]  n_estimators=200, min_samples_split=8, min_samples_leaf=2, max_depth=25, score=0.847541 - 3.9min\n",
      "[CV] n_estimators=800, min_samples_split=3, min_samples_leaf=10, max_depth=50 \n",
      "[CV]  n_estimators=200, min_samples_split=8, min_samples_leaf=2, max_depth=25, score=0.846979 - 4.0min\n",
      "[CV] n_estimators=800, min_samples_split=3, min_samples_leaf=10, max_depth=50 \n",
      "[CV]  n_estimators=1000, min_samples_split=3, min_samples_leaf=2, max_depth=25, score=0.848037 -22.6min\n",
      "[CV] n_estimators=800, min_samples_split=3, min_samples_leaf=10, max_depth=50 \n",
      "[CV]  n_estimators=1000, min_samples_split=3, min_samples_leaf=2, max_depth=25, score=0.846830 -22.5min\n",
      "[CV]  n_estimators=1000, min_samples_split=8, min_samples_leaf=5, max_depth=20, score=0.847257 -14.5min\n",
      "[CV]  n_estimators=800, min_samples_split=3, min_samples_leaf=10, max_depth=50, score=0.849637 -12.3min\n",
      "[CV]  n_estimators=800, min_samples_split=3, min_samples_leaf=10, max_depth=50, score=0.847706 -12.3min\n",
      "[CV]  n_estimators=800, min_samples_split=3, min_samples_leaf=10, max_depth=50, score=0.847267 - 9.8min\n",
      "[CV]  n_estimators=1000, min_samples_split=5, min_samples_leaf=2, max_depth=50, score=0.850354 -21.6min\n",
      "[CV]  n_estimators=1000, min_samples_split=5, min_samples_leaf=2, max_depth=50, score=0.848008 -23.1min\n",
      "[CV]  n_estimators=1000, min_samples_split=5, min_samples_leaf=2, max_depth=50, score=0.846704 -22.8min\n"
     ]
    },
    {
     "name": "stderr",
     "output_type": "stream",
     "text": [
      "[Parallel(n_jobs=-1)]: Done  30 out of  30 | elapsed: 65.5min finished\n"
     ]
    },
    {
     "data": {
      "text/plain": [
       "RandomizedSearchCV(cv=None, error_score='raise',\n",
       "          estimator=RandomForestClassifier(bootstrap=True, class_weight=None, criterion='gini',\n",
       "            max_depth=None, max_features='auto', max_leaf_nodes=None,\n",
       "            min_samples_leaf=1, min_samples_split=2,\n",
       "            min_weight_fraction_leaf=0.0, n_estimators=10, n_jobs=1,\n",
       "            oob_score=False, random_state=None, verbose=0,\n",
       "            warm_start=False),\n",
       "          fit_params={}, iid=True, n_iter=10, n_jobs=-1,\n",
       "          param_distributions={'n_estimators': [200, 700, 800, 1000, 1200], 'min_samples_split': [2, 3, 5, 8], 'min_samples_leaf': [1, 2, 5, 10], 'max_depth': [15, 20, 25, 30, 35, 50]},\n",
       "          pre_dispatch='2*n_jobs', random_state=None, refit=True,\n",
       "          scoring=make_scorer(ndcg_score, needs_proba=True, k=5),\n",
       "          verbose=10)"
      ]
     },
     "execution_count": 8,
     "metadata": {
      "tags": []
     },
     "output_type": "execute_result"
    }
   ],
   "source": [
    "clf.fit(train_merge_tfidf,y)"
   ]
  },
  {
   "cell_type": "code",
   "execution_count": null,
   "metadata": {
    "colab": {},
    "colab_type": "code",
    "id": "ka5L49_D6Xlu"
   },
   "outputs": [],
   "source": [
    "pred_y = clf.predict_proba(train_merge_tfidf)"
   ]
  },
  {
   "cell_type": "code",
   "execution_count": null,
   "metadata": {
    "colab": {},
    "colab_type": "code",
    "id": "e-CostsR6Xlw",
    "outputId": "2db5e624-4072-4c89-92bc-5a5190fdd334"
   },
   "outputs": [
    {
     "data": {
      "text/plain": [
       "{'max_depth': 35,\n",
       " 'min_samples_leaf': 2,\n",
       " 'min_samples_split': 5,\n",
       " 'n_estimators': 700}"
      ]
     },
     "execution_count": 10,
     "metadata": {
      "tags": []
     },
     "output_type": "execute_result"
    }
   ],
   "source": [
    "clf.best_params_"
   ]
  },
  {
   "cell_type": "code",
   "execution_count": null,
   "metadata": {
    "colab": {},
    "colab_type": "code",
    "id": "HMhSbB8f6Xly",
    "outputId": "acb31310-69cb-478c-a762-b359f822ccdf"
   },
   "outputs": [
    {
     "data": {
      "text/plain": [
       "0.95115597544709196"
      ]
     },
     "execution_count": 11,
     "metadata": {
      "tags": []
     },
     "output_type": "execute_result"
    }
   ],
   "source": [
    "#Train ndcg score\n",
    "\n",
    "s = ndcg_score(y, pred_y, k=5)\n",
    "\n",
    "s"
   ]
  },
  {
   "cell_type": "markdown",
   "metadata": {
    "colab_type": "text",
    "id": "kEVnCagd6Xl1"
   },
   "source": [
    "# Testing with Xgboost"
   ]
  },
  {
   "cell_type": "code",
   "execution_count": null,
   "metadata": {
    "colab": {},
    "colab_type": "code",
    "id": "mzan_Uwj6Xl2"
   },
   "outputs": [],
   "source": [
    "\n",
    "param_grid = {\n",
    "'max_depth': sp_randint(3, 20),\n",
    "'learning_rate': [0.001, 0.01, 0.1, 0.2],\n",
    "'subsample': [0.5, 0.6, 0.7, 0.8, 0.9, 1.0],\n",
    "'min_child_weight': [0.25,0.5, 1.0, 3.0, 5.0, 7.0],\n",
    "'gamma': [0, 0.25, 0.3,0.35,0.45,0.5,0.6,0.8,1.0],\n",
    "'reg_lambda': [0.1,0.2,0.4,0.5,0.6,0.8,1.0,10.0],\n",
    "'n_estimators':[100,200,500,1000,2000],\n",
    "'colsample_bytree':[0.1,0.3,0.5,1],\n",
    "'colsample_bylevel':[0.1,0.3,0.5,1]\n",
    "}\n",
    "\n",
    "\n",
    "gb = xgb.XGBClassifier(objective='multi:softmax',eval_metric= 'mlogloss')\n",
    "\n",
    "clf = RandomizedSearchCV(gb, param_grid,n_jobs=-1,verbose=10,scoring=ndcg_scorer, random_state=42)"
   ]
  },
  {
   "cell_type": "code",
   "execution_count": null,
   "metadata": {
    "colab": {},
    "colab_type": "code",
    "id": "OiI_ESpUYIp2",
    "outputId": "b5649898-aa7e-47bd-e624-5112b935e4ad"
   },
   "outputs": [
    {
     "name": "stdout",
     "output_type": "stream",
     "text": [
      "Fitting 3 folds for each of 10 candidates, totalling 30 fits\n",
      "[CV] learning_rate=0.2, gamma=0.6, reg_lambda=1.0, max_depth=14, n_estimators=351, min_child_weight=5.0, subsample=0.7 \n",
      "[CV] learning_rate=0.2, gamma=0.6, reg_lambda=1.0, max_depth=14, n_estimators=351, min_child_weight=5.0, subsample=0.7 \n",
      "[CV] learning_rate=0.2, gamma=0.6, reg_lambda=1.0, max_depth=14, n_estimators=351, min_child_weight=5.0, subsample=0.7 \n",
      "[CV] learning_rate=0, gamma=0.8, reg_lambda=1.0, max_depth=3, n_estimators=310, min_child_weight=5.0, subsample=0.6 \n",
      "[CV] learning_rate=0, gamma=0.8, reg_lambda=1.0, max_depth=3, n_estimators=310, min_child_weight=5.0, subsample=0.6 \n",
      "[CV] learning_rate=0, gamma=0.8, reg_lambda=1.0, max_depth=3, n_estimators=310, min_child_weight=5.0, subsample=0.6 \n",
      "[CV] learning_rate=0.1, gamma=0.3, reg_lambda=10.0, max_depth=19, n_estimators=269, min_child_weight=1.0, subsample=0.9 \n",
      "[CV] learning_rate=0.1, gamma=0.3, reg_lambda=10.0, max_depth=19, n_estimators=269, min_child_weight=1.0, subsample=0.9 \n",
      "[CV]  learning_rate=0, gamma=0.8, reg_lambda=1.0, max_depth=3, n_estimators=310, min_child_weight=5.0, subsample=0.6, score=0.459393 -18.1min\n",
      "[CV] learning_rate=0.1, gamma=0.3, reg_lambda=10.0, max_depth=19, n_estimators=269, min_child_weight=1.0, subsample=0.9 \n",
      "[CV]  learning_rate=0, gamma=0.8, reg_lambda=1.0, max_depth=3, n_estimators=310, min_child_weight=5.0, subsample=0.6, score=0.459317 -18.2min\n",
      "[CV] learning_rate=0.1, gamma=0.35, reg_lambda=0.6, max_depth=7, n_estimators=392, min_child_weight=7.0, subsample=0.6 \n"
     ]
    },
    {
     "name": "stderr",
     "output_type": "stream",
     "text": [
      "[Parallel(n_jobs=8)]: Done   2 tasks      | elapsed: 18.2min\n"
     ]
    },
    {
     "name": "stdout",
     "output_type": "stream",
     "text": [
      "[CV]  learning_rate=0, gamma=0.8, reg_lambda=1.0, max_depth=3, n_estimators=310, min_child_weight=5.0, subsample=0.6, score=0.459289 -19.1min\n",
      "[CV] learning_rate=0.1, gamma=0.35, reg_lambda=0.6, max_depth=7, n_estimators=392, min_child_weight=7.0, subsample=0.6 \n",
      "[CV]  learning_rate=0.1, gamma=0.35, reg_lambda=0.6, max_depth=7, n_estimators=392, min_child_weight=7.0, subsample=0.6, score=0.843674 -49.6min\n",
      "[CV] learning_rate=0.1, gamma=0.35, reg_lambda=0.6, max_depth=7, n_estimators=392, min_child_weight=7.0, subsample=0.6 \n",
      "[CV]  learning_rate=0.1, gamma=0.35, reg_lambda=0.6, max_depth=7, n_estimators=392, min_child_weight=7.0, subsample=0.6, score=0.848190 -50.8min\n",
      "[CV] learning_rate=0.2, gamma=0.8, reg_lambda=0.8, max_depth=4, n_estimators=267, min_child_weight=7.0, subsample=0.6 \n",
      "[CV]  learning_rate=0.2, gamma=0.6, reg_lambda=1.0, max_depth=14, n_estimators=351, min_child_weight=5.0, subsample=0.7, score=0.839771 -73.0min\n",
      "[CV] learning_rate=0.2, gamma=0.8, reg_lambda=0.8, max_depth=4, n_estimators=267, min_child_weight=7.0, subsample=0.6 \n",
      "[CV]  learning_rate=0.2, gamma=0.6, reg_lambda=1.0, max_depth=14, n_estimators=351, min_child_weight=5.0, subsample=0.7, score=0.837060 -73.8min\n",
      "[CV] learning_rate=0.2, gamma=0.8, reg_lambda=0.8, max_depth=4, n_estimators=267, min_child_weight=7.0, subsample=0.6 \n",
      "[CV]  learning_rate=0.2, gamma=0.6, reg_lambda=1.0, max_depth=14, n_estimators=351, min_child_weight=5.0, subsample=0.7, score=0.841419 -76.0min\n",
      "[CV] learning_rate=0.001, gamma=0.45, reg_lambda=0.2, max_depth=13, n_estimators=325, min_child_weight=3.0, subsample=1.0 \n",
      "[CV]  learning_rate=0.2, gamma=0.8, reg_lambda=0.8, max_depth=4, n_estimators=267, min_child_weight=7.0, subsample=0.6, score=0.847467 -21.1min\n",
      "[CV] learning_rate=0.001, gamma=0.45, reg_lambda=0.2, max_depth=13, n_estimators=325, min_child_weight=3.0, subsample=1.0 \n"
     ]
    },
    {
     "name": "stderr",
     "output_type": "stream",
     "text": [
      "[Parallel(n_jobs=8)]: Done   9 tasks      | elapsed: 90.1min\n"
     ]
    },
    {
     "name": "stdout",
     "output_type": "stream",
     "text": [
      "[CV]  learning_rate=0.2, gamma=0.8, reg_lambda=0.8, max_depth=4, n_estimators=267, min_child_weight=7.0, subsample=0.6, score=0.842628 -20.4min\n",
      "[CV] learning_rate=0.001, gamma=0.45, reg_lambda=0.2, max_depth=13, n_estimators=325, min_child_weight=3.0, subsample=1.0 \n",
      "[CV]  learning_rate=0.2, gamma=0.8, reg_lambda=0.8, max_depth=4, n_estimators=267, min_child_weight=7.0, subsample=0.6, score=0.846774 -20.1min\n",
      "[CV] learning_rate=0.001, gamma=1.0, reg_lambda=0.4, max_depth=13, n_estimators=243, min_child_weight=1.0, subsample=0.6 \n",
      "[CV]  learning_rate=0.1, gamma=0.3, reg_lambda=10.0, max_depth=19, n_estimators=269, min_child_weight=1.0, subsample=0.9, score=0.840359 -96.1min\n",
      "[CV] learning_rate=0.001, gamma=1.0, reg_lambda=0.4, max_depth=13, n_estimators=243, min_child_weight=1.0, subsample=0.6 \n",
      "[CV]  learning_rate=0.1, gamma=0.3, reg_lambda=10.0, max_depth=19, n_estimators=269, min_child_weight=1.0, subsample=0.9, score=0.847392 -98.6min\n",
      "[CV] learning_rate=0.001, gamma=1.0, reg_lambda=0.4, max_depth=13, n_estimators=243, min_child_weight=1.0, subsample=0.6 \n",
      "[CV]  learning_rate=0.1, gamma=0.3, reg_lambda=10.0, max_depth=19, n_estimators=269, min_child_weight=1.0, subsample=0.9, score=0.845915 -93.7min\n",
      "[CV] learning_rate=0.2, gamma=0.3, reg_lambda=10.0, max_depth=12, n_estimators=330, min_child_weight=3.0, subsample=0.5 \n",
      "[CV]  learning_rate=0.1, gamma=0.35, reg_lambda=0.6, max_depth=7, n_estimators=392, min_child_weight=7.0, subsample=0.6, score=0.847540 -48.8min\n",
      "[CV] learning_rate=0.2, gamma=0.3, reg_lambda=10.0, max_depth=12, n_estimators=330, min_child_weight=3.0, subsample=0.5 \n",
      "[CV]  learning_rate=0.001, gamma=1.0, reg_lambda=0.4, max_depth=13, n_estimators=243, min_child_weight=1.0, subsample=0.6, score=0.852822 -64.4min\n",
      "[CV] learning_rate=0.2, gamma=0.3, reg_lambda=10.0, max_depth=12, n_estimators=330, min_child_weight=3.0, subsample=0.5 \n",
      "[CV]  learning_rate=0.001, gamma=1.0, reg_lambda=0.4, max_depth=13, n_estimators=243, min_child_weight=1.0, subsample=0.6, score=0.848735 -63.3min\n",
      "[CV] learning_rate=0, gamma=0.3, reg_lambda=1.0, max_depth=17, n_estimators=188, min_child_weight=1.0, subsample=0.9 \n",
      "[CV]  learning_rate=0.001, gamma=1.0, reg_lambda=0.4, max_depth=13, n_estimators=243, min_child_weight=1.0, subsample=0.6, score=0.852444 -62.5min\n",
      "[CV] learning_rate=0, gamma=0.3, reg_lambda=1.0, max_depth=17, n_estimators=188, min_child_weight=1.0, subsample=0.9 \n",
      "[CV]  learning_rate=0.2, gamma=0.3, reg_lambda=10.0, max_depth=12, n_estimators=330, min_child_weight=3.0, subsample=0.5, score=0.841315 -58.5min\n",
      "[CV] learning_rate=0, gamma=0.3, reg_lambda=1.0, max_depth=17, n_estimators=188, min_child_weight=1.0, subsample=0.9 \n",
      "[CV]  learning_rate=0.2, gamma=0.3, reg_lambda=10.0, max_depth=12, n_estimators=330, min_child_weight=3.0, subsample=0.5, score=0.839545 -56.8min\n",
      "[CV] learning_rate=0.01, gamma=1.0, reg_lambda=0.1, max_depth=7, n_estimators=274, min_child_weight=3.0, subsample=0.8 \n",
      "[CV]  learning_rate=0.001, gamma=0.45, reg_lambda=0.2, max_depth=13, n_estimators=325, min_child_weight=3.0, subsample=1.0, score=0.846908 -99.6min\n",
      "[CV] learning_rate=0.01, gamma=1.0, reg_lambda=0.1, max_depth=7, n_estimators=274, min_child_weight=3.0, subsample=0.8 \n",
      "[CV]  learning_rate=0.001, gamma=0.45, reg_lambda=0.2, max_depth=13, n_estimators=325, min_child_weight=3.0, subsample=1.0, score=0.843619 -94.7min\n",
      "[CV] learning_rate=0.01, gamma=1.0, reg_lambda=0.1, max_depth=7, n_estimators=274, min_child_weight=3.0, subsample=0.8 \n",
      "[CV]  learning_rate=0.001, gamma=0.45, reg_lambda=0.2, max_depth=13, n_estimators=325, min_child_weight=3.0, subsample=1.0, score=0.844876 -93.4min\n",
      "[CV]  learning_rate=0, gamma=0.3, reg_lambda=1.0, max_depth=17, n_estimators=188, min_child_weight=1.0, subsample=0.9, score=0.459317 -50.5min\n",
      "[CV]  learning_rate=0.01, gamma=1.0, reg_lambda=0.1, max_depth=7, n_estimators=274, min_child_weight=3.0, subsample=0.8, score=0.844520 -38.5min\n",
      "[CV]  learning_rate=0.2, gamma=0.3, reg_lambda=10.0, max_depth=12, n_estimators=330, min_child_weight=3.0, subsample=0.5, score=0.839637 -56.0min\n",
      "[CV]  learning_rate=0.01, gamma=1.0, reg_lambda=0.1, max_depth=7, n_estimators=274, min_child_weight=3.0, subsample=0.8, score=0.853880 -41.4min\n",
      "[CV]  learning_rate=0.01, gamma=1.0, reg_lambda=0.1, max_depth=7, n_estimators=274, min_child_weight=3.0, subsample=0.8, score=0.853162 -34.3min\n",
      "[CV]  learning_rate=0, gamma=0.3, reg_lambda=1.0, max_depth=17, n_estimators=188, min_child_weight=1.0, subsample=0.9, score=0.459289 -64.7min\n",
      "[CV]  learning_rate=0, gamma=0.3, reg_lambda=1.0, max_depth=17, n_estimators=188, min_child_weight=1.0, subsample=0.9, score=0.459393 -57.2min\n"
     ]
    },
    {
     "name": "stderr",
     "output_type": "stream",
     "text": [
      "[Parallel(n_jobs=8)]: Done  30 out of  30 | elapsed: 227.4min finished\n"
     ]
    },
    {
     "data": {
      "text/plain": [
       "RandomizedSearchCV(cv=None, error_score='raise',\n",
       "          estimator=XGBClassifier(base_score=0.5, booster='gbtree', colsample_bylevel=1,\n",
       "       colsample_bytree=1, eval_metric='mlogloss', gamma=0,\n",
       "       learning_rate=0.1, max_delta_step=0, max_depth=3,\n",
       "       min_child_weight=1, missing=None, n_estimators=100, n_jobs=1,\n",
       "       nthread=None, objective='multi:softmax', random_state=0,\n",
       "       reg_alpha=0, reg_lambda=1, scale_pos_weight=1, seed=None,\n",
       "       silent=True, subsample=1),\n",
       "          fit_params={}, iid=True, n_iter=10, n_jobs=8,\n",
       "          param_distributions={'learning_rate': [0.001, 0.01, 0.1, 0.2, 0, 3], 'gamma': [0, 0.25, 0.3, 0.35, 0.45, 0.5, 0.6, 0.8, 1.0], 'subsample': [0.5, 0.6, 0.7, 0.8, 0.9, 1.0], 'max_depth': <scipy.stats._distn_infrastructure.rv_frozen object at 0x7f6306c88c50>, 'n_estimators': <scipy.stats._distn_infrastructure.rv_frozen object at 0x7f6306c88d68>, 'min_child_weight': [0.25, 0.5, 1.0, 3.0, 5.0, 7.0], 'reg_lambda': [0.1, 0.2, 0.4, 0.5, 0.6, 0.8, 1.0, 10.0]},\n",
       "          pre_dispatch='2*n_jobs', random_state=42, refit=True,\n",
       "          scoring=make_scorer(ndcg_score, needs_proba=True, k=5),\n",
       "          verbose=10)"
      ]
     },
     "execution_count": 14,
     "metadata": {
      "tags": []
     },
     "output_type": "execute_result"
    }
   ],
   "source": [
    "clf.fit(train_merge_tfidf,y)"
   ]
  },
  {
   "cell_type": "code",
   "execution_count": null,
   "metadata": {
    "colab": {},
    "colab_type": "code",
    "id": "jDSY54616Xl6"
   },
   "outputs": [],
   "source": [
    "pred_y = clf.predict_proba(train_merge_tfidf)"
   ]
  },
  {
   "cell_type": "code",
   "execution_count": null,
   "metadata": {
    "colab": {},
    "colab_type": "code",
    "id": "pwFAOY-Q6Xl8",
    "outputId": "f5ea420f-039e-48c9-9e64-9a318981b8a1"
   },
   "outputs": [
    {
     "data": {
      "text/plain": [
       "0.90661753403453682"
      ]
     },
     "execution_count": 9,
     "metadata": {
      "tags": []
     },
     "output_type": "execute_result"
    }
   ],
   "source": [
    "# Train ndcg score\n",
    "\n",
    "s = ndcg_score(y, pred_y, k=5)\n",
    "\n",
    "s"
   ]
  },
  {
   "cell_type": "code",
   "execution_count": null,
   "metadata": {
    "colab": {},
    "colab_type": "code",
    "id": "0vk5dyfM6Xl-",
    "outputId": "c7ad6f2d-e63c-4445-fb1a-bc139dd87837"
   },
   "outputs": [
    {
     "data": {
      "image/png": "[encoded data removed]",
      "text/plain": [
       "<matplotlib.figure.Figure at 0x7eff8d026358>"
      ]
     },
     "metadata": {
      "tags": []
     },
     "output_type": "display_data"
    }
   ],
   "source": [
    "#feature importance\n",
    "\n",
    "features = col_lst\n",
    "importances = clf.feature_importances_\n",
    "indices = (np.argsort(importances))[-25:]\n",
    "plt.figure(figsize=(10,12))\n",
    "plt.title('Feature Importances')\n",
    "plt.barh(range(len(indices)), importances[indices], color='r', align='center')\n",
    "plt.yticks(range(len(indices)), [features[i] for i in indices])\n",
    "plt.xlabel('Relative Importance')\n",
    "plt.show()"
   ]
  },
  {
   "cell_type": "code",
   "execution_count": null,
   "metadata": {
    "colab": {},
    "colab_type": "code",
    "id": "dXkzkfOM6XmA",
    "outputId": "2bd2999d-7dae-4a38-aa1f-06abd179ef4b"
   },
   "outputs": [
    {
     "data": {
      "text/plain": [
       "['/home/puneetchandna12/cs1/clf']"
      ]
     },
     "execution_count": 12,
     "metadata": {
      "tags": []
     },
     "output_type": "execute_result"
    }
   ],
   "source": [
    "# https://stackoverflow.com/questions/43691380/how-to-save-load-xgboost-model\n",
    "\n",
    "#save model\n",
    "\n",
    "joblib.dump(clf,'/home/puneetchandna12/cs1/clf') "
   ]
  },
  {
   "cell_type": "code",
   "execution_count": null,
   "metadata": {
    "colab": {},
    "colab_type": "code",
    "id": "b3D3_cCm6XmC"
   },
   "outputs": [],
   "source": [
    "#load saved model\n",
    "\n",
    "clf = joblib.load('/home/puneetchandna12/cs1/clf')"
   ]
  },
  {
   "cell_type": "markdown",
   "metadata": {
    "colab_type": "text",
    "id": "p-6BIuhD08jP"
   },
   "source": [
    "# Select top 80% of the features"
   ]
  },
  {
   "cell_type": "code",
   "execution_count": null,
   "metadata": {
    "colab": {},
    "colab_type": "code",
    "id": "xpGBXMBP08jP"
   },
   "outputs": [],
   "source": [
    "top_80 = int(len(clf.feature_importances_)*0.8)\n",
    "\n",
    "indices = (np.argsort(importances))[::-1][:top_80]"
   ]
  },
  {
   "cell_type": "code",
   "execution_count": null,
   "metadata": {
    "colab": {},
    "colab_type": "code",
    "id": "EkdEiiwo08jS"
   },
   "outputs": [],
   "source": [
    "# https://stackoverflow.com/questions/48099075/how-to-get-columns-from-big-sparse-csc-matrix\n",
    "\n",
    "cols = []\n",
    "\n",
    "for i in indices:\n",
    "    \n",
    "    cols.append(train_merge_tfidf[:,i])\n",
    "    \n",
    "train_merge_tfidf_new = hstack(cols)\n",
    "\n",
    "cols = []\n",
    "\n",
    "for i in indices:\n",
    "    \n",
    "    cols.append(test_merge_tfidf[:,i])\n",
    "    \n",
    "test_merge_tfidf_new = hstack(cols)\n",
    "\n",
    "col_lst_new = []\n",
    "\n",
    "for i in indices:\n",
    "    \n",
    "     col_lst_new.append(col_lst[i])"
   ]
  },
  {
   "cell_type": "code",
   "execution_count": null,
   "metadata": {
    "colab": {},
    "colab_type": "code",
    "id": "8cCp2Hmc08jU",
    "outputId": "eafc6e2d-2a21-419c-a823-41e292947076"
   },
   "outputs": [
    {
     "name": "stdout",
     "output_type": "stream",
     "text": [
      "Final Data matrix\n",
      "(73815, 418)\n",
      "(62096, 418)\n",
      "(73815,)\n",
      "418\n",
      "====================================================================================================\n"
     ]
    }
   ],
   "source": [
    "print(\"Final Data matrix\")\n",
    "print(train_merge_tfidf_new.shape)\n",
    "print(test_merge_tfidf_new.shape)\n",
    "print(y.shape)\n",
    "print(len(col_lst_new))\n",
    "print(\"=\"*100)"
   ]
  },
  {
   "cell_type": "markdown",
   "metadata": {
    "colab_type": "text",
    "id": "sRTNlI2V08jW"
   },
   "source": [
    "# Train on top 80% data"
   ]
  },
  {
   "cell_type": "code",
   "execution_count": null,
   "metadata": {
    "colab": {},
    "colab_type": "code",
    "id": "By5MQDiF08jX",
    "outputId": "f8273a32-da12-4bc8-bc05-aa62e63d3004"
   },
   "outputs": [
    {
     "data": {
      "text/plain": [
       "XGBClassifier(base_score=0.5, booster='gbtree', colsample_bylevel=1,\n",
       "       colsample_bytree=0.7, eta=0.6, eval_metric='mlogloss', gamma=0.8,\n",
       "       learning_rate=0.001, max_delta_step=0, max_depth=20,\n",
       "       min_child_weight=0.9, missing=nan, n_estimators=300, n_jobs=8,\n",
       "       nthread=None, num_class=12, objective='multi:softprob',\n",
       "       random_state=0, reg_alpha=0, reg_lambda=1.0, scale_pos_weight=1,\n",
       "       scoring=make_scorer(ndcg_score, needs_proba=True, k=5), seed=None,\n",
       "       silent=True, subsample=0.6, verbose=10)"
      ]
     },
     "execution_count": 38,
     "metadata": {
      "tags": []
     },
     "output_type": "execute_result"
    }
   ],
   "source": [
    "clf.fit(train_merge_tfidf_new,y)"
   ]
  },
  {
   "cell_type": "code",
   "execution_count": null,
   "metadata": {
    "colab": {},
    "colab_type": "code",
    "id": "_E6kvpNV08jZ"
   },
   "outputs": [],
   "source": [
    "pred_y = clf.predict_proba(train_merge_tfidf_new)"
   ]
  },
  {
   "cell_type": "code",
   "execution_count": null,
   "metadata": {
    "colab": {},
    "colab_type": "code",
    "id": "BzWgFbyU08jb",
    "outputId": "6e986c99-22b6-42e4-c796-cd2fdc1acec7"
   },
   "outputs": [
    {
     "data": {
      "text/plain": [
       "0.90673109017962394"
      ]
     },
     "execution_count": 40,
     "metadata": {
      "tags": []
     },
     "output_type": "execute_result"
    }
   ],
   "source": [
    "# Train ndcg score\n",
    "\n",
    "s = ndcg_score(y, pred_y, k=5)\n",
    "\n",
    "s"
   ]
  },
  {
   "cell_type": "code",
   "execution_count": null,
   "metadata": {
    "colab": {},
    "colab_type": "code",
    "id": "EVW-gvQN08jd",
    "outputId": "d79d214a-9d43-4afd-dbcd-8dd705248b96"
   },
   "outputs": [
    {
     "data": {
      "image/png": "[encoded data removed]",
      "text/plain": [
       "<matplotlib.figure.Figure at 0x7eff8cf90f28>"
      ]
     },
     "metadata": {
      "tags": []
     },
     "output_type": "display_data"
    }
   ],
   "source": [
    "#feature importance\n",
    "\n",
    "features = col_lst_new\n",
    "importances = clf.feature_importances_\n",
    "indices = (np.argsort(importances))[-25:]\n",
    "plt.figure(figsize=(10,12))\n",
    "plt.title('Feature Importances')\n",
    "plt.barh(range(len(indices)), importances[indices], color='r', align='center')\n",
    "plt.yticks(range(len(indices)), [features[i] for i in indices])\n",
    "plt.xlabel('Relative Importance')\n",
    "plt.show()"
   ]
  },
  {
   "cell_type": "markdown",
   "metadata": {
    "colab_type": "text",
    "id": "3zyXbDD_08jg"
   },
   "source": [
    "# Best score = 13% of the Leaderboard"
   ]
  },
  {
   "cell_type": "code",
   "execution_count": null,
   "metadata": {
    "colab": {},
    "colab_type": "code",
    "id": "33V9GEpG6XmF",
    "outputId": "3b4a7458-2685-4a7e-df92-842ff7370c76"
   },
   "outputs": [
    {
     "data": {
      "text/plain": [
       "array(['5uwns89zht', 'jtl0dijy2j', 'xx0ulgorjt', ..., 'fa6260ziny',\n",
       "       '87k0fy4ugm', '9uqfg8txu3'], dtype=object)"
      ]
     },
     "execution_count": 42,
     "metadata": {
      "tags": []
     },
     "output_type": "execute_result"
    }
   ],
   "source": [
    "#test csv\n",
    "\n",
    "test_df = pd.read_csv('/home/puneetchandna12/cs1/test_users.csv')\n",
    "\n",
    "test_id = test_df['id'].values\n",
    "\n",
    "test_id"
   ]
  },
  {
   "cell_type": "code",
   "execution_count": null,
   "metadata": {
    "colab": {},
    "colab_type": "code",
    "id": "0S81TZSp6XmH"
   },
   "outputs": [],
   "source": [
    "# https://www.kaggle.com/kevinwu06/feature-importance-w-xgboost\n",
    "\n",
    "pred = clf.predict_proba(test_merge_tfidf)\n",
    "\n",
    "ids = []\n",
    "countries = []\n",
    "\n",
    "# Taking the 5 classes with highest probabilities\n",
    "\n",
    "for i in range(len(test_id)):\n",
    "    idx = test_id[i]\n",
    "    ids += [idx] * 5\n",
    "    countries += le.inverse_transform(np.argsort(pred[i])[::-1][:5]).tolist()\n",
    "    \n",
    "# Generate submission\n",
    "\n",
    "sub = pd.DataFrame({\"id\" : ids,\"country\" : countries})\n",
    "\n",
    "sub.to_csv('/home/puneetchandna12/cs1/kag_sub.csv', index = False)"
   ]
  },
  {
   "cell_type": "code",
   "execution_count": null,
   "metadata": {
    "colab": {},
    "colab_type": "code",
    "id": "13fNxIjH08jk",
    "outputId": "12035812-0fcf-4dc6-a6d1-8adeff726e79"
   },
   "outputs": [
    {
     "data": {
      "image/png": "[encoded data removed]",
      "text/plain": [
       "<IPython.core.display.Image object>"
      ]
     },
     "execution_count": 47,
     "metadata": {
      "tags": []
     },
     "output_type": "execute_result"
    }
   ],
   "source": [
    "Image(filename='/home/puneetchandna12/score.PNG')"
   ]
  },
  {
   "cell_type": "markdown",
   "metadata": {
    "colab_type": "text",
    "id": "WtjyTEY008jm"
   },
   "source": [
    "# Comparison with other submitted notebooks ordered by best score"
   ]
  },
  {
   "cell_type": "markdown",
   "metadata": {
    "colab_type": "text",
    "id": "jZNfpe7y08jm"
   },
   "source": [
    "1) https://www.kaggle.com/zhugds/test-script - score = 0.87008\n",
    "\n",
    "== This user doesnt make use of the sessions data, instead uses the entire train data.\n",
    "\n",
    "== But from our model, we know secs_elapsed and other actions are among the most imp features.\n",
    "\n",
    "== Thus, we get a better score."
   ]
  },
  {
   "cell_type": "markdown",
   "metadata": {
    "colab_type": "text",
    "id": "O_gsXahp08jm"
   },
   "source": [
    "2) https://www.kaggle.com/wallinm1/script-0-1 - score = 0.86987\n",
    "\n",
    "== This user also doesnt make use of the sessions data, instead uses the entire train data.\n",
    "\n",
    "== But from our model, we know secs_elapsed and other actions are among the most imp features.\n",
    "\n",
    "== Thus, we get a better score."
   ]
  },
  {
   "cell_type": "markdown",
   "metadata": {
    "colab_type": "text",
    "id": "iHooDNZI08jn"
   },
   "source": [
    "3) https://www.kaggle.com/kapetis/script-0-1 - score = 0.86987\n",
    "\n",
    "== This user also doesnt make use of the sessions data, instead uses the entire train data.\n",
    "\n",
    "== But from our model, we know secs_elapsed and other actions are among the most imp features.\n",
    "\n",
    "== Thus, we get a better score."
   ]
  },
  {
   "cell_type": "markdown",
   "metadata": {
    "colab_type": "text",
    "id": "kq5Hv09f08jn"
   },
   "source": [
    "4) https://www.kaggle.com/foutik/script-cleaning-data - score = 0.86969\n",
    "\n",
    "== This user also doesnt make use of the sessions data, instead uses the entire train data.\n",
    "\n",
    "== But from our model, we know secs_elapsed and other actions are among the most imp features.\n",
    "\n",
    "== Thus, we get a better score."
   ]
  },
  {
   "cell_type": "markdown",
   "metadata": {
    "colab_type": "text",
    "id": "x2uAhG1L08jn"
   },
   "source": [
    "5) https://www.kaggle.com/michaelpawlus/xgb-feature-exploration - score = 0.85655\n",
    "\n",
    "== This user also doesnt make use of the sessions data, instead uses the entire train data.\n",
    "\n",
    "== But from our model, we know secs_elapsed and other actions are among the most imp features.\n",
    "\n",
    "== Thus, we get a better score."
   ]
  }
 ],
 "metadata": {
  "anaconda-cloud": {},
  "colab": {
   "collapsed_sections": [],
   "name": "airbnb_3_Modelling.ipynb",
   "provenance": []
  },
  "kernelspec": {
   "display_name": "Python 3 (ipykernel)",
   "language": "python",
   "name": "python3"
  },
  "language_info": {
   "codemirror_mode": {
    "name": "ipython",
    "version": 3
   },
   "file_extension": ".py",
   "mimetype": "text/x-python",
   "name": "python",
   "nbconvert_exporter": "python",
   "pygments_lexer": "ipython3",
   "version": "3.10.9"
  }
 },
 "nbformat": 4,
 "nbformat_minor": 1
}
