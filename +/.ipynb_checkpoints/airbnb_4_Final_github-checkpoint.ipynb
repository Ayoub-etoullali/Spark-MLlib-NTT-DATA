{
 "cells": [
  {
   "cell_type": "code",
   "execution_count": null,
   "metadata": {
    "colab": {},
    "colab_type": "code",
    "id": "UmdsPaPk2y4D"
   },
   "outputs": [],
   "source": [
    "import pandas as pd\n",
    "import numpy as np\n",
    "import zipfile\n",
    "import os\n",
    "import seaborn as sns\n",
    "import matplotlib.pyplot as plt\n",
    "import warnings\n",
    "warnings.filterwarnings(\"ignore\")\n",
    "import re\n",
    "from wordcloud import WordCloud\n",
    "from tqdm import tqdm\n",
    "from sklearn.cross_validation import train_test_split\n",
    "from datetime import datetime, date\n",
    "from sklearn.feature_extraction.text import TfidfVectorizer\n",
    "from scipy.sparse import coo_matrix\n",
    "from scipy.sparse import hstack\n",
    "from scipy.sparse import vstack\n",
    "from scipy import sparse\n",
    "from scipy.sparse import csr_matrix\n",
    "from sklearn.preprocessing import OneHotEncoder\n",
    "from sklearn import metrics\n",
    "from sklearn.metrics import make_scorer\n",
    "from sklearn.grid_search import GridSearchCV\n",
    "from sklearn.grid_search import RandomizedSearchCV\n",
    "from sklearn.preprocessing import LabelBinarizer,LabelEncoder\n",
    "from scipy.stats import randint as sp_randint\n",
    "from sklearn import linear_model\n",
    "from sklearn.ensemble import RandomForestClassifier\n",
    "import xgboost as xgb\n",
    "import pickle\n",
    "import joblib\n",
    "from IPython.display import Image"
   ]
  },
  {
   "cell_type": "code",
   "execution_count": null,
   "metadata": {
    "colab": {},
    "colab_type": "code",
    "id": "FtgTcQCA2y4H"
   },
   "outputs": [],
   "source": [
    "# tokenisation\n",
    "\n",
    "def tokens(x):\n",
    "        \n",
    "    \"\"\"\n",
    "    \n",
    "    Function takes strings and tokenises using comma.\n",
    "    \n",
    "    parameters:  string\n",
    "    \n",
    "    returns: comma separeted tokens\n",
    "    \n",
    "    \"\"\"\n",
    "        \n",
    "    return x.split(',')"
   ]
  },
  {
   "cell_type": "code",
   "execution_count": null,
   "metadata": {
    "colab": {},
    "colab_type": "code",
    "id": "M4Eu5Zti2y4K"
   },
   "outputs": [],
   "source": [
    "# https://www.kaggle.com/davidgasquez/ndcg-scorer\n",
    "\n",
    "def dcg_score(y_true, y_score, k=5):\n",
    "    \n",
    "    \"\"\"Discounted cumulative gain (DCG) at rank K.\n",
    "\n",
    "    Parameters\n",
    "    ----------\n",
    "    y_true : array, shape = [n_samples]\n",
    "        Ground truth (true relevance labels).\n",
    "    y_score : array, shape = [n_samples, n_classes]\n",
    "        Predicted scores.\n",
    "    k : int\n",
    "        Rank.\n",
    "\n",
    "    Returns\n",
    "    -------\n",
    "    score : float\n",
    "    \"\"\"\n",
    "    \n",
    "    order = np.argsort(y_score)[::-1]\n",
    "    y_true = np.take(y_true, order[:k])\n",
    "\n",
    "    gain = 2 ** y_true - 1\n",
    "\n",
    "    discounts = np.log2(np.arange(len(y_true)) + 2)\n",
    "    return np.sum(gain / discounts)\n",
    "\n",
    "\n",
    "def ndcg_score(ground_truth, predictions, k=5):\n",
    "    \n",
    "    \"\"\"Normalized discounted cumulative gain (NDCG) at rank K.\n",
    "\n",
    "    Normalized Discounted Cumulative Gain (NDCG) measures the performance of a\n",
    "    recommendation system based on the graded relevance of the recommended\n",
    "    entities. It varies from 0.0 to 1.0, with 1.0 representing the ideal\n",
    "    ranking of the entities.\n",
    "\n",
    "    Parameters\n",
    "    ----------\n",
    "    ground_truth : array, shape = [n_samples]\n",
    "        Ground truth (true labels represended as integers).\n",
    "    predictions : array, shape = [n_samples, n_classes]\n",
    "        Predicted probabilities.\n",
    "    k : int\n",
    "        Rank.\n",
    "\n",
    "    Returns\n",
    "    -------\n",
    "    score : float\n",
    "\n",
    "    Example\n",
    "    -------\n",
    "    >>> ground_truth = [1, 0, 2]\n",
    "    >>> predictions = [[0.15, 0.55, 0.2], [0.7, 0.2, 0.1], [0.06, 0.04, 0.9]]\n",
    "    >>> score = ndcg_score(ground_truth, predictions, k=2)\n",
    "    1.0\n",
    "    >>> predictions = [[0.9, 0.5, 0.8], [0.7, 0.2, 0.1], [0.06, 0.04, 0.9]]\n",
    "    >>> score = ndcg_score(ground_truth, predictions, k=2)\n",
    "    0.6666666666\n",
    "    \"\"\"\n",
    "    \n",
    "    lb = LabelBinarizer()\n",
    "    lb.fit(range(predictions.shape[1] + 1))\n",
    "    T = lb.transform(ground_truth)\n",
    "\n",
    "    scores = []\n",
    "\n",
    "    # Iterate over each y_true and compute the DCG score\n",
    "    for y_true, y_score in zip(T, predictions):\n",
    "        actual = dcg_score(y_true, y_score, k)\n",
    "        best = dcg_score(y_true, y_true, k)\n",
    "        score = float(actual) / float(best)\n",
    "        scores.append(score)\n",
    "\n",
    "    return np.mean(scores)\n",
    "\n",
    "\n",
    "# NDCG Scorer function\n",
    "ndcg_scorer = make_scorer(ndcg_score, needs_proba=True, k=5)"
   ]
  },
  {
   "cell_type": "code",
   "execution_count": null,
   "metadata": {
    "colab": {},
    "colab_type": "code",
    "id": "mXUz7OHL2y4N"
   },
   "outputs": [],
   "source": [
    "def func_timestamp_first_active(timestamp):\n",
    "        \n",
    "        \"\"\"\n",
    "        Function takes timestamp_first_active and converts it into datetime.\n",
    "        \n",
    "        Input type:  Integer\n",
    "        \n",
    "        return type: Datetime\n",
    "        \n",
    "        \"\"\"\n",
    "        \n",
    "        timestamp = str(timestamp)\n",
    "        \n",
    "        timestamp = datetime(year=int(timestamp[0:4]), month=int(timestamp[4:6]), day=int(timestamp[6:8]),\\\n",
    "                             \n",
    "                             hour=int(timestamp[8:10]), minute=int(timestamp[10:12]), second=int(timestamp[12:]))\n",
    "        \n",
    "        return timestamp"
   ]
  },
  {
   "cell_type": "code",
   "execution_count": null,
   "metadata": {
    "colab": {},
    "colab_type": "code",
    "id": "x-gVtze82y4P"
   },
   "outputs": [],
   "source": [
    "# median replacement with median age = 34.0\n",
    "\n",
    "def age_median(age):\n",
    "    \n",
    "    \"\"\"\n",
    "    Function to replace age outliers with median age\n",
    "    \n",
    "    parameters: age \n",
    "    \n",
    "    returns : age  \n",
    "    \n",
    "    \"\"\"\n",
    "    \n",
    "    if age < 15.0 or age > 100.0: \n",
    "        \n",
    "        return 34.0\n",
    "  \n",
    "    else: \n",
    "        \n",
    "        return age"
   ]
  },
  {
   "cell_type": "code",
   "execution_count": null,
   "metadata": {
    "colab": {},
    "colab_type": "code",
    "id": "PBOk6bf92y4S"
   },
   "outputs": [],
   "source": [
    "#creating age buckets\n",
    "\n",
    "bins = [i for i in range(15,106,5)]\n",
    "\n",
    "def age_interv(age):\n",
    "        \n",
    "    \"\"\"\n",
    "    \n",
    "    Function takes age and returns interval.\n",
    "    \n",
    "    parameters:  age\n",
    "    \n",
    "    returns: age interval\n",
    "    \n",
    "    \"\"\"\n",
    "        \n",
    "    for i in range(len(bins)):\n",
    "        \n",
    "        if age < bins[i]:\n",
    "            \n",
    "            return i"
   ]
  },
  {
   "cell_type": "code",
   "execution_count": null,
   "metadata": {
    "colab": {},
    "colab_type": "code",
    "id": "-swbYaR52y4U",
    "outputId": "8c905f40-a17f-4e91-8a2c-e2552ef9114c"
   },
   "outputs": [
    {
     "data": {
      "text/plain": [
       "array([11,  7,  7, ...,  7,  7,  7])"
      ]
     },
     "execution_count": 158,
     "metadata": {
      "tags": []
     },
     "output_type": "execute_result"
    }
   ],
   "source": [
    "le = LabelEncoder()\n",
    "\n",
    "y = le.fit_transform(y)\n",
    "\n",
    "y"
   ]
  },
  {
   "cell_type": "code",
   "execution_count": null,
   "metadata": {
    "colab": {},
    "colab_type": "code",
    "id": "VuU-7bvU2y4Y"
   },
   "outputs": [],
   "source": [
    "# loading from memory\n",
    "\n",
    "y = np.load('/home/puneetchandna12/cs1/y.npy')\n",
    "\n",
    "with open(\"/home/puneetchandna12/cs1/col_lst.txt\", \"rb\") as fp:\n",
    "    \n",
    "    col_lst = pickle.load(fp)\n",
    "    \n",
    "fp.close()\n",
    "\n",
    "with open(\"/home/puneetchandna12/cs1/lst_ohe_train.txt\", \"rb\") as fp:\n",
    "    \n",
    "    lst_ohe_train = pickle.load(fp)\n",
    "    \n",
    "fp.close()\n",
    "\n",
    "vectorizer_action = pickle.load(open(\"/home/puneetchandna12/cs1/vectorizer_action.pickle\", \"rb\"))\n",
    "\n",
    "vectorizer_action_type = pickle.load(open(\"/home/puneetchandna12/cs1/vectorizer_action_type.pickle\", \"rb\"))\n",
    "\n",
    "vectorizer_action_detail = pickle.load(open(\"/home/puneetchandna12/cs1/vectorizer_action_detail.pickle\", \"rb\"))\n",
    "\n",
    "session_df_concat = pd.read_pickle('/home/puneetchandna12/cs1/session_df_concat.pickle')\n",
    "\n",
    "train_merge_raw = pd.read_pickle('/home/puneetchandna12/cs1/train_merge_raw.pickle')\n",
    "\n",
    "clf = joblib.load('/home/puneetchandna12/cs1/clf')"
   ]
  },
  {
   "cell_type": "code",
   "execution_count": null,
   "metadata": {
    "colab": {},
    "colab_type": "code",
    "id": "a-fjN1kx2y4a"
   },
   "outputs": [],
   "source": [
    "#ohe\n",
    "\n",
    "lst_ohe = ['gender', 'signup_method', 'language', 'affiliate_channel',\\\n",
    "            'affiliate_provider', 'first_affiliate_tracked', 'signup_app', 'first_device_type', 'first_browser']"
   ]
  },
  {
   "cell_type": "code",
   "execution_count": null,
   "metadata": {
    "colab": {},
    "colab_type": "code",
    "id": "qkacjRtw2y4d"
   },
   "outputs": [],
   "source": [
    "#raw data creation\n",
    "\n",
    "raw_df = train_merge_raw[:2]\n",
    "\n",
    "raw_label = y[:2]"
   ]
  },
  {
   "cell_type": "code",
   "execution_count": null,
   "metadata": {
    "colab": {},
    "colab_type": "code",
    "id": "IaPgwT7g2y4f",
    "outputId": "e9e6dec6-697a-4bcc-ac13-3a82f420500f"
   },
   "outputs": [
    {
     "data": {
      "text/html": [
       "<div>\n",
       "<table border=\"1\" class=\"dataframe\">\n",
       "  <thead>\n",
       "    <tr style=\"text-align: right;\">\n",
       "      <th></th>\n",
       "      <th>id</th>\n",
       "      <th>date_account_created</th>\n",
       "      <th>timestamp_first_active</th>\n",
       "      <th>date_first_booking</th>\n",
       "      <th>gender</th>\n",
       "      <th>age</th>\n",
       "      <th>signup_method</th>\n",
       "      <th>signup_flow</th>\n",
       "      <th>language</th>\n",
       "      <th>affiliate_channel</th>\n",
       "      <th>...</th>\n",
       "      <th>signup_app</th>\n",
       "      <th>first_device_type</th>\n",
       "      <th>first_browser</th>\n",
       "      <th>country_destination</th>\n",
       "      <th>user_id</th>\n",
       "      <th>action</th>\n",
       "      <th>action_type</th>\n",
       "      <th>action_detail</th>\n",
       "      <th>device_type</th>\n",
       "      <th>secs_elapsed</th>\n",
       "    </tr>\n",
       "  </thead>\n",
       "  <tbody>\n",
       "    <tr>\n",
       "      <th>0</th>\n",
       "      <td>d1mm9tcy42</td>\n",
       "      <td>2014-01-01</td>\n",
       "      <td>20140101000936</td>\n",
       "      <td>2014-01-04</td>\n",
       "      <td>MALE</td>\n",
       "      <td>62.0</td>\n",
       "      <td>basic</td>\n",
       "      <td>0</td>\n",
       "      <td>en</td>\n",
       "      <td>sem-non-brand</td>\n",
       "      <td>...</td>\n",
       "      <td>Web</td>\n",
       "      <td>Windows Desktop</td>\n",
       "      <td>Chrome</td>\n",
       "      <td>other</td>\n",
       "      <td>d1mm9tcy42</td>\n",
       "      <td>lookup,search_results,lookup,search_results,lo...</td>\n",
       "      <td>,click,,click,,click,,data,view,,click,,data,v...</td>\n",
       "      <td>,view_search_results,,view_search_results,,vie...</td>\n",
       "      <td>-unknown-,Windows Desktop</td>\n",
       "      <td>3427529.0</td>\n",
       "    </tr>\n",
       "    <tr>\n",
       "      <th>1</th>\n",
       "      <td>yo8nz8bqcq</td>\n",
       "      <td>2014-01-01</td>\n",
       "      <td>20140101001558</td>\n",
       "      <td>NaN</td>\n",
       "      <td>-unknown-</td>\n",
       "      <td>34.0</td>\n",
       "      <td>basic</td>\n",
       "      <td>0</td>\n",
       "      <td>en</td>\n",
       "      <td>direct</td>\n",
       "      <td>...</td>\n",
       "      <td>Web</td>\n",
       "      <td>Mac Desktop</td>\n",
       "      <td>Firefox</td>\n",
       "      <td>NDF</td>\n",
       "      <td>yo8nz8bqcq</td>\n",
       "      <td>dashboard,create,confirm_email,show,show_perso...</td>\n",
       "      <td>view,submit,click,view,data,view,data,data,</td>\n",
       "      <td>dashboard,create_user,confirm_email_link,p3,us...</td>\n",
       "      <td>Mac Desktop</td>\n",
       "      <td>207842.0</td>\n",
       "    </tr>\n",
       "  </tbody>\n",
       "</table>\n",
       "<p>2 rows × 22 columns</p>\n",
       "</div>"
      ],
      "text/plain": [
       "           id date_account_created  timestamp_first_active date_first_booking  \\\n",
       "0  d1mm9tcy42           2014-01-01          20140101000936         2014-01-04   \n",
       "1  yo8nz8bqcq           2014-01-01          20140101001558                NaN   \n",
       "\n",
       "      gender   age signup_method  signup_flow language affiliate_channel  \\\n",
       "0       MALE  62.0         basic            0       en     sem-non-brand   \n",
       "1  -unknown-  34.0         basic            0       en            direct   \n",
       "\n",
       "      ...      signup_app first_device_type first_browser country_destination  \\\n",
       "0     ...             Web   Windows Desktop        Chrome               other   \n",
       "1     ...             Web       Mac Desktop       Firefox                 NDF   \n",
       "\n",
       "      user_id                                             action  \\\n",
       "0  d1mm9tcy42  lookup,search_results,lookup,search_results,lo...   \n",
       "1  yo8nz8bqcq  dashboard,create,confirm_email,show,show_perso...   \n",
       "\n",
       "                                         action_type  \\\n",
       "0  ,click,,click,,click,,data,view,,click,,data,v...   \n",
       "1        view,submit,click,view,data,view,data,data,   \n",
       "\n",
       "                                       action_detail  \\\n",
       "0  ,view_search_results,,view_search_results,,vie...   \n",
       "1  dashboard,create_user,confirm_email_link,p3,us...   \n",
       "\n",
       "                 device_type secs_elapsed  \n",
       "0  -unknown-,Windows Desktop    3427529.0  \n",
       "1                Mac Desktop     207842.0  \n",
       "\n",
       "[2 rows x 22 columns]"
      ]
     },
     "execution_count": 357,
     "metadata": {
      "tags": []
     },
     "output_type": "execute_result"
    }
   ],
   "source": [
    "raw_df"
   ]
  },
  {
   "cell_type": "code",
   "execution_count": null,
   "metadata": {
    "colab": {},
    "colab_type": "code",
    "id": "_vLTe7QS2y4i",
    "outputId": "397be61c-e996-4fbd-d303-ef408ca97bb1"
   },
   "outputs": [
    {
     "data": {
      "text/plain": [
       "array([11,  7])"
      ]
     },
     "execution_count": 352,
     "metadata": {
      "tags": []
     },
     "output_type": "execute_result"
    }
   ],
   "source": [
    "raw_label"
   ]
  },
  {
   "cell_type": "code",
   "execution_count": null,
   "metadata": {
    "colab": {},
    "colab_type": "code",
    "id": "WJ1-_t2F2y4k"
   },
   "outputs": [],
   "source": [
    "# func1\n",
    "\n",
    "def func1(data):\n",
    "    \n",
    "    \"\"\"\n",
    "    \n",
    "    Function takes raw data and returns processed data.\n",
    "    \n",
    "    parameters:  data\n",
    "        \n",
    "    \"\"\"\n",
    "    countries = []\n",
    "    \n",
    "    data['user_id'].fillna('na' , inplace=True)\n",
    "\n",
    "    data['action'].fillna('na' , inplace=True)\n",
    "\n",
    "    data['action_type'].fillna('na' , inplace=True)\n",
    "\n",
    "    data['action_detail'].fillna('na' , inplace=True)\n",
    "\n",
    "    data['device_type'].fillna('na' , inplace=True)\n",
    "\n",
    "    data['secs_elapsed'].fillna(0, inplace=True)\n",
    "    \n",
    "    data['date_account_created'] = pd.to_datetime(data['date_account_created'])\n",
    "\n",
    "    data['date_account_created_day'] = data.date_account_created.dt.weekday\n",
    "\n",
    "    data['date_account_created_month'] = data.date_account_created.dt.month\n",
    "\n",
    "    data['date_account_created_year'] = data.date_account_created.dt.year\n",
    "\n",
    "    data['timestamp_first_active'] = pd.to_datetime(data.timestamp_first_active.apply(func_timestamp_first_active))\n",
    "\n",
    "    data['timestamp_first_active_day'] = data.timestamp_first_active.dt.weekday\n",
    "\n",
    "    data['timestamp_first_active_month'] = data.timestamp_first_active.dt.month\n",
    "\n",
    "    data['timestamp_first_active_year'] = data.timestamp_first_active.dt.year\n",
    "\n",
    "    data['timestamp_first_active_hour'] = data.timestamp_first_active.dt.hour\n",
    "    \n",
    "    data['age'] = data['age'].apply(age_median)\n",
    "\n",
    "    data['age'].fillna(34.0 , inplace=True)\n",
    "    \n",
    "    data['age_interv'] = data['age'].apply(lambda x: age_interv(x))\n",
    "\n",
    "    data.first_affiliate_tracked.fillna('untracked',inplace = True)\n",
    "    \n",
    "    data.drop(['id','date_account_created','timestamp_first_active',\\\n",
    "                  'date_first_booking','country_destination','user_id'],axis=1,inplace = True)\n",
    "    \n",
    "    for i in range(len(lst_ohe)):\n",
    "        \n",
    "        ohe = pd.get_dummies(data[lst_ohe[i]], prefix=lst_ohe[i])\n",
    "        \n",
    "        data.drop([lst_ohe[i]], axis=1, inplace = True)\n",
    "        \n",
    "        # Get missing columns in the training test\n",
    "    \n",
    "        missing_cols = set( lst_ohe_train[i] ) - set( ohe.columns )\n",
    "    \n",
    "        # Add a missing column in test set with default value equal to 0\n",
    "    \n",
    "        for c in missing_cols:\n",
    "            \n",
    "            ohe[c] = 0\n",
    "        \n",
    "        # Ensure the order of column in the test set is in the same order than in train set\n",
    "    \n",
    "        ohe = ohe[lst_ohe_train[i]]\n",
    "    \n",
    "        data = pd.concat((data, ohe), axis=1)\n",
    "        \n",
    "    ohe = data['device_type'].str.get_dummies(sep=\",\")\n",
    "    \n",
    "    data.drop(['device_type'], axis=1, inplace = True)\n",
    "    \n",
    "    # Get missing columns in the training test\n",
    "    \n",
    "    missing_cols = set( lst_ohe_train[-1] ) - set( ohe.columns )\n",
    "    \n",
    "    # Add a missing column in test set with default value equal to 0\n",
    "    \n",
    "    for c in missing_cols:\n",
    "        \n",
    "        ohe[c] = 0\n",
    "        \n",
    "    # Ensure the order of column in the test set is in the same order than in train set\n",
    "    \n",
    "    ohe = ohe[lst_ohe_train[-1]]\n",
    "    \n",
    "    data = pd.concat((data, ohe), axis=1)    \n",
    "    \n",
    "    data_action_tfidf = vectorizer_action.transform(data['action'].values)\n",
    "    \n",
    "    data_action_type_tfidf = vectorizer_action_type.transform(data['action_type'].values)\n",
    "        \n",
    "    data_action_detail_tfidf = vectorizer_action_detail.transform(data['action_detail'].values)\n",
    "        \n",
    "    data.drop(['action','action_type','action_detail'],axis=1,inplace = True)\n",
    "    \n",
    "    data_tfidf = hstack((data,data_action_tfidf,data_action_type_tfidf,data_action_detail_tfidf)).tocsr()\n",
    "    \n",
    "    pred = clf.predict_proba(data_tfidf)\n",
    "    \n",
    "    for i in pred:\n",
    "        \n",
    "        countries.append(le.inverse_transform(np.argsort(i)[::-1][:5]).tolist())\n",
    "    \n",
    "    return countries,pred"
   ]
  },
  {
   "cell_type": "code",
   "execution_count": null,
   "metadata": {
    "colab": {},
    "colab_type": "code",
    "id": "bz6KfCHc2y4o"
   },
   "outputs": [],
   "source": [
    "# func2\n",
    "\n",
    "def func2(label,pred):\n",
    "    \n",
    "    \"\"\"\n",
    "    \n",
    "    Function takes label and pred as input and returns ndcg score.\n",
    "    \n",
    "    parameters:  label , pred\n",
    "        \n",
    "    \"\"\"\n",
    "    \n",
    "    score = ndcg_score(label,pred,5)\n",
    "    \n",
    "    return score"
   ]
  },
  {
   "cell_type": "code",
   "execution_count": null,
   "metadata": {
    "colab": {},
    "colab_type": "code",
    "id": "GZONrR7R2y4q",
    "outputId": "7dcd4fb5-8269-4ba2-f8bb-50bf956f42a0"
   },
   "outputs": [
    {
     "name": "stdout",
     "output_type": "stream",
     "text": [
      "[['US', 'NDF', 'other', 'GB', 'IT'], ['NDF', 'US', 'other', 'FR', 'GB']] [[ 0.07227261  0.07268214  0.07244734  0.0727839   0.0736526   0.07426566\n",
      "   0.07396927  0.11341434  0.07238723  0.07212908  0.12122008  0.10877571]\n",
      " [ 0.06988983  0.07025965  0.07004832  0.0703583   0.0706948   0.07053546\n",
      "   0.07049852  0.2142804   0.07002889  0.06979483  0.08207586  0.07153518]]\n"
     ]
    }
   ],
   "source": [
    "count,pred = func1(raw_df)\n",
    "\n",
    "print(count,pred)"
   ]
  },
  {
   "cell_type": "code",
   "execution_count": null,
   "metadata": {
    "colab": {},
    "colab_type": "code",
    "id": "ijbPk31E2y4t",
    "outputId": "7d1434af-36f4-46b0-8454-f9802faa11a6"
   },
   "outputs": [
    {
     "data": {
      "text/plain": [
       "0.75"
      ]
     },
     "execution_count": 360,
     "metadata": {
      "tags": []
     },
     "output_type": "execute_result"
    }
   ],
   "source": [
    "score = func2(raw_label,pred)\n",
    "\n",
    "score"
   ]
  }
 ],
 "metadata": {
  "anaconda-cloud": {},
  "colab": {
   "name": "airbnb_4_Final.ipynb",
   "provenance": []
  },
  "kernelspec": {
   "display_name": "Python 3 (ipykernel)",
   "language": "python",
   "name": "python3"
  },
  "language_info": {
   "codemirror_mode": {
    "name": "ipython",
    "version": 3
   },
   "file_extension": ".py",
   "mimetype": "text/x-python",
   "name": "python",
   "nbconvert_exporter": "python",
   "pygments_lexer": "ipython3",
   "version": "3.10.9"
  }
 },
 "nbformat": 4,
 "nbformat_minor": 1
}
