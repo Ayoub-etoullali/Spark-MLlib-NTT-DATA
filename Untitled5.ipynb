{
 "cells": [
  {
   "cell_type": "code",
   "execution_count": 1,
   "id": "c834d5e8",
   "metadata": {},
   "outputs": [],
   "source": [
    "import pandas as pd\n",
    "import numpy as np\n",
    "import scipy as sc\n",
    "import matplotlib.pyplot as plt\n",
    "import seaborn as sns\n",
    "%matplotlib inline\n"
   ]
  },
  {
   "cell_type": "code",
   "execution_count": 2,
   "id": "6eaeb63c",
   "metadata": {},
   "outputs": [],
   "source": [
    "session = pd.read_csv('C:/Users/hp/Downloads/airbnb-recruiting-new-user-bookings/sessions.csv')\n"
   ]
  },
  {
   "cell_type": "code",
   "execution_count": 3,
   "id": "f23625f8",
   "metadata": {},
   "outputs": [
    {
     "data": {
      "text/plain": [
       "(10567737, 6)"
      ]
     },
     "execution_count": 3,
     "metadata": {},
     "output_type": "execute_result"
    }
   ],
   "source": [
    "session.shape\n"
   ]
  },
  {
   "cell_type": "code",
   "execution_count": 6,
   "id": "36c1e2bd",
   "metadata": {},
   "outputs": [
    {
     "data": {
      "text/plain": [
       "Index(['user_id', 'action', 'action_type', 'action_detail', 'device_type',\n",
       "       'secs_elapsed'],\n",
       "      dtype='object')"
      ]
     },
     "execution_count": 6,
     "metadata": {},
     "output_type": "execute_result"
    }
   ],
   "source": [
    "session.columns"
   ]
  },
  {
   "cell_type": "code",
   "execution_count": 9,
   "id": "39d9b54f",
   "metadata": {},
   "outputs": [
    {
     "name": "stdout",
     "output_type": "stream",
     "text": [
      "user_id            34496\n",
      "action             79626\n",
      "action_type      1126204\n",
      "action_detail    1126204\n",
      "device_type            0\n",
      "secs_elapsed      136031\n",
      "dtype: int64\n"
     ]
    }
   ],
   "source": [
    "print(session.isnull().sum())"
   ]
  },
  {
   "cell_type": "code",
   "execution_count": 10,
   "id": "a13a2bfd",
   "metadata": {},
   "outputs": [
    {
     "name": "stdout",
     "output_type": "stream",
     "text": [
      "user_id            34496\n",
      "action             79626\n",
      "action_type      1126204\n",
      "action_detail    1126204\n",
      "device_type            0\n",
      "secs_elapsed      136031\n",
      "dtype: int64\n"
     ]
    }
   ],
   "source": [
    "print(session.isna().sum())"
   ]
  },
  {
   "cell_type": "code",
   "execution_count": 16,
   "id": "1fc60476",
   "metadata": {},
   "outputs": [],
   "source": [
    "session.dropna(subset=['user_id','action','action_type','action_detail','secs_elapsed'], inplace= True )"
   ]
  },
  {
   "cell_type": "code",
   "execution_count": 29,
   "id": "baad8aeb",
   "metadata": {},
   "outputs": [
    {
     "name": "stdout",
     "output_type": "stream",
     "text": [
      "view                3545621\n",
      "data                2096092\n",
      "click               1989435\n",
      "-unknown-           1016591\n",
      "submit               528887\n",
      "booking_request       18638\n",
      "partner_callback      10079\n",
      "message_post           7445\n",
      "modify                 1138\n",
      "booking_response          4\n",
      "Name: action_type, dtype: int64\n"
     ]
    }
   ],
   "source": [
    "action_counts = session['action_type'].value_counts()\n",
    "print(action_counts)"
   ]
  },
  {
   "cell_type": "code",
   "execution_count": 30,
   "id": "551806fd",
   "metadata": {},
   "outputs": [
    {
     "data": {
      "text/html": [
       "<div>\n",
       "<style scoped>\n",
       "    .dataframe tbody tr th:only-of-type {\n",
       "        vertical-align: middle;\n",
       "    }\n",
       "\n",
       "    .dataframe tbody tr th {\n",
       "        vertical-align: top;\n",
       "    }\n",
       "\n",
       "    .dataframe thead th {\n",
       "        text-align: right;\n",
       "    }\n",
       "</style>\n",
       "<table border=\"1\" class=\"dataframe\">\n",
       "  <thead>\n",
       "    <tr style=\"text-align: right;\">\n",
       "      <th></th>\n",
       "      <th>user_id</th>\n",
       "      <th>action</th>\n",
       "      <th>action_type</th>\n",
       "      <th>action_detail</th>\n",
       "      <th>device_type</th>\n",
       "      <th>secs_elapsed</th>\n",
       "    </tr>\n",
       "  </thead>\n",
       "  <tbody>\n",
       "    <tr>\n",
       "      <th>1</th>\n",
       "      <td>d1mm9tcy42</td>\n",
       "      <td>search_results</td>\n",
       "      <td>click</td>\n",
       "      <td>view_search_results</td>\n",
       "      <td>Windows Desktop</td>\n",
       "      <td>67753.0</td>\n",
       "    </tr>\n",
       "    <tr>\n",
       "      <th>3</th>\n",
       "      <td>d1mm9tcy42</td>\n",
       "      <td>search_results</td>\n",
       "      <td>click</td>\n",
       "      <td>view_search_results</td>\n",
       "      <td>Windows Desktop</td>\n",
       "      <td>22141.0</td>\n",
       "    </tr>\n",
       "    <tr>\n",
       "      <th>5</th>\n",
       "      <td>d1mm9tcy42</td>\n",
       "      <td>search_results</td>\n",
       "      <td>click</td>\n",
       "      <td>view_search_results</td>\n",
       "      <td>Windows Desktop</td>\n",
       "      <td>7703.0</td>\n",
       "    </tr>\n",
       "    <tr>\n",
       "      <th>7</th>\n",
       "      <td>d1mm9tcy42</td>\n",
       "      <td>personalize</td>\n",
       "      <td>data</td>\n",
       "      <td>wishlist_content_update</td>\n",
       "      <td>Windows Desktop</td>\n",
       "      <td>831.0</td>\n",
       "    </tr>\n",
       "    <tr>\n",
       "      <th>8</th>\n",
       "      <td>d1mm9tcy42</td>\n",
       "      <td>index</td>\n",
       "      <td>view</td>\n",
       "      <td>view_search_results</td>\n",
       "      <td>Windows Desktop</td>\n",
       "      <td>20842.0</td>\n",
       "    </tr>\n",
       "    <tr>\n",
       "      <th>...</th>\n",
       "      <td>...</td>\n",
       "      <td>...</td>\n",
       "      <td>...</td>\n",
       "      <td>...</td>\n",
       "      <td>...</td>\n",
       "      <td>...</td>\n",
       "    </tr>\n",
       "    <tr>\n",
       "      <th>10567732</th>\n",
       "      <td>9uqfg8txu3</td>\n",
       "      <td>dashboard</td>\n",
       "      <td>view</td>\n",
       "      <td>dashboard</td>\n",
       "      <td>Windows Desktop</td>\n",
       "      <td>556.0</td>\n",
       "    </tr>\n",
       "    <tr>\n",
       "      <th>10567733</th>\n",
       "      <td>9uqfg8txu3</td>\n",
       "      <td>edit</td>\n",
       "      <td>view</td>\n",
       "      <td>edit_profile</td>\n",
       "      <td>Windows Desktop</td>\n",
       "      <td>6624.0</td>\n",
       "    </tr>\n",
       "    <tr>\n",
       "      <th>10567734</th>\n",
       "      <td>9uqfg8txu3</td>\n",
       "      <td>webcam_upload</td>\n",
       "      <td>-unknown-</td>\n",
       "      <td>-unknown-</td>\n",
       "      <td>Windows Desktop</td>\n",
       "      <td>200125.0</td>\n",
       "    </tr>\n",
       "    <tr>\n",
       "      <th>10567735</th>\n",
       "      <td>9uqfg8txu3</td>\n",
       "      <td>active</td>\n",
       "      <td>-unknown-</td>\n",
       "      <td>-unknown-</td>\n",
       "      <td>-unknown-</td>\n",
       "      <td>17624.0</td>\n",
       "    </tr>\n",
       "    <tr>\n",
       "      <th>10567736</th>\n",
       "      <td>9uqfg8txu3</td>\n",
       "      <td>show_personalize</td>\n",
       "      <td>data</td>\n",
       "      <td>user_profile_content_update</td>\n",
       "      <td>Windows Desktop</td>\n",
       "      <td>1221.0</td>\n",
       "    </tr>\n",
       "  </tbody>\n",
       "</table>\n",
       "<p>9213930 rows × 6 columns</p>\n",
       "</div>"
      ],
      "text/plain": [
       "             user_id            action action_type  \\\n",
       "1         d1mm9tcy42    search_results       click   \n",
       "3         d1mm9tcy42    search_results       click   \n",
       "5         d1mm9tcy42    search_results       click   \n",
       "7         d1mm9tcy42       personalize        data   \n",
       "8         d1mm9tcy42             index        view   \n",
       "...              ...               ...         ...   \n",
       "10567732  9uqfg8txu3         dashboard        view   \n",
       "10567733  9uqfg8txu3              edit        view   \n",
       "10567734  9uqfg8txu3     webcam_upload   -unknown-   \n",
       "10567735  9uqfg8txu3            active   -unknown-   \n",
       "10567736  9uqfg8txu3  show_personalize        data   \n",
       "\n",
       "                        action_detail      device_type  secs_elapsed  \n",
       "1                 view_search_results  Windows Desktop       67753.0  \n",
       "3                 view_search_results  Windows Desktop       22141.0  \n",
       "5                 view_search_results  Windows Desktop        7703.0  \n",
       "7             wishlist_content_update  Windows Desktop         831.0  \n",
       "8                 view_search_results  Windows Desktop       20842.0  \n",
       "...                               ...              ...           ...  \n",
       "10567732                    dashboard  Windows Desktop         556.0  \n",
       "10567733                 edit_profile  Windows Desktop        6624.0  \n",
       "10567734                    -unknown-  Windows Desktop      200125.0  \n",
       "10567735                    -unknown-        -unknown-       17624.0  \n",
       "10567736  user_profile_content_update  Windows Desktop        1221.0  \n",
       "\n",
       "[9213930 rows x 6 columns]"
      ]
     },
     "execution_count": 30,
     "metadata": {},
     "output_type": "execute_result"
    }
   ],
   "source": [
    "session\n"
   ]
  },
  {
   "cell_type": "code",
   "execution_count": 36,
   "id": "269ea23c",
   "metadata": {},
   "outputs": [],
   "source": [
    "session = session[~session.isin(['-unknown-']).any(axis=1)]"
   ]
  },
  {
   "cell_type": "code",
   "execution_count": 38,
   "id": "ece5e635",
   "metadata": {},
   "outputs": [],
   "source": [
    "session = session.drop_duplicates()"
   ]
  },
  {
   "cell_type": "code",
   "execution_count": 44,
   "id": "51f858f1",
   "metadata": {},
   "outputs": [
    {
     "data": {
      "text/html": [
       "<div>\n",
       "<style scoped>\n",
       "    .dataframe tbody tr th:only-of-type {\n",
       "        vertical-align: middle;\n",
       "    }\n",
       "\n",
       "    .dataframe tbody tr th {\n",
       "        vertical-align: top;\n",
       "    }\n",
       "\n",
       "    .dataframe thead th {\n",
       "        text-align: right;\n",
       "    }\n",
       "</style>\n",
       "<table border=\"1\" class=\"dataframe\">\n",
       "  <thead>\n",
       "    <tr style=\"text-align: right;\">\n",
       "      <th></th>\n",
       "      <th>user_id</th>\n",
       "      <th>action</th>\n",
       "      <th>action_type</th>\n",
       "      <th>action_detail</th>\n",
       "      <th>device_type</th>\n",
       "      <th>secs_elapsed</th>\n",
       "    </tr>\n",
       "  </thead>\n",
       "  <tbody>\n",
       "    <tr>\n",
       "      <th>1</th>\n",
       "      <td>d1mm9tcy42</td>\n",
       "      <td>search_results</td>\n",
       "      <td>click</td>\n",
       "      <td>view_search_results</td>\n",
       "      <td>Windows Desktop</td>\n",
       "      <td>67753.0</td>\n",
       "    </tr>\n",
       "    <tr>\n",
       "      <th>3</th>\n",
       "      <td>d1mm9tcy42</td>\n",
       "      <td>search_results</td>\n",
       "      <td>click</td>\n",
       "      <td>view_search_results</td>\n",
       "      <td>Windows Desktop</td>\n",
       "      <td>22141.0</td>\n",
       "    </tr>\n",
       "    <tr>\n",
       "      <th>5</th>\n",
       "      <td>d1mm9tcy42</td>\n",
       "      <td>search_results</td>\n",
       "      <td>click</td>\n",
       "      <td>view_search_results</td>\n",
       "      <td>Windows Desktop</td>\n",
       "      <td>7703.0</td>\n",
       "    </tr>\n",
       "    <tr>\n",
       "      <th>7</th>\n",
       "      <td>d1mm9tcy42</td>\n",
       "      <td>personalize</td>\n",
       "      <td>data</td>\n",
       "      <td>wishlist_content_update</td>\n",
       "      <td>Windows Desktop</td>\n",
       "      <td>831.0</td>\n",
       "    </tr>\n",
       "    <tr>\n",
       "      <th>8</th>\n",
       "      <td>d1mm9tcy42</td>\n",
       "      <td>index</td>\n",
       "      <td>view</td>\n",
       "      <td>view_search_results</td>\n",
       "      <td>Windows Desktop</td>\n",
       "      <td>20842.0</td>\n",
       "    </tr>\n",
       "    <tr>\n",
       "      <th>...</th>\n",
       "      <td>...</td>\n",
       "      <td>...</td>\n",
       "      <td>...</td>\n",
       "      <td>...</td>\n",
       "      <td>...</td>\n",
       "      <td>...</td>\n",
       "    </tr>\n",
       "    <tr>\n",
       "      <th>10567730</th>\n",
       "      <td>9uqfg8txu3</td>\n",
       "      <td>edit</td>\n",
       "      <td>view</td>\n",
       "      <td>edit_profile</td>\n",
       "      <td>Windows Desktop</td>\n",
       "      <td>1752436.0</td>\n",
       "    </tr>\n",
       "    <tr>\n",
       "      <th>10567731</th>\n",
       "      <td>9uqfg8txu3</td>\n",
       "      <td>edit</td>\n",
       "      <td>view</td>\n",
       "      <td>edit_profile</td>\n",
       "      <td>Windows Desktop</td>\n",
       "      <td>15875.0</td>\n",
       "    </tr>\n",
       "    <tr>\n",
       "      <th>10567732</th>\n",
       "      <td>9uqfg8txu3</td>\n",
       "      <td>dashboard</td>\n",
       "      <td>view</td>\n",
       "      <td>dashboard</td>\n",
       "      <td>Windows Desktop</td>\n",
       "      <td>556.0</td>\n",
       "    </tr>\n",
       "    <tr>\n",
       "      <th>10567733</th>\n",
       "      <td>9uqfg8txu3</td>\n",
       "      <td>edit</td>\n",
       "      <td>view</td>\n",
       "      <td>edit_profile</td>\n",
       "      <td>Windows Desktop</td>\n",
       "      <td>6624.0</td>\n",
       "    </tr>\n",
       "    <tr>\n",
       "      <th>10567736</th>\n",
       "      <td>9uqfg8txu3</td>\n",
       "      <td>show_personalize</td>\n",
       "      <td>data</td>\n",
       "      <td>user_profile_content_update</td>\n",
       "      <td>Windows Desktop</td>\n",
       "      <td>1221.0</td>\n",
       "    </tr>\n",
       "  </tbody>\n",
       "</table>\n",
       "<p>7904295 rows × 6 columns</p>\n",
       "</div>"
      ],
      "text/plain": [
       "             user_id            action action_type  \\\n",
       "1         d1mm9tcy42    search_results       click   \n",
       "3         d1mm9tcy42    search_results       click   \n",
       "5         d1mm9tcy42    search_results       click   \n",
       "7         d1mm9tcy42       personalize        data   \n",
       "8         d1mm9tcy42             index        view   \n",
       "...              ...               ...         ...   \n",
       "10567730  9uqfg8txu3              edit        view   \n",
       "10567731  9uqfg8txu3              edit        view   \n",
       "10567732  9uqfg8txu3         dashboard        view   \n",
       "10567733  9uqfg8txu3              edit        view   \n",
       "10567736  9uqfg8txu3  show_personalize        data   \n",
       "\n",
       "                        action_detail      device_type  secs_elapsed  \n",
       "1                 view_search_results  Windows Desktop       67753.0  \n",
       "3                 view_search_results  Windows Desktop       22141.0  \n",
       "5                 view_search_results  Windows Desktop        7703.0  \n",
       "7             wishlist_content_update  Windows Desktop         831.0  \n",
       "8                 view_search_results  Windows Desktop       20842.0  \n",
       "...                               ...              ...           ...  \n",
       "10567730                 edit_profile  Windows Desktop     1752436.0  \n",
       "10567731                 edit_profile  Windows Desktop       15875.0  \n",
       "10567732                    dashboard  Windows Desktop         556.0  \n",
       "10567733                 edit_profile  Windows Desktop        6624.0  \n",
       "10567736  user_profile_content_update  Windows Desktop        1221.0  \n",
       "\n",
       "[7904295 rows x 6 columns]"
      ]
     },
     "execution_count": 44,
     "metadata": {},
     "output_type": "execute_result"
    }
   ],
   "source": [
    "session"
   ]
  },
  {
   "cell_type": "code",
   "execution_count": null,
   "id": "a8953281",
   "metadata": {},
   "outputs": [],
   "source": []
  }
 ],
 "metadata": {
  "kernelspec": {
   "display_name": "Python 3 (ipykernel)",
   "language": "python",
   "name": "python3"
  },
  "language_info": {
   "codemirror_mode": {
    "name": "ipython",
    "version": 3
   },
   "file_extension": ".py",
   "mimetype": "text/x-python",
   "name": "python",
   "nbconvert_exporter": "python",
   "pygments_lexer": "ipython3",
   "version": "3.9.13"
  }
 },
 "nbformat": 4,
 "nbformat_minor": 5
}
